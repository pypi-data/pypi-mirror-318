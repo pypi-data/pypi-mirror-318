{
 "cells": [
  {
   "cell_type": "code",
   "execution_count": 1,
   "id": "48260b35-90c7-45e2-99ad-6390176c02a0",
   "metadata": {},
   "outputs": [],
   "source": [
    "import fredquery.fredplot"
   ]
  },
  {
   "cell_type": "code",
   "execution_count": 2,
   "id": "f1b6059d-a685-434c-be0c-a9e47d868e51",
   "metadata": {},
   "outputs": [],
   "source": [
    "FP = fredquery.fredplot.FREDPlot()"
   ]
  },
  {
   "cell_type": "code",
   "execution_count": 3,
   "id": "87825718-9344-40fe-bc1e-9d1a297e466f",
   "metadata": {},
   "outputs": [
    {
     "name": "stderr",
     "output_type": "stream",
     "text": [
      "Error query(https://api.stlouisfed.org/fred/series?series_id=A043RC1A027NBEA): Too Many Requests\n"
     ]
    },
    {
     "name": "stdout",
     "output_type": "stream",
     "text": [
      "retrying in 2 seconds\n"
     ]
    },
    {
     "name": "stderr",
     "output_type": "stream",
     "text": [
      "Error query(https://api.stlouisfed.org/fred/series?series_id=A043RC1A027NBEA): Too Many Requests\n"
     ]
    },
    {
     "name": "stdout",
     "output_type": "stream",
     "text": [
      "retrying in 4 seconds\n"
     ]
    },
    {
     "name": "stderr",
     "output_type": "stream",
     "text": [
      "Error query(https://api.stlouisfed.org/fred/series?series_id=A043RC1A027NBEA): Too Many Requests\n"
     ]
    },
    {
     "name": "stdout",
     "output_type": "stream",
     "text": [
      "retrying in 8 seconds\n"
     ]
    },
    {
     "name": "stderr",
     "output_type": "stream",
     "text": [
      "Error query(https://api.stlouisfed.org/fred/series?series_id=A152RX1A020NBEA): Too Many Requests\n"
     ]
    },
    {
     "name": "stdout",
     "output_type": "stream",
     "text": [
      "retrying in 2 seconds\n"
     ]
    },
    {
     "name": "stderr",
     "output_type": "stream",
     "text": [
      "Error query(https://api.stlouisfed.org/fred/series?series_id=A152RX1A020NBEA): Too Many Requests\n"
     ]
    },
    {
     "name": "stdout",
     "output_type": "stream",
     "text": [
      "retrying in 4 seconds\n"
     ]
    },
    {
     "name": "stderr",
     "output_type": "stream",
     "text": [
      "Error query(https://api.stlouisfed.org/fred/series?series_id=A152RX1A020NBEA): Too Many Requests\n"
     ]
    },
    {
     "name": "stdout",
     "output_type": "stream",
     "text": [
      "retrying in 8 seconds\n"
     ]
    },
    {
     "name": "stderr",
     "output_type": "stream",
     "text": [
      "Error query(https://api.stlouisfed.org/fred/series?series_id=A152RX1A020NBEA): Too Many Requests\n"
     ]
    },
    {
     "name": "stdout",
     "output_type": "stream",
     "text": [
      "retrying in 16 seconds\n"
     ]
    },
    {
     "name": "stderr",
     "output_type": "stream",
     "text": [
      "Error query(https://api.stlouisfed.org/fred/series?series_id=A2106C1A027NBEA): Too Many Requests\n"
     ]
    },
    {
     "name": "stdout",
     "output_type": "stream",
     "text": [
      "retrying in 2 seconds\n"
     ]
    },
    {
     "name": "stderr",
     "output_type": "stream",
     "text": [
      "Error query(https://api.stlouisfed.org/fred/series?series_id=A2106C1A027NBEA): Too Many Requests\n"
     ]
    },
    {
     "name": "stdout",
     "output_type": "stream",
     "text": [
      "retrying in 4 seconds\n"
     ]
    },
    {
     "name": "stderr",
     "output_type": "stream",
     "text": [
      "Error query(https://api.stlouisfed.org/fred/series?series_id=A2106C1A027NBEA): Too Many Requests\n"
     ]
    },
    {
     "name": "stdout",
     "output_type": "stream",
     "text": [
      "retrying in 8 seconds\n"
     ]
    },
    {
     "name": "stderr",
     "output_type": "stream",
     "text": [
      "Error query(https://api.stlouisfed.org/fred/series?series_id=A2106C1A027NBEA): Too Many Requests\n"
     ]
    },
    {
     "name": "stdout",
     "output_type": "stream",
     "text": [
      "retrying in 16 seconds\n"
     ]
    },
    {
     "name": "stderr",
     "output_type": "stream",
     "text": [
      "Error query(https://api.stlouisfed.org/fred/series?series_id=A266RX1A020NBEA): Too Many Requests\n"
     ]
    },
    {
     "name": "stdout",
     "output_type": "stream",
     "text": [
      "retrying in 2 seconds\n"
     ]
    },
    {
     "name": "stderr",
     "output_type": "stream",
     "text": [
      "Error query(https://api.stlouisfed.org/fred/series?series_id=A266RX1A020NBEA): Too Many Requests\n"
     ]
    },
    {
     "name": "stdout",
     "output_type": "stream",
     "text": [
      "retrying in 4 seconds\n"
     ]
    },
    {
     "name": "stderr",
     "output_type": "stream",
     "text": [
      "Error query(https://api.stlouisfed.org/fred/series?series_id=A266RX1A020NBEA): Too Many Requests\n"
     ]
    },
    {
     "name": "stdout",
     "output_type": "stream",
     "text": [
      "retrying in 8 seconds\n"
     ]
    },
    {
     "name": "stderr",
     "output_type": "stream",
     "text": [
      "Error query(https://api.stlouisfed.org/fred/series?series_id=A266RX1A020NBEA): Too Many Requests\n"
     ]
    },
    {
     "name": "stdout",
     "output_type": "stream",
     "text": [
      "retrying in 16 seconds\n"
     ]
    },
    {
     "name": "stderr",
     "output_type": "stream",
     "text": [
      "Error query(https://api.stlouisfed.org/fred/series?series_id=A341RL1A225NBEA): Too Many Requests\n"
     ]
    },
    {
     "name": "stdout",
     "output_type": "stream",
     "text": [
      "retrying in 2 seconds\n"
     ]
    },
    {
     "name": "stderr",
     "output_type": "stream",
     "text": [
      "Error query(https://api.stlouisfed.org/fred/series?series_id=A341RL1A225NBEA): Too Many Requests\n"
     ]
    },
    {
     "name": "stdout",
     "output_type": "stream",
     "text": [
      "retrying in 4 seconds\n"
     ]
    },
    {
     "name": "stderr",
     "output_type": "stream",
     "text": [
      "Error query(https://api.stlouisfed.org/fred/series?series_id=A341RL1A225NBEA): Too Many Requests\n"
     ]
    },
    {
     "name": "stdout",
     "output_type": "stream",
     "text": [
      "retrying in 8 seconds\n"
     ]
    },
    {
     "name": "stderr",
     "output_type": "stream",
     "text": [
      "Error query(https://api.stlouisfed.org/fred/series?series_id=A341RL1A225NBEA): Too Many Requests\n"
     ]
    },
    {
     "name": "stdout",
     "output_type": "stream",
     "text": [
      "retrying in 16 seconds\n"
     ]
    },
    {
     "name": "stderr",
     "output_type": "stream",
     "text": [
      "Error query(https://api.stlouisfed.org/fred/series?series_id=A376RX1Q020SBEA): Too Many Requests\n"
     ]
    },
    {
     "name": "stdout",
     "output_type": "stream",
     "text": [
      "retrying in 2 seconds\n"
     ]
    },
    {
     "name": "stderr",
     "output_type": "stream",
     "text": [
      "Error query(https://api.stlouisfed.org/fred/series?series_id=A376RX1Q020SBEA): Too Many Requests\n"
     ]
    },
    {
     "name": "stdout",
     "output_type": "stream",
     "text": [
      "retrying in 4 seconds\n"
     ]
    },
    {
     "name": "stderr",
     "output_type": "stream",
     "text": [
      "Error query(https://api.stlouisfed.org/fred/series?series_id=A376RX1Q020SBEA): Too Many Requests\n"
     ]
    },
    {
     "name": "stdout",
     "output_type": "stream",
     "text": [
      "retrying in 8 seconds\n"
     ]
    },
    {
     "name": "stderr",
     "output_type": "stream",
     "text": [
      "Error query(https://api.stlouisfed.org/fred/series/observations?series_id=A009RO1Q156NBEA): Too Many Requests\n"
     ]
    },
    {
     "name": "stdout",
     "output_type": "stream",
     "text": [
      "retrying in 2 seconds\n"
     ]
    },
    {
     "name": "stderr",
     "output_type": "stream",
     "text": [
      "Error query(https://api.stlouisfed.org/fred/series/observations?series_id=A009RO1Q156NBEA): Too Many Requests\n"
     ]
    },
    {
     "name": "stdout",
     "output_type": "stream",
     "text": [
      "retrying in 4 seconds\n"
     ]
    },
    {
     "name": "stderr",
     "output_type": "stream",
     "text": [
      "Error query(https://api.stlouisfed.org/fred/series/observations?series_id=A009RO1Q156NBEA): Too Many Requests\n"
     ]
    },
    {
     "name": "stdout",
     "output_type": "stream",
     "text": [
      "retrying in 8 seconds\n"
     ]
    },
    {
     "name": "stderr",
     "output_type": "stream",
     "text": [
      "Error query(https://api.stlouisfed.org/fred/series/observations?series_id=A009RO1Q156NBEA): Too Many Requests\n"
     ]
    },
    {
     "name": "stdout",
     "output_type": "stream",
     "text": [
      "retrying in 16 seconds\n"
     ]
    },
    {
     "name": "stderr",
     "output_type": "stream",
     "text": [
      "Error query(https://api.stlouisfed.org/fred/series/observations?series_id=A045RC1A027NBEA): Too Many Requests\n"
     ]
    },
    {
     "name": "stdout",
     "output_type": "stream",
     "text": [
      "retrying in 2 seconds\n"
     ]
    },
    {
     "name": "stderr",
     "output_type": "stream",
     "text": [
      "Error query(https://api.stlouisfed.org/fred/series/observations?series_id=A045RC1A027NBEA): Too Many Requests\n"
     ]
    },
    {
     "name": "stdout",
     "output_type": "stream",
     "text": [
      "retrying in 4 seconds\n"
     ]
    },
    {
     "name": "stderr",
     "output_type": "stream",
     "text": [
      "Error query(https://api.stlouisfed.org/fred/series/observations?series_id=A045RC1A027NBEA): Too Many Requests\n"
     ]
    },
    {
     "name": "stdout",
     "output_type": "stream",
     "text": [
      "retrying in 8 seconds\n"
     ]
    },
    {
     "name": "stderr",
     "output_type": "stream",
     "text": [
      "Error query(https://api.stlouisfed.org/fred/series/observations?series_id=A045RC1A027NBEA): Too Many Requests\n"
     ]
    },
    {
     "name": "stdout",
     "output_type": "stream",
     "text": [
      "retrying in 16 seconds\n"
     ]
    },
    {
     "name": "stderr",
     "output_type": "stream",
     "text": [
      "Error query(https://api.stlouisfed.org/fred/series/observations?series_id=A153RC1A027NBEA): Too Many Requests\n"
     ]
    },
    {
     "name": "stdout",
     "output_type": "stream",
     "text": [
      "retrying in 2 seconds\n"
     ]
    },
    {
     "name": "stderr",
     "output_type": "stream",
     "text": [
      "Error query(https://api.stlouisfed.org/fred/series/observations?series_id=A153RC1A027NBEA): Too Many Requests\n"
     ]
    },
    {
     "name": "stdout",
     "output_type": "stream",
     "text": [
      "retrying in 4 seconds\n"
     ]
    },
    {
     "name": "stderr",
     "output_type": "stream",
     "text": [
      "Error query(https://api.stlouisfed.org/fred/series/observations?series_id=A153RC1A027NBEA): Too Many Requests\n"
     ]
    },
    {
     "name": "stdout",
     "output_type": "stream",
     "text": [
      "retrying in 8 seconds\n"
     ]
    },
    {
     "name": "stderr",
     "output_type": "stream",
     "text": [
      "Error query(https://api.stlouisfed.org/fred/series/observations?series_id=A193RX1Q020SBEA): Too Many Requests\n"
     ]
    },
    {
     "name": "stdout",
     "output_type": "stream",
     "text": [
      "retrying in 2 seconds\n"
     ]
    },
    {
     "name": "stderr",
     "output_type": "stream",
     "text": [
      "Error query(https://api.stlouisfed.org/fred/series/observations?series_id=A193RX1Q020SBEA): Too Many Requests\n"
     ]
    },
    {
     "name": "stdout",
     "output_type": "stream",
     "text": [
      "retrying in 4 seconds\n"
     ]
    },
    {
     "name": "stderr",
     "output_type": "stream",
     "text": [
      "Error query(https://api.stlouisfed.org/fred/series/observations?series_id=A193RX1Q020SBEA): Too Many Requests\n"
     ]
    },
    {
     "name": "stdout",
     "output_type": "stream",
     "text": [
      "retrying in 8 seconds\n"
     ]
    },
    {
     "name": "stderr",
     "output_type": "stream",
     "text": [
      "Error query(https://api.stlouisfed.org/fred/series/observations?series_id=A193RX1Q020SBEA): Too Many Requests\n"
     ]
    },
    {
     "name": "stdout",
     "output_type": "stream",
     "text": [
      "retrying in 16 seconds\n"
     ]
    },
    {
     "name": "stderr",
     "output_type": "stream",
     "text": [
      "Error query(https://api.stlouisfed.org/fred/series/observations?series_id=A2116C1A027NBEA): Too Many Requests\n"
     ]
    },
    {
     "name": "stdout",
     "output_type": "stream",
     "text": [
      "retrying in 2 seconds\n"
     ]
    },
    {
     "name": "stderr",
     "output_type": "stream",
     "text": [
      "Error query(https://api.stlouisfed.org/fred/series/observations?series_id=A2116C1A027NBEA): Too Many Requests\n"
     ]
    },
    {
     "name": "stdout",
     "output_type": "stream",
     "text": [
      "retrying in 4 seconds\n"
     ]
    },
    {
     "name": "stderr",
     "output_type": "stream",
     "text": [
      "Error query(https://api.stlouisfed.org/fred/series/observations?series_id=A2116C1A027NBEA): Too Many Requests\n"
     ]
    },
    {
     "name": "stdout",
     "output_type": "stream",
     "text": [
      "retrying in 8 seconds\n"
     ]
    },
    {
     "name": "stderr",
     "output_type": "stream",
     "text": [
      "Error query(https://api.stlouisfed.org/fred/series/observations?series_id=A3069C0A144NBEA): Too Many Requests\n"
     ]
    },
    {
     "name": "stdout",
     "output_type": "stream",
     "text": [
      "retrying in 2 seconds\n"
     ]
    },
    {
     "name": "stderr",
     "output_type": "stream",
     "text": [
      "Error query(https://api.stlouisfed.org/fred/series/observations?series_id=A3069C0A144NBEA): Too Many Requests\n"
     ]
    },
    {
     "name": "stdout",
     "output_type": "stream",
     "text": [
      "retrying in 4 seconds\n"
     ]
    },
    {
     "name": "stderr",
     "output_type": "stream",
     "text": [
      "Error query(https://api.stlouisfed.org/fred/series/observations?series_id=A3069C0A144NBEA): Too Many Requests\n"
     ]
    },
    {
     "name": "stdout",
     "output_type": "stream",
     "text": [
      "retrying in 8 seconds\n"
     ]
    },
    {
     "name": "stderr",
     "output_type": "stream",
     "text": [
      "Error query(https://api.stlouisfed.org/fred/series/observations?series_id=A3069C0A144NBEA): Too Many Requests\n"
     ]
    },
    {
     "name": "stdout",
     "output_type": "stream",
     "text": [
      "retrying in 16 seconds\n"
     ]
    },
    {
     "name": "stderr",
     "output_type": "stream",
     "text": [
      "Error query(https://api.stlouisfed.org/fred/series/observations?series_id=A3436C0A144NBEA): Too Many Requests\n"
     ]
    },
    {
     "name": "stdout",
     "output_type": "stream",
     "text": [
      "retrying in 2 seconds\n"
     ]
    },
    {
     "name": "stderr",
     "output_type": "stream",
     "text": [
      "Error query(https://api.stlouisfed.org/fred/series/observations?series_id=A3436C0A144NBEA): Too Many Requests\n"
     ]
    },
    {
     "name": "stdout",
     "output_type": "stream",
     "text": [
      "retrying in 4 seconds\n"
     ]
    },
    {
     "name": "stderr",
     "output_type": "stream",
     "text": [
      "Error query(https://api.stlouisfed.org/fred/series/observations?series_id=A3436C0A144NBEA): Too Many Requests\n"
     ]
    },
    {
     "name": "stdout",
     "output_type": "stream",
     "text": [
      "retrying in 8 seconds\n"
     ]
    },
    {
     "name": "stderr",
     "output_type": "stream",
     "text": [
      "Error query(https://api.stlouisfed.org/fred/series/observations?series_id=A3436C0A144NBEA): Too Many Requests\n"
     ]
    },
    {
     "name": "stdout",
     "output_type": "stream",
     "text": [
      "retrying in 16 seconds\n"
     ]
    },
    {
     "name": "stderr",
     "output_type": "stream",
     "text": [
      "Error query(https://api.stlouisfed.org/fred/series/observations?series_id=A380RD3Q086SBEA): Too Many Requests\n"
     ]
    },
    {
     "name": "stdout",
     "output_type": "stream",
     "text": [
      "retrying in 2 seconds\n"
     ]
    },
    {
     "name": "stderr",
     "output_type": "stream",
     "text": [
      "Error query(https://api.stlouisfed.org/fred/series/observations?series_id=A380RD3Q086SBEA): Too Many Requests\n"
     ]
    },
    {
     "name": "stdout",
     "output_type": "stream",
     "text": [
      "retrying in 4 seconds\n"
     ]
    }
   ],
   "source": [
    "FP.plottagname('gdp', '/tmp')"
   ]
  },
  {
   "cell_type": "code",
   "execution_count": null,
   "id": "858fbe17-d562-40c1-bd90-0308c7b9a5c2",
   "metadata": {},
   "outputs": [],
   "source": []
  }
 ],
 "metadata": {
  "kernelspec": {
   "display_name": "Python 3 (ipykernel)",
   "language": "python",
   "name": "python3"
  },
  "language_info": {
   "codemirror_mode": {
    "name": "ipython",
    "version": 3
   },
   "file_extension": ".py",
   "mimetype": "text/x-python",
   "name": "python",
   "nbconvert_exporter": "python",
   "pygments_lexer": "ipython3",
   "version": "3.10.13"
  }
 },
 "nbformat": 4,
 "nbformat_minor": 5
}
