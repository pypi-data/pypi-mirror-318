{
 "cells": [
  {
   "cell_type": "code",
   "execution_count": 4,
   "metadata": {},
   "outputs": [
    {
     "name": "stderr",
     "output_type": "stream",
     "text": [
      "Device set to use cuda:0\n"
     ]
    },
    {
     "data": {
      "text/plain": [
       "(array([0.00000000e+00, 0.00000000e+00, 0.00000000e+00, ...,\n",
       "        3.10245123e-05, 2.96128819e-05, 2.20890324e-05], shape=(30528,)),\n",
       " 24000)"
      ]
     },
     "execution_count": 4,
     "metadata": {},
     "output_type": "execute_result"
    }
   ],
   "source": [
    "import tts_evaluate_yue\n",
    "import tts_evaluate_yue.asr.huggingface\n",
    "import tts_evaluate_yue.asr.faster_whisper\n",
    "import tts_evaluate_yue.tts.gtts\n",
    "\n",
    "hf_asr = tts_evaluate_yue.asr.huggingface.ASR(\n",
    "    \"/home/sage/datapreprocess/yue_v5_hf\",\n",
    "    \"/home/sage/datapreprocess/yue_v5_hf\"\n",
    ")\n",
    "faster_asr = tts_evaluate_yue.asr.faster_whisper.ASR(\n",
    "    \"/home/sage/datapreprocess/yue_v5_faster\"\n",
    ")\n",
    "# tts = tts_evaluate_yue.CosyVoiceTTS(\n",
    "#     \"/home/sage/CosyVoice/pretrained_models/CosyVoice-300M-SFT\"\n",
    "# )\n",
    "gtts = tts_evaluate_yue.tts.gtts.TTS()\n",
    "gtts.get_tts(\"你好\")"
   ]
  },
  {
   "cell_type": "code",
   "execution_count": 2,
   "metadata": {},
   "outputs": [],
   "source": [
    "import torchaudio\n",
    "\n",
    "waveform, sample_rate = torchaudio.load(\"yue.mp3\")"
   ]
  },
  {
   "cell_type": "code",
   "execution_count": 4,
   "metadata": {},
   "outputs": [
    {
     "name": "stderr",
     "output_type": "stream",
     "text": [
      "You have passed language=yue, but also have set `forced_decoder_ids` to [[1, None], [2, 50360]] which creates a conflict. `forced_decoder_ids` will be ignored in favor of language=yue.\n"
     ]
    },
    {
     "name": "stdout",
     "output_type": "stream",
     "text": [
      "('要問一件龜，出問一件紙，可話龜龜過紙或紙龜過龜，咁究竟龜過紙定係紙龜過龜。', 'yue')\n",
      "('一問一件詭，七問一件詞，佢話詭詭詭詭詭詭詭詭詭詭詭詭詭詭詭詭詭詭詭詭詭詭詭詭詭詭詭詭詭詭詭詭詭詭詭詭詭詭詭詭詭詭詭詭詭詭詭詭詭詭詭詭詭詭詭詭詭詭詭詭詭詭詭詭詭詭詭詭詭詭詭詭詭詭詭詭詭詭詭詭詭詭詭詭詭詭詭詭詭詭詭詭詭詭詭詭詭詭詭詭詭詭詭詭詭詭詭詭詭詭詭詭詭詭詭詭詭詭詭詭詭詭詭詭詭詭詭詭詭詭詭詭詭詭詭詭詭詭詭詭詭詭詭詭詭詭詭詭詭詭詭詭詭詭詭詭詭詭詭詭詭詭詭詭詭詭詭詭詭詭詭詭詭詭詭詭詭詭詭詭詭詭詭詭詭詭詭詭詭詭詭詭詭詭詭詭詭詭詭詭詭詭詭詭詭詭詭詭詭詭詭�', 'yue')\n"
     ]
    }
   ],
   "source": [
    "print(faster_asr.get_asr(waveform.numpy()[0], \"yue\"))\n",
    "print(hf_asr.get_asr(waveform.numpy()[0], \"yue\"))"
   ]
  },
  {
   "cell_type": "code",
   "execution_count": null,
   "metadata": {},
   "outputs": [],
   "source": []
  },
  {
   "cell_type": "code",
   "execution_count": null,
   "metadata": {},
   "outputs": [],
   "source": []
  },
  {
   "cell_type": "code",
   "execution_count": null,
   "metadata": {},
   "outputs": [],
   "source": []
  }
 ],
 "metadata": {
  "kernelspec": {
   "display_name": ".venv",
   "language": "python",
   "name": "python3"
  },
  "language_info": {
   "codemirror_mode": {
    "name": "ipython",
    "version": 3
   },
   "file_extension": ".py",
   "mimetype": "text/x-python",
   "name": "python",
   "nbconvert_exporter": "python",
   "pygments_lexer": "ipython3",
   "version": "3.11.10"
  }
 },
 "nbformat": 4,
 "nbformat_minor": 2
}
