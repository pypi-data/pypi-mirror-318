{
 "cells": [
  {
   "cell_type": "markdown",
   "metadata": {},
   "source": [
    "# Hyperparameter Optimization of GENIE3-LightGBM"
   ]
  },
  {
   "cell_type": "code",
   "execution_count": 7,
   "metadata": {},
   "outputs": [],
   "source": [
    "from pathlib import Path\n",
    "\n",
    "import optuna\n",
    "\n",
    "from genie3.data import init_grn_dataset\n",
    "from genie3.eval import run_evaluation\n",
    "from genie3.genie3 import run\n",
    "from genie3.config import RegressorConfig\n",
    "\n",
    "# FYI: Objective functions can take additional arguments\n",
    "# (https://optuna.readthedocs.io/en/stable/faq.html#objective-func-additional-args).\n",
    "def lgbm_objective(trial: optuna.Trial, root: Path):\n",
    "    lgbm_type = \"LGBM\"\n",
    "    lgbm_init_params = {\n",
    "        \"n_estimators\": trial.suggest_int(\"n_estimators\", 100, 1000, step=100),\n",
    "        \"learning_rate\" : 0.01,\n",
    "        \"subsample\": trial.suggest_float(\"subsample\", 1e-1, 1.0, log=True),\n",
    "        \"colsample_bytree\": trial.suggest_float(\n",
    "            \"max_features\", 1e-1, 1.0, log=True\n",
    "        ),\n",
    "        \"max_depth\": 3,\n",
    "        \"max_leaf_nodes\": 2**3,\n",
    "        \"n_iter_no_change\": 25,\n",
    "        \"random_state\": 42,\n",
    "        \"importance_type\": \"gain\",\n",
    "        \"extra_trees\": True,\n",
    "        \"early_stopping_min_delta\": 1e-4,\n",
    "        \"n_jobs\": 8,\n",
    "        \"verbosity\": -1,\n",
    "    }\n",
    "    regressor_config = RegressorConfig(\n",
    "        lgbm_type=lgbm_type,\n",
    "        lgbm_init_params=lgbm_init_params,\n",
    "    )\n",
    "    grn_dataset = init_grn_dataset(\n",
    "        root / \"gene_expression_data.tsv\",\n",
    "        root / \"transcription_factors.tsv\",\n",
    "        root / \"reference_network_data.tsv\",\n",
    "    )\n",
    "    predicted_network = run(\n",
    "        grn_dataset,\n",
    "        regressor_config,\n",
    "    )\n",
    "    results = run_evaluation(predicted_network, grn_dataset.reference_network)\n",
    "    return results.auroc"
   ]
  },
  {
   "cell_type": "code",
   "execution_count": 8,
   "metadata": {},
   "outputs": [],
   "source": [
    "def rf_objective(trial: optuna.Trial, root: Path):\n",
    "    rf_type = \"RF\"\n",
    "    rf_init_params = {\n",
    "        \"n_estimators\": trial.suggest_int(\"n_estimators\", 100, 1000, step=100),\n",
    "        \"max_features\": trial.suggest_float(\"max_features\", 0.1, 1.0),\n",
    "        \"max_depth\": trial.suggest_int(\"max_depth\", 3, 5),\n",
    "        \"bootstrap\" : True,\n",
    "        \"random_state\": 42,\n",
    "        \"n_jobs\": 8,\n",
    "        \"verbose\": 0,\n",
    "    }\n",
    "    regressor_config = RegressorConfig(\n",
    "        lgbm_type=rf_type,\n",
    "        lgbm_init_params=rf_init_params,\n",
    "    )\n",
    "    grn_dataset = init_grn_dataset(\n",
    "        root / \"gene_expression_data.tsv\",\n",
    "        root / \"transcription_factors.tsv\",\n",
    "        root / \"reference_network_data.tsv\",\n",
    "    )\n",
    "    predicted_network = run(\n",
    "        grn_dataset,\n",
    "        regressor_config,\n",
    "    )\n",
    "    results = run_evaluation(predicted_network, grn_dataset.reference_network)\n",
    "    return results.auroc"
   ]
  },
  {
   "cell_type": "code",
   "execution_count": 9,
   "metadata": {},
   "outputs": [],
   "source": [
    "def et_objective(trial: optuna.Trial, root: Path):\n",
    "    et_type = \"ET\"\n",
    "    et_init_params = {\n",
    "        \"n_estimators\": trial.suggest_int(\"n_estimators\", 100, 1000, step=100),\n",
    "        \"max_features\": trial.suggest_float(\"max_features\", 0.1, 1.0),\n",
    "        \"max_depth\": trial.suggest_int(\"max_depth\", 3, 5),\n",
    "        \"bootstrap\" : True,\n",
    "        \"random_state\": 42,\n",
    "        \"n_jobs\": 8,\n",
    "        \"verbose\": 0,\n",
    "    }\n",
    "    regressor_config = RegressorConfig(\n",
    "        lgbm_type=et_type,\n",
    "        lgbm_init_params=et_init_params,\n",
    "    )\n",
    "    grn_dataset = init_grn_dataset(\n",
    "        root / \"gene_expression_data.tsv\",\n",
    "        root / \"transcription_factors.tsv\",\n",
    "        root / \"reference_network_data.tsv\",\n",
    "    )\n",
    "    predicted_network = run(\n",
    "        grn_dataset,\n",
    "        regressor_config,\n",
    "    )\n",
    "    results = run_evaluation(predicted_network, grn_dataset.reference_network)\n",
    "    return results.auroc"
   ]
  },
  {
   "cell_type": "code",
   "execution_count": 10,
   "metadata": {},
   "outputs": [],
   "source": [
    "objective = et_objective"
   ]
  },
  {
   "cell_type": "code",
   "execution_count": null,
   "metadata": {},
   "outputs": [],
   "source": [
    "ROOT: Path = Path(\"../local_data/processed/dream_five/net1_in-silico\")\n",
    "\n",
    "if __name__ == \"__main__\":\n",
    "    study = optuna.create_study(direction=\"maximize\", sampler=optuna.samplers.TPESampler(), pruner=optuna.pruners.HyperbandPruner())\n",
    "    study.optimize(lambda trial: objective(trial, root=ROOT), n_trials=30)\n",
    "\n",
    "    print(\"Number of finished trials: {}\".format(len(study.trials)))\n",
    "\n",
    "    print(\"Best trial:\")\n",
    "    trial = study.best_trial\n",
    "\n",
    "    print(\"  Value: {}\".format(trial.value))\n",
    "\n",
    "    print(\"  Params: \")\n",
    "    for key, value in trial.params.items():\n",
    "        print(\"    {}: {}\".format(key, value))"
   ]
  }
 ],
 "metadata": {
  "kernelspec": {
   "display_name": ".venv",
   "language": "python",
   "name": "python3"
  },
  "language_info": {
   "codemirror_mode": {
    "name": "ipython",
    "version": 3
   },
   "file_extension": ".py",
   "mimetype": "text/x-python",
   "name": "python",
   "nbconvert_exporter": "python",
   "pygments_lexer": "ipython3",
   "version": "3.12.5"
  }
 },
 "nbformat": 4,
 "nbformat_minor": 2
}
