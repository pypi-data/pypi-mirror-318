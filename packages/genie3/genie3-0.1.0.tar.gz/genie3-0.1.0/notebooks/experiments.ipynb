{
 "cells": [
  {
   "cell_type": "code",
   "execution_count": 3,
   "metadata": {},
   "outputs": [
    {
     "data": {
      "text/plain": [
       "{'data': {'gene_expressions_path': PosixPath('local_data/processed/dream_five/net1_in-silico/gene_expression_data.tsv'),\n",
       "  'transcription_factors_path': PosixPath('local_data/processed/dream_five/net1_in-silico/transcription_factors.tsv'),\n",
       "  'reference_network_path': PosixPath('local_data/processed/dream_five/net1_in-silico/reference_network_data.tsv')},\n",
       " 'regressor': {'name': 'ExtraTreesRegressor',\n",
       "  'init_params': {'n_estimators': 200,\n",
       "   'random_state': 42,\n",
       "   'n_jobs': 8,\n",
       "   'max_features': '1.0',\n",
       "   'bootstrap': True},\n",
       "  'fit_params': {}}}"
      ]
     },
     "execution_count": 3,
     "metadata": {},
     "output_type": "execute_result"
    }
   ],
   "source": [
    "from yaml import safe_load\n",
    "from genie3.config import GENIE3Config\n",
    "\n",
    "cfg_path = \"../configs/extratrees.yaml\"\n",
    "with open(cfg_path, \"r\") as f:\n",
    "    cfg = safe_load(f)\n",
    "cfg = GENIE3Config.model_validate(cfg)\n",
    "cfg.model_dump()"
   ]
  },
  {
   "cell_type": "code",
   "execution_count": 10,
   "metadata": {},
   "outputs": [
    {
     "data": {
      "text/html": [
       "<div>\n",
       "<style scoped>\n",
       "    .dataframe tbody tr th:only-of-type {\n",
       "        vertical-align: middle;\n",
       "    }\n",
       "\n",
       "    .dataframe tbody tr th {\n",
       "        vertical-align: top;\n",
       "    }\n",
       "\n",
       "    .dataframe thead th {\n",
       "        text-align: right;\n",
       "    }\n",
       "</style>\n",
       "<table border=\"1\" class=\"dataframe\">\n",
       "  <thead>\n",
       "    <tr style=\"text-align: right;\">\n",
       "      <th></th>\n",
       "      <th>data.gene_expressions_path</th>\n",
       "      <th>data.transcription_factors_path</th>\n",
       "      <th>data.reference_network_path</th>\n",
       "      <th>regressor.name</th>\n",
       "      <th>regressor.init_params</th>\n",
       "      <th>regressor.fit_params</th>\n",
       "    </tr>\n",
       "  </thead>\n",
       "  <tbody>\n",
       "  </tbody>\n",
       "</table>\n",
       "</div>"
      ],
      "text/plain": [
       "Empty DataFrame\n",
       "Columns: [data.gene_expressions_path, data.transcription_factors_path, data.reference_network_path, regressor.name, regressor.init_params, regressor.fit_params]\n",
       "Index: []"
      ]
     },
     "execution_count": 10,
     "metadata": {},
     "output_type": "execute_result"
    }
   ],
   "source": [
    "import pandas as pd\n",
    "import collections\n",
    "\n",
    "def flatten(dictionary, parent_key=False, separator='.', depth=2):\n",
    "    \"\"\"\n",
    "    Turn a nested dictionary into a flattened dictionary up to a specified depth\n",
    "    :param dictionary: The dictionary to flatten\n",
    "    :param parent_key: The string to prepend to dictionary's keys\n",
    "    :param separator: The string used to separate flattened keys\n",
    "    :param depth: The maximum depth to flatten\n",
    "    :return: A flattened dictionary\n",
    "    \"\"\"\n",
    "\n",
    "    items = []\n",
    "    for key, value in dictionary.items():\n",
    "        new_key = str(parent_key) + separator + key if parent_key else key\n",
    "        if isinstance(value, collections.abc.MutableMapping) and depth > 1:\n",
    "            items.extend(flatten(value, new_key, separator, depth - 1).items())\n",
    "        elif isinstance(value, list) and depth > 1:\n",
    "            for k, v in enumerate(value):\n",
    "                items.extend(flatten({str(k): v}, new_key, separator, depth - 1).items())\n",
    "        else:\n",
    "            items.append((new_key, value))\n",
    "    return dict(items)\n",
    "\n",
    "\n",
    "df_columns = flatten(cfg.model_dump()).keys()\n",
    "df_columns.append(\"auroc\")\n",
    "df_columns.append(\"num_clients\")\n",
    "results_df = pd.DataFrame(columns=auroc)"
   ]
  },
  {
   "cell_type": "code",
   "execution_count": 11,
   "metadata": {},
   "outputs": [
    {
     "ename": "NameError",
     "evalue": "name 'results_df' is not defined",
     "output_type": "error",
     "traceback": [
      "\u001b[0;31m---------------------------------------------------------------------------\u001b[0m",
      "\u001b[0;31mNameError\u001b[0m                                 Traceback (most recent call last)",
      "Cell \u001b[0;32mIn[11], line 7\u001b[0m\n\u001b[1;32m      5\u001b[0m \u001b[38;5;28;01mif\u001b[39;00m \u001b[38;5;129;01mnot\u001b[39;00m results_dir\u001b[38;5;241m.\u001b[39mis_dir():\n\u001b[1;32m      6\u001b[0m     \u001b[38;5;28;01mcontinue\u001b[39;00m\n\u001b[0;32m----> 7\u001b[0m \u001b[43mresults_df\u001b[49m\n",
      "\u001b[0;31mNameError\u001b[0m: name 'results_df' is not defined"
     ]
    }
   ],
   "source": [
    "from pathlib import Path\n",
    "\n",
    "results_parent_dir = Path(\"../results\")\n",
    "for results_dir in results_parent_dir.iterdir():\n",
    "    if not results_dir.is_dir():\n",
    "        continue\n",
    "    results_df"
   ]
  }
 ],
 "metadata": {
  "kernelspec": {
   "display_name": ".venv",
   "language": "python",
   "name": "python3"
  },
  "language_info": {
   "codemirror_mode": {
    "name": "ipython",
    "version": 3
   },
   "file_extension": ".py",
   "mimetype": "text/x-python",
   "name": "python",
   "nbconvert_exporter": "python",
   "pygments_lexer": "ipython3",
   "version": "3.12.5"
  }
 },
 "nbformat": 4,
 "nbformat_minor": 2
}
