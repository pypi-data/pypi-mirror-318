{
 "cells": [
  {
   "cell_type": "markdown",
   "metadata": {},
   "source": [
    "A GRN dataset holds the following objects:\n",
    "- Gene Expression Matrix $\\in \\mathbb{R}^{M \\times N} $\n",
    "- Reference Network, 3-tuple: $\\text{(Regulating Gene, Target Gene, Importance Score)}^{R},R \\in \\mathbb{N} $\n",
    "- Transcription factors $\\subseteq \\mathcal{K}$ (optional)"
   ]
  },
  {
   "cell_type": "code",
   "execution_count": null,
   "metadata": {},
   "outputs": [],
   "source": [
    "from pathlib import Path\n",
    "from typing import List, Tuple\n",
    "\n",
    "import numpy as np\n",
    "import pandas as pd\n",
    "from numpy.typing import NDArray\n",
    "\n",
    "\n",
    "def load_beeline(\n",
    "    root: Path = Path(\"../data/raw/BEELINE\"),\n",
    ") -> Tuple[pd.DataFrame, pd.Series, pd.DataFrame]:\n",
    "    assert root.exists(), f\"Path {root} does not exist\"\n",
    "    data_dir = root / \"BEELINE-data\"\n",
    "    network_dir = root / \"BEELINE-Networks\"\n",
    "\n",
    "    # Name columns in accordance to GENIE3\n",
    "    ref_network.columns = [\"regulator_gene\", \"target_gene\", \"ground_truth\"]\n",
    "\n",
    "    return {\n",
    "        \"gene_expressions\": gene_expressions,\n",
    "        \"transcription_factors\": transcription_factors,\n",
    "        \"ref_network\": ref_network,\n",
    "    }\n",
    "\n",
    "\n",
    "def _get_transcription_factor_indices(\n",
    "    transcription_factors: pd.Series,\n",
    ") -> List[int]:\n",
    "    assert len(set(transcription_factors)) == len(\n",
    "        transcription_factors\n",
    "    ), \"Transcription factors are not unique\"\n",
    "    transcription_factor_indices = list(range(len(transcription_factors)))\n",
    "    return transcription_factor_indices\n",
    "\n",
    "\n",
    "gene_expressions, transcription_factors, ref_network, gene_ids = load_dream5(\n",
    "    network_id=3\n",
    ").values()\n",
    "inputs: NDArray = gene_expressions.values\n",
    "transcription_factor_indices = _get_transcription_factor_indices(\n",
    "    transcription_factors\n",
    ")"
   ]
  },
  {
   "cell_type": "code",
   "execution_count": null,
   "metadata": {},
   "outputs": [],
   "source": [
    "from fedgenie3.modeling import GENIE3\n",
    "\n",
    "tree_method = \"RF\"\n",
    "tree_init_kwargs = {\n",
    "    \"n_estimators\": 100,\n",
    "    \"max_features\": \"sqrt\",\n",
    "    \"random_state\": 42,\n",
    "    \"n_jobs\": -1,\n",
    "}\n",
    "genie3 = GENIE3(tree_method=tree_method, tree_init_kwargs=tree_init_kwargs)"
   ]
  },
  {
   "cell_type": "code",
   "execution_count": null,
   "metadata": {},
   "outputs": [],
   "source": [
    "importance_matrix = genie3.compute_importances(\n",
    "    inputs, transcription_factor_indices\n",
    ")"
   ]
  },
  {
   "cell_type": "code",
   "execution_count": null,
   "metadata": {},
   "outputs": [],
   "source": [
    "gene_ranking = genie3.get_gene_ranking(\n",
    "    importance_matrix, transcription_factor_indices\n",
    ")\n",
    "gene_ranking"
   ]
  },
  {
   "cell_type": "code",
   "execution_count": null,
   "metadata": {},
   "outputs": [],
   "source": [
    "def fn(x, gene_expressions):\n",
    "    gene_names = gene_expressions.columns\n",
    "    x = gene_names[x]\n",
    "    return x\n",
    "\n",
    "\n",
    "gene_cols = [\"regulator_gene\", \"target_gene\"]\n",
    "gene_ranking[gene_cols] = gene_ranking[gene_cols].apply(\n",
    "    lambda x: fn(x, gene_expressions), axis=0\n",
    ")\n",
    "gene_ranking"
   ]
  },
  {
   "cell_type": "code",
   "execution_count": null,
   "metadata": {},
   "outputs": [],
   "source": [
    "from fedgenie3.eval import evaluate\n",
    "\n",
    "evaluate(gene_ranking, ref_network)"
   ]
  }
 ],
 "metadata": {
  "kernelspec": {
   "display_name": ".venv",
   "language": "python",
   "name": "python3"
  },
  "language_info": {
   "name": "python",
   "version": "3.11.9"
  }
 },
 "nbformat": 4,
 "nbformat_minor": 2
}
