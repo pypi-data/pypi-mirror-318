{
 "cells": [
  {
   "cell_type": "code",
   "execution_count": 1,
   "id": "93f7ba3b-c80e-46cf-9920-40b259ba4d79",
   "metadata": {
    "execution": {
     "iopub.execute_input": "2024-12-13T22:03:14.148573Z",
     "iopub.status.busy": "2024-12-13T22:03:14.147915Z",
     "iopub.status.idle": "2024-12-13T22:03:14.162984Z",
     "shell.execute_reply": "2024-12-13T22:03:14.162320Z",
     "shell.execute_reply.started": "2024-12-13T22:03:14.148520Z"
    }
   },
   "outputs": [
    {
     "data": {
      "text/plain": [
       "4"
      ]
     },
     "execution_count": 1,
     "metadata": {},
     "output_type": "execute_result"
    }
   ],
   "source": [
    "2+2"
   ]
  },
  {
   "cell_type": "code",
   "execution_count": null,
   "id": "de10f38b-2744-4e69-8643-afc1e8653d43",
   "metadata": {},
   "outputs": [],
   "source": []
  },
  {
   "cell_type": "code",
   "execution_count": 1,
   "id": "36728fff-a31e-4e3f-8d32-3ca5253bc420",
   "metadata": {
    "execution": {
     "iopub.execute_input": "2024-12-13T23:17:39.133907Z",
     "iopub.status.busy": "2024-12-13T23:17:39.133007Z",
     "iopub.status.idle": "2024-12-13T23:17:39.147629Z",
     "shell.execute_reply": "2024-12-13T23:17:39.146269Z",
     "shell.execute_reply.started": "2024-12-13T23:17:39.133859Z"
    }
   },
   "outputs": [
    {
     "ename": "SyntaxError",
     "evalue": "invalid syntax (2038491351.py, line 1)",
     "output_type": "error",
     "traceback": [
      "\u001b[0;36m  Cell \u001b[0;32mIn[1], line 1\u001b[0;36m\u001b[0m\n\u001b[0;31m    2+@\u001b[0m\n\u001b[0m      ^\u001b[0m\n\u001b[0;31mSyntaxError\u001b[0m\u001b[0;31m:\u001b[0m invalid syntax\n"
     ]
    }
   ],
   "source": [
    "2+2"
   ]
  },
  {
   "cell_type": "code",
   "execution_count": null,
   "id": "435a8cad-0068-4b58-90b6-1cd0c7b7cb4f",
   "metadata": {},
   "outputs": [],
   "source": []
  },
  {
   "cell_type": "code",
   "execution_count": null,
   "id": "e329c508-3cfa-49bb-a9b2-f62058b87715",
   "metadata": {},
   "outputs": [],
   "source": []
  }
 ],
 "metadata": {
  "kernelspec": {
   "display_name": "Python 3 (ipykernel)",
   "language": "python",
   "name": "python3"
  },
  "language_info": {
   "codemirror_mode": {
    "name": "ipython",
    "version": 3
   },
   "file_extension": ".py",
   "mimetype": "text/x-python",
   "name": "python",
   "nbconvert_exporter": "python",
   "pygments_lexer": "ipython3",
   "version": "3.10.16"
  }
 },
 "nbformat": 4,
 "nbformat_minor": 5
}
