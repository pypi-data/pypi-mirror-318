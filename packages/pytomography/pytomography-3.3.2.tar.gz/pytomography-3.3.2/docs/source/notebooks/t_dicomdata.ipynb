{
 "cells": [
  {
   "attachments": {},
   "cell_type": "markdown",
   "id": "d42c0672",
   "metadata": {
    "papermill": {
     "duration": 0.006471,
     "end_time": "2024-11-19T22:18:55.434272",
     "exception": false,
     "start_time": "2024-11-19T22:18:55.427801",
     "status": "completed"
    },
    "tags": []
   },
   "source": [
    "# DICOM Introduction"
   ]
  },
  {
   "cell_type": "code",
   "execution_count": 1,
   "id": "18553297",
   "metadata": {
    "execution": {
     "iopub.execute_input": "2024-11-19T22:18:55.447949Z",
     "iopub.status.busy": "2024-11-19T22:18:55.447557Z",
     "iopub.status.idle": "2024-11-19T22:18:59.473606Z",
     "shell.execute_reply": "2024-11-19T22:18:59.472716Z"
    },
    "papermill": {
     "duration": 4.035256,
     "end_time": "2024-11-19T22:18:59.475463",
     "exception": false,
     "start_time": "2024-11-19T22:18:55.440207",
     "status": "completed"
    },
    "tags": []
   },
   "outputs": [],
   "source": [
    "import os\n",
    "import numpy as np\n",
    "from pytomography.io.SPECT import dicom\n",
    "from pytomography.transforms.SPECT import SPECTAttenuationTransform, SPECTPSFTransform\n",
    "from pytomography.algorithms import OSEM\n",
    "from pytomography.projectors.SPECT import SPECTSystemMatrix\n",
    "from pytomography.likelihoods import PoissonLogLikelihood\n",
    "from pytomography.utils import print_collimator_parameters\n",
    "import matplotlib.pyplot as plt\n",
    "import pydicom\n",
    "import shutil"
   ]
  },
  {
   "cell_type": "code",
   "execution_count": 2,
   "id": "a9388a8e",
   "metadata": {
    "execution": {
     "iopub.execute_input": "2024-11-19T22:18:59.489059Z",
     "iopub.status.busy": "2024-11-19T22:18:59.488573Z",
     "iopub.status.idle": "2024-11-19T22:18:59.492037Z",
     "shell.execute_reply": "2024-11-19T22:18:59.491434Z"
    },
    "papermill": {
     "duration": 0.011437,
     "end_time": "2024-11-19T22:18:59.493283",
     "exception": false,
     "start_time": "2024-11-19T22:18:59.481846",
     "status": "completed"
    },
    "tags": []
   },
   "outputs": [],
   "source": [
    "PATH = '/disk1/pytomography_tutorial_data/'"
   ]
  },
  {
   "cell_type": "markdown",
   "id": "fcaad5aa",
   "metadata": {
    "papermill": {
     "duration": 0.005852,
     "end_time": "2024-11-19T22:18:59.504864",
     "exception": false,
     "start_time": "2024-11-19T22:18:59.499012",
     "status": "completed"
    },
    "tags": []
   },
   "source": [
    "## Part 1: Opening Data"
   ]
  },
  {
   "attachments": {},
   "cell_type": "markdown",
   "id": "272f9ffa",
   "metadata": {
    "papermill": {
     "duration": 0.006007,
     "end_time": "2024-11-19T22:18:59.516938",
     "exception": false,
     "start_time": "2024-11-19T22:18:59.510931",
     "status": "completed"
    },
    "tags": []
   },
   "source": [
    "First we specify the required filepaths to open the SPECT scan (`file_NM`) and the CT data files (`files_CT`)."
   ]
  },
  {
   "cell_type": "code",
   "execution_count": 3,
   "id": "eab43513",
   "metadata": {
    "execution": {
     "iopub.execute_input": "2024-11-19T22:18:59.530321Z",
     "iopub.status.busy": "2024-11-19T22:18:59.529704Z",
     "iopub.status.idle": "2024-11-19T22:18:59.533848Z",
     "shell.execute_reply": "2024-11-19T22:18:59.533223Z"
    },
    "papermill": {
     "duration": 0.012092,
     "end_time": "2024-11-19T22:18:59.535132",
     "exception": false,
     "start_time": "2024-11-19T22:18:59.523040",
     "status": "completed"
    },
    "tags": []
   },
   "outputs": [],
   "source": [
    "# initialize the `path`` variable below to specify the location of the required data\n",
    "path = os.path.join(PATH, 'dicom_intro_tutorial')\n",
    "path_CT = os.path.join(path, 'CT')\n",
    "files_CT = [os.path.join(path_CT, file) for file in os.listdir(path_CT)]\n",
    "file_NM = os.path.join(path, 'projection_data.dcm')"
   ]
  },
  {
   "cell_type": "markdown",
   "id": "ef816082",
   "metadata": {
    "papermill": {
     "duration": 0.005738,
     "end_time": "2024-11-19T22:18:59.546499",
     "exception": false,
     "start_time": "2024-11-19T22:18:59.540761",
     "status": "completed"
    },
    "tags": []
   },
   "source": [
    "The metadata for object space and projection space can be obtained from the projection data file using `dicom.get_metadata`\n",
    "\n",
    "* This contains informaiton such as the voxel size, number of angles, scanner radius, etc."
   ]
  },
  {
   "cell_type": "code",
   "execution_count": 4,
   "id": "1a38b044",
   "metadata": {
    "execution": {
     "iopub.execute_input": "2024-11-19T22:18:59.560118Z",
     "iopub.status.busy": "2024-11-19T22:18:59.559583Z",
     "iopub.status.idle": "2024-11-19T22:19:00.048747Z",
     "shell.execute_reply": "2024-11-19T22:19:00.047639Z"
    },
    "papermill": {
     "duration": 0.49801,
     "end_time": "2024-11-19T22:19:00.050735",
     "exception": false,
     "start_time": "2024-11-19T22:18:59.552725",
     "status": "completed"
    },
    "tags": []
   },
   "outputs": [],
   "source": [
    "object_meta, proj_meta = dicom.get_metadata(file_NM, index_peak=0)"
   ]
  },
  {
   "cell_type": "markdown",
   "id": "004b3e30",
   "metadata": {
    "papermill": {
     "duration": 0.006059,
     "end_time": "2024-11-19T22:19:00.064043",
     "exception": false,
     "start_time": "2024-11-19T22:19:00.057984",
     "status": "completed"
    },
    "tags": []
   },
   "source": [
    "We can get the photopeak projection data from the DICOM file provided we know the indices of each of the energy windows. We can obtain that as follows:"
   ]
  },
  {
   "cell_type": "code",
   "execution_count": 5,
   "id": "25c71173",
   "metadata": {
    "execution": {
     "iopub.execute_input": "2024-11-19T22:19:00.077159Z",
     "iopub.status.busy": "2024-11-19T22:19:00.076644Z",
     "iopub.status.idle": "2024-11-19T22:19:00.089191Z",
     "shell.execute_reply": "2024-11-19T22:19:00.088457Z"
    },
    "papermill": {
     "duration": 0.021637,
     "end_time": "2024-11-19T22:19:00.091493",
     "exception": false,
     "start_time": "2024-11-19T22:19:00.069856",
     "status": "completed"
    },
    "tags": []
   },
   "outputs": [
    {
     "name": "stdout",
     "output_type": "stream",
     "text": [
      "[(0054,0013)  Energy Window Range Sequence  1 item(s) ---- \n",
      "   (0054,0014) Energy Window Lower Limit           DS: '187.19999694824'\n",
      "   (0054,0015) Energy Window Upper Limit           DS: '228.80000305176'\n",
      "   ---------\n",
      "(0054,0018) Energy Window Name                  SH: 'Window Group A'(0054,0013)  Energy Window Range Sequence  1 item(s) ---- \n",
      "   (0054,0014) Energy Window Lower Limit           DS: '166.39999389648'\n",
      "   (0054,0015) Energy Window Upper Limit           DS: '187.19999694824'\n",
      "   ---------\n",
      "(0054,0018) Energy Window Name                  SH: 'Window Group B'(0054,0013)  Energy Window Range Sequence  1 item(s) ---- \n",
      "   (0054,0014) Energy Window Lower Limit           DS: '228.80000305176'\n",
      "   (0054,0015) Energy Window Upper Limit           DS: '249.60000610352'\n",
      "   ---------\n",
      "(0054,0018) Energy Window Name                  SH: 'Window Group C'(0054,0013)  Energy Window Range Sequence  1 item(s) ---- \n",
      "   (0054,0014) Energy Window Lower Limit           DS: '101.69999694824'\n",
      "   (0054,0015) Energy Window Upper Limit           DS: '124.30000305176'\n",
      "   ---------\n",
      "(0054,0018) Energy Window Name                  SH: 'Window Group D'(0054,0013)  Energy Window Range Sequence  1 item(s) ---- \n",
      "   (0054,0014) Energy Window Lower Limit           DS: '85.879997253418'\n",
      "   (0054,0015) Energy Window Upper Limit           DS: '101.69999694824'\n",
      "   ---------\n",
      "(0054,0018) Energy Window Name                  SH: 'Window Group E'(0054,0013)  Energy Window Range Sequence  1 item(s) ---- \n",
      "   (0054,0014) Energy Window Lower Limit           DS: '124.30000305176'\n",
      "   (0054,0015) Energy Window Upper Limit           DS: '146.89999389648'\n",
      "   ---------\n",
      "(0054,0018) Energy Window Name                  SH: 'Window Group F']\n"
     ]
    }
   ],
   "source": [
    "print(pydicom.dcmread(file_NM).EnergyWindowInformationSequence)"
   ]
  },
  {
   "attachments": {},
   "cell_type": "markdown",
   "id": "b0b23350",
   "metadata": {
    "papermill": {
     "duration": 0.00578,
     "end_time": "2024-11-19T22:19:00.103221",
     "exception": false,
     "start_time": "2024-11-19T22:19:00.097441",
     "status": "completed"
    },
    "tags": []
   },
   "source": [
    "In this case, we specify `index_peak=0`, so it only returns the projections corresponding to the 187-228 energy window above."
   ]
  },
  {
   "cell_type": "code",
   "execution_count": 6,
   "id": "0bab5813",
   "metadata": {
    "execution": {
     "iopub.execute_input": "2024-11-19T22:19:00.115963Z",
     "iopub.status.busy": "2024-11-19T22:19:00.115425Z",
     "iopub.status.idle": "2024-11-19T22:19:00.204575Z",
     "shell.execute_reply": "2024-11-19T22:19:00.203929Z"
    },
    "papermill": {
     "duration": 0.096957,
     "end_time": "2024-11-19T22:19:00.205920",
     "exception": false,
     "start_time": "2024-11-19T22:19:00.108963",
     "status": "completed"
    },
    "tags": []
   },
   "outputs": [
    {
     "data": {
      "text/plain": [
       "torch.Size([96, 128, 128])"
      ]
     },
     "execution_count": 6,
     "metadata": {},
     "output_type": "execute_result"
    }
   ],
   "source": [
    "photopeak = dicom.get_projections(file_NM, index_peak=0)\n",
    "photopeak.shape"
   ]
  },
  {
   "cell_type": "markdown",
   "id": "23f8b4ce",
   "metadata": {
    "papermill": {
     "duration": 0.005887,
     "end_time": "2024-11-19T22:19:00.218480",
     "exception": false,
     "start_time": "2024-11-19T22:19:00.212593",
     "status": "completed"
    },
    "tags": []
   },
   "source": [
    "The shape of the photopeak is $(N_{angles}, \\text{Width}, \\text{Height})$."
   ]
  },
  {
   "cell_type": "code",
   "execution_count": 7,
   "id": "b811f6b8",
   "metadata": {
    "execution": {
     "iopub.execute_input": "2024-11-19T22:19:00.231752Z",
     "iopub.status.busy": "2024-11-19T22:19:00.231227Z",
     "iopub.status.idle": "2024-11-19T22:19:00.381049Z",
     "shell.execute_reply": "2024-11-19T22:19:00.380383Z"
    },
    "papermill": {
     "duration": 0.158105,
     "end_time": "2024-11-19T22:19:00.382376",
     "exception": false,
     "start_time": "2024-11-19T22:19:00.224271",
     "status": "completed"
    },
    "tags": []
   },
   "outputs": [
    {
     "data": {
      "text/plain": [
       "<matplotlib.colorbar.Colorbar at 0x7fb0b94ba410>"
      ]
     },
     "execution_count": 7,
     "metadata": {},
     "output_type": "execute_result"
    },
    {
     "data": {
      "image/png": "[encoded data removed]",
      "text/plain": [
       "<Figure size 700x600 with 2 Axes>"
      ]
     },
     "metadata": {},
     "output_type": "display_data"
    }
   ],
   "source": [
    "plt.figure(figsize=(7,6))\n",
    "plt.imshow(photopeak[0].cpu().T, cmap='nipy_spectral', origin='lower')\n",
    "plt.axis('off')\n",
    "plt.colorbar(label='Counts')"
   ]
  },
  {
   "attachments": {},
   "cell_type": "markdown",
   "id": "233f5cb3",
   "metadata": {
    "papermill": {
     "duration": 0.008069,
     "end_time": "2024-11-19T22:19:00.397288",
     "exception": false,
     "start_time": "2024-11-19T22:19:00.389219",
     "status": "completed"
    },
    "tags": []
   },
   "source": [
    "Scatter projections can be estimated using the triple energy window function `dicom_get_scatterTEW`. One needs to specify the index of the peak, and lower/upper energy windows"
   ]
  },
  {
   "cell_type": "code",
   "execution_count": 8,
   "id": "5c653ab8",
   "metadata": {
    "execution": {
     "iopub.execute_input": "2024-11-19T22:19:00.413667Z",
     "iopub.status.busy": "2024-11-19T22:19:00.413010Z",
     "iopub.status.idle": "2024-11-19T22:19:00.542055Z",
     "shell.execute_reply": "2024-11-19T22:19:00.541273Z"
    },
    "papermill": {
     "duration": 0.138713,
     "end_time": "2024-11-19T22:19:00.543794",
     "exception": false,
     "start_time": "2024-11-19T22:19:00.405081",
     "status": "completed"
    },
    "tags": []
   },
   "outputs": [],
   "source": [
    "scatter = dicom.get_energy_window_scatter_estimate(file_NM, index_peak=0, index_lower=1, index_upper=2)"
   ]
  },
  {
   "cell_type": "markdown",
   "id": "4f057acd",
   "metadata": {
    "papermill": {
     "duration": 0.009571,
     "end_time": "2024-11-19T22:19:00.560657",
     "exception": false,
     "start_time": "2024-11-19T22:19:00.551086",
     "status": "completed"
    },
    "tags": []
   },
   "source": [
    "## Part 2: Modeling"
   ]
  },
  {
   "cell_type": "markdown",
   "id": "8153f02b",
   "metadata": {
    "papermill": {
     "duration": 0.006538,
     "end_time": "2024-11-19T22:19:00.573484",
     "exception": false,
     "start_time": "2024-11-19T22:19:00.566946",
     "status": "completed"
    },
    "tags": []
   },
   "source": [
    "### Attenuation Transform"
   ]
  },
  {
   "cell_type": "markdown",
   "id": "fd7f5ffc",
   "metadata": {
    "papermill": {
     "duration": 0.006817,
     "end_time": "2024-11-19T22:19:00.586888",
     "exception": false,
     "start_time": "2024-11-19T22:19:00.580071",
     "status": "completed"
    },
    "tags": []
   },
   "source": [
    "The attenuation transform is used to \"correct\" for the fact that some photons get atteunated in the patient before they reach the detector. PyTomography has functionality to do attenuation correction provided either (i) an argument `attenuation_map=...` OR (ii) an argument `filepath=...` is provided to the `SPECTAttenuationTransform`.\n",
    "\n",
    "* `attenuation_map` must be aligned with the SPECT projection data and have units of cm $^{-1}$ .\n",
    "* `filepath` specifies the directory of some CT scan which will be used for attenuation correction. PyTomography has functionality to align this with the SPECT projections and convert to units of cm $^{-1}$.\n",
    "\n",
    "In this case, since we're reconstructing DICOM data, it's easier to use `filepath` than to manually align/rescale the CT data"
   ]
  },
  {
   "cell_type": "code",
   "execution_count": 9,
   "id": "66f048d2",
   "metadata": {
    "execution": {
     "iopub.execute_input": "2024-11-19T22:19:00.601317Z",
     "iopub.status.busy": "2024-11-19T22:19:00.600604Z",
     "iopub.status.idle": "2024-11-19T22:19:01.945463Z",
     "shell.execute_reply": "2024-11-19T22:19:01.944664Z"
    },
    "papermill": {
     "duration": 1.353798,
     "end_time": "2024-11-19T22:19:01.947283",
     "exception": false,
     "start_time": "2024-11-19T22:19:00.593485",
     "status": "completed"
    },
    "tags": []
   },
   "outputs": [],
   "source": [
    "att_transform = SPECTAttenuationTransform(filepath=files_CT)"
   ]
  },
  {
   "cell_type": "markdown",
   "id": "675f9e64",
   "metadata": {
    "papermill": {
     "duration": 0.007876,
     "end_time": "2024-11-19T22:19:01.962350",
     "exception": false,
     "start_time": "2024-11-19T22:19:01.954474",
     "status": "completed"
    },
    "tags": []
   },
   "source": [
    "If we want to view the attenuation map, we need to *configure* the `att_transform` so that (i) the CT data can be aligned with SPECT projection data and (ii) the CT data can be converted to attenuation coefficients.\n",
    "\n",
    "* *Note*: This is not required if you don't want to view the attenuation map. Later, when the system matrix is built, it automatically configures all the transforms"
   ]
  },
  {
   "cell_type": "code",
   "execution_count": 10,
   "id": "9632593e",
   "metadata": {
    "execution": {
     "iopub.execute_input": "2024-11-19T22:19:01.976871Z",
     "iopub.status.busy": "2024-11-19T22:19:01.976447Z",
     "iopub.status.idle": "2024-11-19T22:19:04.006200Z",
     "shell.execute_reply": "2024-11-19T22:19:04.005228Z"
    },
    "papermill": {
     "duration": 2.039098,
     "end_time": "2024-11-19T22:19:04.008131",
     "exception": false,
     "start_time": "2024-11-19T22:19:01.969033",
     "status": "completed"
    },
    "tags": []
   },
   "outputs": [
    {
     "name": "stdout",
     "output_type": "stream",
     "text": [
      "Given photopeak energy 208.0 keV and CT energy 130 keV from the CT DICOM header, the HU->mu conversion from the following configuration is used: 208.0 keV SPECT energy, 130 keV CT energy, and scanner model symbiat2\n"
     ]
    }
   ],
   "source": [
    "att_transform.configure(object_meta, proj_meta)\n",
    "attenuation_map = att_transform.attenuation_map"
   ]
  },
  {
   "attachments": {},
   "cell_type": "markdown",
   "id": "c41ac6a9",
   "metadata": {
    "papermill": {
     "duration": 0.006659,
     "end_time": "2024-11-19T22:19:04.021914",
     "exception": false,
     "start_time": "2024-11-19T22:19:04.015255",
     "status": "completed"
    },
    "tags": []
   },
   "source": [
    "Viewing the attenuation map allows for a consistency check to ensure that it's properly aligned with the projection data"
   ]
  },
  {
   "cell_type": "code",
   "execution_count": 11,
   "id": "3e8e4c05",
   "metadata": {
    "execution": {
     "iopub.execute_input": "2024-11-19T22:19:04.036418Z",
     "iopub.status.busy": "2024-11-19T22:19:04.036083Z",
     "iopub.status.idle": "2024-11-19T22:19:04.040563Z",
     "shell.execute_reply": "2024-11-19T22:19:04.039977Z"
    },
    "papermill": {
     "duration": 0.013694,
     "end_time": "2024-11-19T22:19:04.041892",
     "exception": false,
     "start_time": "2024-11-19T22:19:04.028198",
     "status": "completed"
    },
    "tags": []
   },
   "outputs": [],
   "source": [
    "sample_slice = attenuation_map.cpu()[:,70].T"
   ]
  },
  {
   "cell_type": "code",
   "execution_count": 12,
   "id": "699e1dc0",
   "metadata": {
    "execution": {
     "iopub.execute_input": "2024-11-19T22:19:04.059535Z",
     "iopub.status.busy": "2024-11-19T22:19:04.059018Z",
     "iopub.status.idle": "2024-11-19T22:19:04.359762Z",
     "shell.execute_reply": "2024-11-19T22:19:04.359126Z"
    },
    "papermill": {
     "duration": 0.310848,
     "end_time": "2024-11-19T22:19:04.361195",
     "exception": false,
     "start_time": "2024-11-19T22:19:04.050347",
     "status": "completed"
    },
    "tags": []
   },
   "outputs": [
    {
     "data": {
      "text/plain": [
       "<matplotlib.colorbar.Colorbar at 0x7fb0b8cdff10>"
      ]
     },
     "execution_count": 12,
     "metadata": {},
     "output_type": "execute_result"
    },
    {
     "data": {
      "image/png": "[encoded data removed]",
      "text/plain": [
       "<Figure size 700x300 with 4 Axes>"
      ]
     },
     "metadata": {},
     "output_type": "display_data"
    }
   ],
   "source": [
    "plt.subplots(1,2,figsize=(7,3))\n",
    "plt.subplot(121)\n",
    "plt.title('Projection Data')\n",
    "plt.imshow(photopeak[0].cpu().T, cmap='nipy_spectral', origin='lower')\n",
    "plt.axis('off')\n",
    "plt.colorbar(label='Counts')\n",
    "plt.subplot(122)\n",
    "plt.title('From CT Slices')\n",
    "plt.imshow(sample_slice, cmap='Greys_r', origin='lower', interpolation='Gaussian')\n",
    "plt.axis('off')\n",
    "plt.colorbar()"
   ]
  },
  {
   "cell_type": "markdown",
   "id": "5a06b768",
   "metadata": {
    "papermill": {
     "duration": 0.007457,
     "end_time": "2024-11-19T22:19:04.385706",
     "exception": false,
     "start_time": "2024-11-19T22:19:04.378249",
     "status": "completed"
    },
    "tags": []
   },
   "source": [
    "### PSF Modeling"
   ]
  },
  {
   "attachments": {},
   "cell_type": "markdown",
   "id": "b21aeb9b",
   "metadata": {
    "papermill": {
     "duration": 0.008006,
     "end_time": "2024-11-19T22:19:04.401738",
     "exception": false,
     "start_time": "2024-11-19T22:19:04.393732",
     "status": "completed"
    },
    "tags": []
   },
   "source": [
    "PSF modeling requires knowing the parameters of the collimators used for the scan. A list of all supported collimator types can be determined by uncommenting the following line and running it"
   ]
  },
  {
   "cell_type": "code",
   "execution_count": 13,
   "id": "5f310bef",
   "metadata": {
    "execution": {
     "iopub.execute_input": "2024-11-19T22:19:04.419759Z",
     "iopub.status.busy": "2024-11-19T22:19:04.419332Z",
     "iopub.status.idle": "2024-11-19T22:19:04.422656Z",
     "shell.execute_reply": "2024-11-19T22:19:04.422023Z"
    },
    "papermill": {
     "duration": 0.012613,
     "end_time": "2024-11-19T22:19:04.423878",
     "exception": false,
     "start_time": "2024-11-19T22:19:04.411265",
     "status": "completed"
    },
    "tags": []
   },
   "outputs": [],
   "source": [
    "#print_collimator_parameters()"
   ]
  },
  {
   "cell_type": "markdown",
   "id": "358a99e4",
   "metadata": {
    "papermill": {
     "duration": 0.007015,
     "end_time": "2024-11-19T22:19:04.437745",
     "exception": false,
     "start_time": "2024-11-19T22:19:04.430730",
     "status": "completed"
    },
    "tags": []
   },
   "source": [
    "In our case, we know that this scan was performed on a Siemens Symbia scanner with medium energy collimators and 3/8'' crystals\n",
    "* There is an option to use intrinsic resolution of the crystals of the scanner (if you know it); this has a minor impact on the reconstruction"
   ]
  },
  {
   "cell_type": "code",
   "execution_count": 14,
   "id": "7c403021",
   "metadata": {
    "execution": {
     "iopub.execute_input": "2024-11-19T22:19:04.455889Z",
     "iopub.status.busy": "2024-11-19T22:19:04.455265Z",
     "iopub.status.idle": "2024-11-19T22:19:04.465468Z",
     "shell.execute_reply": "2024-11-19T22:19:04.464882Z"
    },
    "papermill": {
     "duration": 0.020633,
     "end_time": "2024-11-19T22:19:04.466896",
     "exception": false,
     "start_time": "2024-11-19T22:19:04.446263",
     "status": "completed"
    },
    "tags": []
   },
   "outputs": [
    {
     "name": "stdout",
     "output_type": "stream",
     "text": [
      "kernel_dimensions = 2D\n",
      "min_sigmas = 3\n",
      "shape = gaussian\n",
      "sigma_fit_params = [0.03161992134409504, 0.1248503046423388, 0.16137114205472364]\n",
      "\n"
     ]
    }
   ],
   "source": [
    "collimator_name = 'SY-ME'\n",
    "energy_kev = 208 #keV\n",
    "intrinsic_resolution=0.38 #mm\n",
    "psf_meta = dicom.get_psfmeta_from_scanner_params(\n",
    "    collimator_name,\n",
    "    energy_kev,\n",
    "    intrinsic_resolution=intrinsic_resolution\n",
    ")\n",
    "print(psf_meta)"
   ]
  },
  {
   "cell_type": "markdown",
   "id": "da253908",
   "metadata": {
    "papermill": {
     "duration": 0.007082,
     "end_time": "2024-11-19T22:19:04.481170",
     "exception": false,
     "start_time": "2024-11-19T22:19:04.474088",
     "status": "completed"
    },
    "tags": []
   },
   "source": [
    "Now we can build our PSF transform required to create the system matrix"
   ]
  },
  {
   "cell_type": "code",
   "execution_count": 15,
   "id": "f59ac1ac",
   "metadata": {
    "execution": {
     "iopub.execute_input": "2024-11-19T22:19:04.497521Z",
     "iopub.status.busy": "2024-11-19T22:19:04.497136Z",
     "iopub.status.idle": "2024-11-19T22:19:04.500538Z",
     "shell.execute_reply": "2024-11-19T22:19:04.499890Z"
    },
    "papermill": {
     "duration": 0.013118,
     "end_time": "2024-11-19T22:19:04.501869",
     "exception": false,
     "start_time": "2024-11-19T22:19:04.488751",
     "status": "completed"
    },
    "tags": []
   },
   "outputs": [],
   "source": [
    "psf_transform = SPECTPSFTransform(psf_meta)"
   ]
  },
  {
   "cell_type": "markdown",
   "id": "8522b4af",
   "metadata": {
    "papermill": {
     "duration": 0.007851,
     "end_time": "2024-11-19T22:19:04.517220",
     "exception": false,
     "start_time": "2024-11-19T22:19:04.509369",
     "status": "completed"
    },
    "tags": []
   },
   "source": [
    "## System Matrix"
   ]
  },
  {
   "cell_type": "markdown",
   "id": "eadc002a",
   "metadata": {
    "papermill": {
     "duration": 0.007344,
     "end_time": "2024-11-19T22:19:04.531675",
     "exception": false,
     "start_time": "2024-11-19T22:19:04.524331",
     "status": "completed"
    },
    "tags": []
   },
   "source": [
    "Now that we have the required transforms, we can begin to build the system matrix. It requires:\n",
    "1. `obj2obj_transforms`. These map from object space to object space. In the case of SPECT imaging, both the attenuation transform and PSF transform correspond to these types of transforms.\n",
    "2. `proj2proj_transforms`: These map from projection to projection space. Though we have none here, they would be used to model PSF in PET imaging.\n",
    "3. `object_meta` and `proj_meta`. These are used to initialize the transforms. For example, data from `object_meta` is used to align the attenuation map, and radial position from `proj_meta` is used to get proper blurring parameters for the PSF transform"
   ]
  },
  {
   "cell_type": "code",
   "execution_count": 16,
   "id": "4f2371df",
   "metadata": {
    "execution": {
     "iopub.execute_input": "2024-11-19T22:19:04.547670Z",
     "iopub.status.busy": "2024-11-19T22:19:04.547297Z",
     "iopub.status.idle": "2024-11-19T22:19:06.682191Z",
     "shell.execute_reply": "2024-11-19T22:19:06.681328Z"
    },
    "papermill": {
     "duration": 2.145117,
     "end_time": "2024-11-19T22:19:06.684241",
     "exception": false,
     "start_time": "2024-11-19T22:19:04.539124",
     "status": "completed"
    },
    "tags": []
   },
   "outputs": [
    {
     "name": "stdout",
     "output_type": "stream",
     "text": [
      "Given photopeak energy 208.0 keV and CT energy 130 keV from the CT DICOM header, the HU->mu conversion from the following configuration is used: 208.0 keV SPECT energy, 130 keV CT energy, and scanner model symbiat2\n"
     ]
    }
   ],
   "source": [
    "system_matrix = SPECTSystemMatrix(\n",
    "        obj2obj_transforms = [att_transform,psf_transform],\n",
    "        proj2proj_transforms = [],\n",
    "        object_meta = object_meta,\n",
    "        proj_meta = proj_meta)"
   ]
  },
  {
   "cell_type": "markdown",
   "id": "730619bf",
   "metadata": {
    "papermill": {
     "duration": 0.007408,
     "end_time": "2024-11-19T22:19:06.699479",
     "exception": false,
     "start_time": "2024-11-19T22:19:06.692071",
     "status": "completed"
    },
    "tags": []
   },
   "source": [
    "The system matrix $H$ represents the imaging system and maps an object $f$ to a corresponding image $g$ under the imaging system"
   ]
  },
  {
   "cell_type": "markdown",
   "id": "b22a7707",
   "metadata": {
    "papermill": {
     "duration": 0.006829,
     "end_time": "2024-11-19T22:19:06.713265",
     "exception": false,
     "start_time": "2024-11-19T22:19:06.706436",
     "status": "completed"
    },
    "tags": []
   },
   "source": [
    "## Likelihood"
   ]
  },
  {
   "cell_type": "code",
   "execution_count": 17,
   "id": "c48b18b2",
   "metadata": {
    "execution": {
     "iopub.execute_input": "2024-11-19T22:19:06.728785Z",
     "iopub.status.busy": "2024-11-19T22:19:06.728263Z",
     "iopub.status.idle": "2024-11-19T22:19:06.732101Z",
     "shell.execute_reply": "2024-11-19T22:19:06.731486Z"
    },
    "papermill": {
     "duration": 0.013255,
     "end_time": "2024-11-19T22:19:06.733434",
     "exception": false,
     "start_time": "2024-11-19T22:19:06.720179",
     "status": "completed"
    },
    "tags": []
   },
   "outputs": [],
   "source": [
    "likelihood = PoissonLogLikelihood(system_matrix, photopeak, scatter)"
   ]
  },
  {
   "attachments": {},
   "cell_type": "markdown",
   "id": "c8014eff",
   "metadata": {
    "papermill": {
     "duration": 0.007003,
     "end_time": "2024-11-19T22:19:06.747553",
     "exception": false,
     "start_time": "2024-11-19T22:19:06.740550",
     "status": "completed"
    },
    "tags": []
   },
   "source": [
    "# Reconstruct the object"
   ]
  },
  {
   "cell_type": "markdown",
   "id": "3c31e20a",
   "metadata": {
    "papermill": {
     "duration": 0.00759,
     "end_time": "2024-11-19T22:19:06.762088",
     "exception": false,
     "start_time": "2024-11-19T22:19:06.754498",
     "status": "completed"
    },
    "tags": []
   },
   "source": [
    "We'll reconstruct the object using OSEM. For this, we need to specify the measured projection data (`photopeak`/`scatter`) and the `system_matrix`"
   ]
  },
  {
   "cell_type": "code",
   "execution_count": 18,
   "id": "5e07e874",
   "metadata": {
    "execution": {
     "iopub.execute_input": "2024-11-19T22:19:06.777941Z",
     "iopub.status.busy": "2024-11-19T22:19:06.777398Z",
     "iopub.status.idle": "2024-11-19T22:19:06.798739Z",
     "shell.execute_reply": "2024-11-19T22:19:06.798136Z"
    },
    "papermill": {
     "duration": 0.030993,
     "end_time": "2024-11-19T22:19:06.800133",
     "exception": false,
     "start_time": "2024-11-19T22:19:06.769140",
     "status": "completed"
    },
    "tags": []
   },
   "outputs": [],
   "source": [
    "reconstruction_algorithm = OSEM(likelihood)"
   ]
  },
  {
   "cell_type": "markdown",
   "id": "376c0192",
   "metadata": {
    "papermill": {
     "duration": 0.007453,
     "end_time": "2024-11-19T22:19:06.815296",
     "exception": false,
     "start_time": "2024-11-19T22:19:06.807843",
     "status": "completed"
    },
    "tags": []
   },
   "source": [
    "We can reconstruct the object by calling the reconstruction algorithm for a given number of iterations/subsets."
   ]
  },
  {
   "cell_type": "code",
   "execution_count": 19,
   "id": "e24adf5a",
   "metadata": {
    "execution": {
     "iopub.execute_input": "2024-11-19T22:19:06.830982Z",
     "iopub.status.busy": "2024-11-19T22:19:06.830443Z",
     "iopub.status.idle": "2024-11-19T22:19:14.451292Z",
     "shell.execute_reply": "2024-11-19T22:19:14.450279Z"
    },
    "papermill": {
     "duration": 7.630926,
     "end_time": "2024-11-19T22:19:14.453236",
     "exception": false,
     "start_time": "2024-11-19T22:19:06.822310",
     "status": "completed"
    },
    "tags": []
   },
   "outputs": [],
   "source": [
    "reconstructed_object = reconstruction_algorithm(n_iters=4, n_subsets=8)"
   ]
  },
  {
   "attachments": {},
   "cell_type": "markdown",
   "id": "8a366340",
   "metadata": {
    "papermill": {
     "duration": 0.006995,
     "end_time": "2024-11-19T22:19:14.468138",
     "exception": false,
     "start_time": "2024-11-19T22:19:14.461143",
     "status": "completed"
    },
    "tags": []
   },
   "source": [
    "We can compare this reconstruction to one done by the vendor:\n",
    "\n",
    "* Note: we divide the vendor reconstruction by 96 because this particualr vendor multiplies by the number of acquisition angles when saving the data. (*some vendors alternatively divide by 48, the number of projection angles, so be careful*)"
   ]
  },
  {
   "cell_type": "code",
   "execution_count": 20,
   "id": "c27122df",
   "metadata": {
    "execution": {
     "iopub.execute_input": "2024-11-19T22:19:14.484704Z",
     "iopub.status.busy": "2024-11-19T22:19:14.484335Z",
     "iopub.status.idle": "2024-11-19T22:19:14.544684Z",
     "shell.execute_reply": "2024-11-19T22:19:14.543955Z"
    },
    "papermill": {
     "duration": 0.070698,
     "end_time": "2024-11-19T22:19:14.546362",
     "exception": false,
     "start_time": "2024-11-19T22:19:14.475664",
     "status": "completed"
    },
    "tags": []
   },
   "outputs": [],
   "source": [
    "ds_recon = pydicom.dcmread(os.path.join(path, 'scanner_recon.dcm'))\n",
    "recon_vendor = ds_recon.pixel_array / proj_meta.num_projections\n",
    "recon_vendor = np.transpose(recon_vendor, (2,1,0))"
   ]
  },
  {
   "attachments": {},
   "cell_type": "markdown",
   "id": "519423ed",
   "metadata": {
    "papermill": {
     "duration": 0.006928,
     "end_time": "2024-11-19T22:19:14.561153",
     "exception": false,
     "start_time": "2024-11-19T22:19:14.554225",
     "status": "completed"
    },
    "tags": []
   },
   "source": [
    "We can looks at axial slices from all three reconstructions."
   ]
  },
  {
   "cell_type": "code",
   "execution_count": 21,
   "id": "20e3c8d3",
   "metadata": {
    "execution": {
     "iopub.execute_input": "2024-11-19T22:19:14.576403Z",
     "iopub.status.busy": "2024-11-19T22:19:14.575993Z",
     "iopub.status.idle": "2024-11-19T22:19:14.583099Z",
     "shell.execute_reply": "2024-11-19T22:19:14.582516Z"
    },
    "papermill": {
     "duration": 0.016332,
     "end_time": "2024-11-19T22:19:14.584383",
     "exception": false,
     "start_time": "2024-11-19T22:19:14.568051",
     "status": "completed"
    },
    "tags": []
   },
   "outputs": [],
   "source": [
    "idx_z = 61\n",
    "slice_pytomography = reconstructed_object.cpu()[:,:,idx_z].T\n",
    "slice_vendor = recon_vendor[:,:,idx_z].T"
   ]
  },
  {
   "cell_type": "code",
   "execution_count": 22,
   "id": "6d6a9571",
   "metadata": {
    "execution": {
     "iopub.execute_input": "2024-11-19T22:19:14.599848Z",
     "iopub.status.busy": "2024-11-19T22:19:14.599473Z",
     "iopub.status.idle": "2024-11-19T22:19:14.736270Z",
     "shell.execute_reply": "2024-11-19T22:19:14.735639Z"
    },
    "papermill": {
     "duration": 0.146522,
     "end_time": "2024-11-19T22:19:14.738029",
     "exception": false,
     "start_time": "2024-11-19T22:19:14.591507",
     "status": "completed"
    },
    "tags": []
   },
   "outputs": [
    {
     "data": {
      "image/png": "[encoded data removed]",
      "text/plain": [
       "<Figure size 700x300 with 2 Axes>"
      ]
     },
     "metadata": {},
     "output_type": "display_data"
    }
   ],
   "source": [
    "plt.subplots(1,2,figsize=(7,3), gridspec_kw={'wspace':0.0})\n",
    "plt.subplot(121)\n",
    "plt.imshow(slice_pytomography , cmap='magma', vmax=27, interpolation='gaussian', origin='lower')\n",
    "plt.text(0.03, 0.97, 'PyTomography', color='white', fontsize=12, fontweight='bold', transform=plt.gca().transAxes, ha='left', va='top')\n",
    "plt.xlim(30,98)\n",
    "plt.ylim(98,40)\n",
    "plt.axis('off')\n",
    "plt.subplot(122)\n",
    "plt.imshow(slice_vendor, cmap='magma', vmax=27, interpolation='gaussian', origin='lower')\n",
    "plt.text(0.03, 0.97, 'Siemens Software', color='white', fontsize=12, fontweight='bold', transform=plt.gca().transAxes, ha='left', va='top')\n",
    "plt.xlim(30,98)\n",
    "plt.ylim(98,40)\n",
    "plt.axis('off')\n",
    "plt.show()"
   ]
  },
  {
   "cell_type": "markdown",
   "id": "a5fefb40",
   "metadata": {
    "papermill": {
     "duration": 0.007563,
     "end_time": "2024-11-19T22:19:14.753829",
     "exception": false,
     "start_time": "2024-11-19T22:19:14.746266",
     "status": "completed"
    },
    "tags": []
   },
   "source": [
    "## Saving Data"
   ]
  },
  {
   "cell_type": "markdown",
   "id": "f8c49be3",
   "metadata": {
    "papermill": {
     "duration": 0.007961,
     "end_time": "2024-11-19T22:19:14.769614",
     "exception": false,
     "start_time": "2024-11-19T22:19:14.761653",
     "status": "completed"
    },
    "tags": []
   },
   "source": [
    "PyTomography has functionality for saving DICOM data. There are a few things required:\n",
    "\n",
    "1. The folder where you want to save the data. The folder can't exist already (has to be a new folder); this prevents overwriting potential data.\n",
    "2. The reconstructed object itself: in this case, `recon_CTslices`\n",
    "3. The filepath of the projection data `file_NM`. Much of the study/patient information is copied over from this file to the reconstructed file.\n",
    "4. An optional string that represents the type of reconstruction performed. If left blank, will be an empty string `''`"
   ]
  },
  {
   "cell_type": "markdown",
   "id": "49b269c4",
   "metadata": {
    "papermill": {
     "duration": 0.008002,
     "end_time": "2024-11-19T22:19:14.785940",
     "exception": false,
     "start_time": "2024-11-19T22:19:14.777938",
     "status": "completed"
    },
    "tags": []
   },
   "source": [
    "**Note: Some vendor reconstructions (i) multiply by the total number of projections and/or (ii) normalize to counts/second when they save their SPECT reconstructions. Make sure to multiply `reconstructed_object` by these values before you save if you want to do such comparisons.**"
   ]
  },
  {
   "cell_type": "code",
   "execution_count": 23,
   "id": "bf87b778",
   "metadata": {
    "execution": {
     "iopub.execute_input": "2024-11-19T22:19:14.802808Z",
     "iopub.status.busy": "2024-11-19T22:19:14.802233Z",
     "iopub.status.idle": "2024-11-19T22:19:15.219061Z",
     "shell.execute_reply": "2024-11-19T22:19:15.218333Z"
    },
    "papermill": {
     "duration": 0.427323,
     "end_time": "2024-11-19T22:19:15.220847",
     "exception": false,
     "start_time": "2024-11-19T22:19:14.793524",
     "status": "completed"
    },
    "tags": []
   },
   "outputs": [],
   "source": [
    "# Modify the path below to a location on your computer where you want to save the data\n",
    "save_path = '/disk1/pytomography_tutorial_data/dicom_intro_tutorial/output'\n",
    "# Code only works if folder doesnt exist, so delete it if present\n",
    "if os.path.exists(save_path) and os.path.isdir(save_path):\n",
    "    shutil.rmtree(save_path)\n",
    "# Save\n",
    "dicom.save_dcm(\n",
    "    save_path = save_path,\n",
    "    object = reconstructed_object,\n",
    "    file_NM = file_NM,\n",
    "    recon_name = 'OSEM_4it_8ss')"
   ]
  },
  {
   "cell_type": "markdown",
   "id": "fa1e5272",
   "metadata": {
    "papermill": {
     "duration": 0.00783,
     "end_time": "2024-11-19T22:19:15.237095",
     "exception": false,
     "start_time": "2024-11-19T22:19:15.229265",
     "status": "completed"
    },
    "tags": []
   },
   "source": [
    "The data can now be exported to any DICOM viewer of your choice!"
   ]
  }
 ],
 "metadata": {
  "kernelspec": {
   "display_name": "pytomo_install_test",
   "language": "python",
   "name": "python3"
  },
  "language_info": {
   "codemirror_mode": {
    "name": "ipython",
    "version": 3
   },
   "file_extension": ".py",
   "mimetype": "text/x-python",
   "name": "python",
   "nbconvert_exporter": "python",
   "pygments_lexer": "ipython3",
   "version": "3.11.10"
  },
  "papermill": {
   "default_parameters": {},
   "duration": 21.833649,
   "end_time": "2024-11-19T22:19:16.564373",
   "environment_variables": {},
   "exception": null,
   "input_path": "t_dicomdata.ipynb",
   "output_path": "t_dicomdata.ipynb",
   "parameters": {},
   "start_time": "2024-11-19T22:18:54.730724",
   "version": "2.6.0"
  }
 },
 "nbformat": 4,
 "nbformat_minor": 5
}