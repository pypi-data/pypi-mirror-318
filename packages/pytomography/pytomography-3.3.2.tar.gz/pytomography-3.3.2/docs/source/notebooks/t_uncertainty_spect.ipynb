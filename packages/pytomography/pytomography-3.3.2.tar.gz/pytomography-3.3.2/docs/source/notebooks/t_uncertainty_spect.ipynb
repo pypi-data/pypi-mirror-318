{
 "cells": [
  {
   "cell_type": "markdown",
   "id": "66912687",
   "metadata": {
    "papermill": {
     "duration": 0.004448,
     "end_time": "2024-11-19T22:25:59.141178",
     "exception": false,
     "start_time": "2024-11-19T22:25:59.136730",
     "status": "completed"
    },
    "tags": []
   },
   "source": [
    "# Uncertainty Estimation"
   ]
  },
  {
   "cell_type": "markdown",
   "id": "ed4cd800",
   "metadata": {
    "papermill": {
     "duration": 0.003852,
     "end_time": "2024-11-19T22:25:59.148949",
     "exception": false,
     "start_time": "2024-11-19T22:25:59.145097",
     "status": "completed"
    },
    "tags": []
   },
   "source": [
    "**Special thanks to Dr. Peyman Sheikhzadeh at the Tehran University Of Medical Science for providing this anonymized data**"
   ]
  },
  {
   "cell_type": "code",
   "execution_count": 1,
   "id": "7f9a8ba9",
   "metadata": {
    "execution": {
     "iopub.execute_input": "2024-11-19T22:25:59.158329Z",
     "iopub.status.busy": "2024-11-19T22:25:59.157764Z",
     "iopub.status.idle": "2024-11-19T22:26:03.465255Z",
     "shell.execute_reply": "2024-11-19T22:26:03.464382Z"
    },
    "papermill": {
     "duration": 4.314213,
     "end_time": "2024-11-19T22:26:03.467039",
     "exception": false,
     "start_time": "2024-11-19T22:25:59.152826",
     "status": "completed"
    },
    "tags": []
   },
   "outputs": [],
   "source": [
    "import os\n",
    "import numpy as np\n",
    "from pytomography.io.SPECT import dicom\n",
    "from pytomography.transforms.SPECT import SPECTAttenuationTransform, SPECTPSFTransform\n",
    "from pytomography.algorithms import OSEM, PGAAMultiBedSPECT\n",
    "from pytomography.projectors.SPECT import SPECTSystemMatrix\n",
    "from pytomography.likelihoods import PoissonLogLikelihood\n",
    "from pytomography.utils import print_collimator_parameters\n",
    "import matplotlib.pyplot as plt\n",
    "import torch\n",
    "from rt_utils import RTStructBuilder\n",
    "from pytomography.callbacks import DataStorageCallback"
   ]
  },
  {
   "cell_type": "code",
   "execution_count": 2,
   "id": "8a2f4f0c",
   "metadata": {
    "execution": {
     "iopub.execute_input": "2024-11-19T22:26:03.476933Z",
     "iopub.status.busy": "2024-11-19T22:26:03.476427Z",
     "iopub.status.idle": "2024-11-19T22:26:03.480117Z",
     "shell.execute_reply": "2024-11-19T22:26:03.479498Z"
    },
    "papermill": {
     "duration": 0.009603,
     "end_time": "2024-11-19T22:26:03.481373",
     "exception": false,
     "start_time": "2024-11-19T22:26:03.471770",
     "status": "completed"
    },
    "tags": []
   },
   "outputs": [],
   "source": [
    "save_path = '/disk1/pytomography_tutorial_data'"
   ]
  },
  {
   "cell_type": "markdown",
   "id": "95aeb947",
   "metadata": {
    "papermill": {
     "duration": 0.003717,
     "end_time": "2024-11-19T22:26:03.489102",
     "exception": false,
     "start_time": "2024-11-19T22:26:03.485385",
     "status": "completed"
    },
    "tags": []
   },
   "source": [
    "The following code cell loads projection data and a corresponding CT file and creates a reconstruction algorithm; if you are unfamiliar with the code below or require more explanation, see that \"DICOM Data Introduction\" tutorial.\n",
    "* **The only difference is that we now get a variance estimate for the scatter in line 7 of the cell below, and then input that to the likelihood in line 22**\n",
    "* The collimator corresponding to this data is General Electric\n",
    "s medium energy general purpose collimator."
   ]
  },
  {
   "cell_type": "code",
   "execution_count": 3,
   "id": "78485fd2",
   "metadata": {
    "execution": {
     "iopub.execute_input": "2024-11-19T22:26:03.497785Z",
     "iopub.status.busy": "2024-11-19T22:26:03.497443Z",
     "iopub.status.idle": "2024-11-19T22:26:14.224077Z",
     "shell.execute_reply": "2024-11-19T22:26:14.223078Z"
    },
    "papermill": {
     "duration": 10.733302,
     "end_time": "2024-11-19T22:26:14.226068",
     "exception": false,
     "start_time": "2024-11-19T22:26:03.492766",
     "status": "completed"
    },
    "tags": []
   },
   "outputs": [
    {
     "name": "stdout",
     "output_type": "stream",
     "text": [
      "Given photopeak energy 208.0 keV and CT energy 120 keV from the CT DICOM header, the HU->mu conversion from the following configuration is used: 208.0 keV SPECT energy, 120 keV CT energy, and scanner model optimact540\n"
     ]
    }
   ],
   "source": [
    "file_NM = os.path.join(save_path, 'dicom_multibed_tutorial', 'bed2_projections.dcm')\n",
    "path_CT = os.path.join(save_path, 'dicom_multibed_tutorial', 'CT')\n",
    "files_CT = [os.path.join(path_CT, file) for file in os.listdir(path_CT)]\n",
    "object_meta, proj_meta = dicom.get_metadata(file_NM, index_peak=1)\n",
    "projections = dicom.get_projections(file_NM)\n",
    "photopeak = projections[1]\n",
    "scatter, scatter_variance_estimate = dicom.get_energy_window_scatter_estimate(file_NM, index_peak=1, index_lower=3, index_upper=2, return_scatter_variance_estimate=True)\n",
    "# Build system matrix\n",
    "attenuation_map = dicom.get_attenuation_map_from_CT_slices(files_CT, file_NM, index_peak=1)\n",
    "psf_meta = dicom.get_psfmeta_from_scanner_params('GI-MEGP', energy_keV=208)\n",
    "att_transform = SPECTAttenuationTransform(attenuation_map)\n",
    "psf_transform = SPECTPSFTransform(psf_meta)\n",
    "system_matrix = SPECTSystemMatrix(\n",
    "    obj2obj_transforms = [att_transform,psf_transform],\n",
    "    proj2proj_transforms = [],\n",
    "    object_meta = object_meta,\n",
    "    proj_meta = proj_meta)\n",
    "# Likelihood\n",
    "likelihood = PoissonLogLikelihood(system_matrix, photopeak, additive_term=scatter, additive_term_variance_estimate=scatter_variance_estimate)\n",
    "# Reconstruction algorithm\n",
    "recon_algorithm = OSEM(likelihood)"
   ]
  },
  {
   "cell_type": "markdown",
   "id": "bba6abcf",
   "metadata": {
    "papermill": {
     "duration": 0.004379,
     "end_time": "2024-11-19T22:26:14.235055",
     "exception": false,
     "start_time": "2024-11-19T22:26:14.230676",
     "status": "completed"
    },
    "tags": []
   },
   "source": [
    "Up to this point, we've created the reconstruction algorithm but we haven't performed reconstruction yet. If we plan on computing uncertainty in various VOIs, we are required to use the `DataStorageCallback` callback in the image reconstruction algorithm. This callback stores a copy of the reconstructed image at each iteration and subiteration: all this data is required when computing uncertainties later. It can be created as follows:"
   ]
  },
  {
   "cell_type": "code",
   "execution_count": 4,
   "id": "52b1fbba",
   "metadata": {
    "execution": {
     "iopub.execute_input": "2024-11-19T22:26:14.244433Z",
     "iopub.status.busy": "2024-11-19T22:26:14.244186Z",
     "iopub.status.idle": "2024-11-19T22:26:14.248106Z",
     "shell.execute_reply": "2024-11-19T22:26:14.247566Z"
    },
    "papermill": {
     "duration": 0.010356,
     "end_time": "2024-11-19T22:26:14.249363",
     "exception": false,
     "start_time": "2024-11-19T22:26:14.239007",
     "status": "completed"
    },
    "tags": []
   },
   "outputs": [],
   "source": [
    "data_storage_callback = DataStorageCallback(likelihood, torch.clone(recon_algorithm.object_prediction))"
   ]
  },
  {
   "cell_type": "markdown",
   "id": "c909c950",
   "metadata": {
    "papermill": {
     "duration": 0.003706,
     "end_time": "2024-11-19T22:26:14.257512",
     "exception": false,
     "start_time": "2024-11-19T22:26:14.253806",
     "status": "completed"
    },
    "tags": []
   },
   "source": [
    "Then we reconstruct using this callback:"
   ]
  },
  {
   "cell_type": "code",
   "execution_count": 5,
   "id": "f1d8655a",
   "metadata": {
    "execution": {
     "iopub.execute_input": "2024-11-19T22:26:14.266606Z",
     "iopub.status.busy": "2024-11-19T22:26:14.266100Z",
     "iopub.status.idle": "2024-11-19T22:26:18.606608Z",
     "shell.execute_reply": "2024-11-19T22:26:18.605312Z"
    },
    "papermill": {
     "duration": 4.347206,
     "end_time": "2024-11-19T22:26:18.608590",
     "exception": false,
     "start_time": "2024-11-19T22:26:14.261384",
     "status": "completed"
    },
    "tags": []
   },
   "outputs": [],
   "source": [
    "recon_OSEM = recon_algorithm(n_iters = 4, n_subsets = 8, callback=data_storage_callback)"
   ]
  },
  {
   "cell_type": "markdown",
   "id": "cf807646",
   "metadata": {
    "papermill": {
     "duration": 0.003714,
     "end_time": "2024-11-19T22:26:18.616750",
     "exception": false,
     "start_time": "2024-11-19T22:26:18.613036",
     "status": "completed"
    },
    "tags": []
   },
   "source": [
    "Here's a coronal maximum intensity projection of the reconstruction"
   ]
  },
  {
   "cell_type": "code",
   "execution_count": 6,
   "id": "c755d491",
   "metadata": {
    "execution": {
     "iopub.execute_input": "2024-11-19T22:26:18.626656Z",
     "iopub.status.busy": "2024-11-19T22:26:18.626000Z",
     "iopub.status.idle": "2024-11-19T22:26:18.641277Z",
     "shell.execute_reply": "2024-11-19T22:26:18.640652Z"
    },
    "papermill": {
     "duration": 0.021786,
     "end_time": "2024-11-19T22:26:18.642537",
     "exception": false,
     "start_time": "2024-11-19T22:26:18.620751",
     "status": "completed"
    },
    "tags": []
   },
   "outputs": [],
   "source": [
    "maximum_intensity_projection = recon_OSEM.max(axis=1)[0].cpu()"
   ]
  },
  {
   "cell_type": "code",
   "execution_count": 7,
   "id": "c1aea5dd",
   "metadata": {
    "execution": {
     "iopub.execute_input": "2024-11-19T22:26:18.653844Z",
     "iopub.status.busy": "2024-11-19T22:26:18.653334Z",
     "iopub.status.idle": "2024-11-19T22:26:18.740009Z",
     "shell.execute_reply": "2024-11-19T22:26:18.739452Z"
    },
    "papermill": {
     "duration": 0.093133,
     "end_time": "2024-11-19T22:26:18.741360",
     "exception": false,
     "start_time": "2024-11-19T22:26:18.648227",
     "status": "completed"
    },
    "tags": []
   },
   "outputs": [
    {
     "data": {
      "image/png": "[encoded data removed]",
      "text/plain": [
       "<Figure size 400x400 with 1 Axes>"
      ]
     },
     "metadata": {},
     "output_type": "display_data"
    }
   ],
   "source": [
    "plt.figure(figsize=(4,4))\n",
    "plt.imshow(maximum_intensity_projection.T, cmap='Greys', vmax=4, interpolation='gaussian', origin='lower')\n",
    "plt.axis('off')\n",
    "plt.show()"
   ]
  },
  {
   "cell_type": "markdown",
   "id": "2172e650",
   "metadata": {
    "papermill": {
     "duration": 0.004483,
     "end_time": "2024-11-19T22:26:18.750595",
     "exception": false,
     "start_time": "2024-11-19T22:26:18.746112",
     "status": "completed"
    },
    "tags": []
   },
   "source": [
    "Suppose we want to estimate the uncertainty in activity in one of the kidneys. Let's obtain it from an RTStruct file containing segmentations of all the organs. (The cell below is not required for this, but it will allow us to determine the mask names contained in the RTStruct file):"
   ]
  },
  {
   "cell_type": "code",
   "execution_count": 8,
   "id": "110fa625",
   "metadata": {
    "execution": {
     "iopub.execute_input": "2024-11-19T22:26:18.761299Z",
     "iopub.status.busy": "2024-11-19T22:26:18.760763Z",
     "iopub.status.idle": "2024-11-19T22:26:20.199909Z",
     "shell.execute_reply": "2024-11-19T22:26:20.199266Z"
    },
    "papermill": {
     "duration": 1.445642,
     "end_time": "2024-11-19T22:26:20.201225",
     "exception": false,
     "start_time": "2024-11-19T22:26:18.755583",
     "status": "completed"
    },
    "tags": []
   },
   "outputs": [
    {
     "name": "stdout",
     "output_type": "stream",
     "text": [
      "['spleen', 'kidney_right', 'kidney_left', 'gallbladder', 'liver', 'stomach', 'pancreas', 'adrenal_gland_right', 'adrenal_gland_left', 'lung_upper_lobe_left', 'lung_lower_lobe_left', 'lung_upper_lobe_right', 'lung_middle_lobe_right', 'lung_lower_lobe_right', 'esophagus', 'trachea', 'thyroid_gland', 'small_bowel', 'duodenum', 'colon', 'urinary_bladder', 'sacrum', 'vertebrae_S1', 'vertebrae_L5', 'vertebrae_L4', 'vertebrae_L3', 'vertebrae_L2', 'vertebrae_L1', 'vertebrae_T12', 'vertebrae_T11', 'vertebrae_T10', 'vertebrae_T9', 'vertebrae_T8', 'vertebrae_T7', 'vertebrae_T6', 'vertebrae_T5', 'vertebrae_T4', 'vertebrae_T3', 'vertebrae_T2', 'vertebrae_T1', 'vertebrae_C7', 'vertebrae_C6', 'vertebrae_C5', 'vertebrae_C4', 'vertebrae_C3', 'vertebrae_C2', 'vertebrae_C1', 'heart', 'aorta', 'pulmonary_vein', 'brachiocephalic_trunk', 'subclavian_artery_right', 'subclavian_artery_left', 'common_carotid_artery_right', 'common_carotid_artery_left', 'brachiocephalic_vein_left', 'brachiocephalic_vein_right', 'atrial_appendage_left', 'superior_vena_cava', 'inferior_vena_cava', 'portal_vein_and_splenic_vein', 'iliac_artery_left', 'iliac_artery_right', 'iliac_vena_left', 'iliac_vena_right', 'humerus_left', 'humerus_right', 'scapula_left', 'scapula_right', 'clavicula_left', 'clavicula_right', 'femur_right', 'hip_left', 'hip_right', 'spinal_cord', 'gluteus_maximus_left', 'gluteus_maximus_right', 'gluteus_medius_left', 'gluteus_medius_right', 'gluteus_minimus_left', 'gluteus_minimus_right', 'autochthon_left', 'autochthon_right', 'iliopsoas_left', 'iliopsoas_right', 'brain', 'skull', 'rib_right_4', 'rib_right_3', 'rib_left_1', 'rib_left_2', 'rib_left_3', 'rib_left_4', 'rib_left_5', 'rib_left_6', 'rib_left_7', 'rib_left_8', 'rib_left_9', 'rib_left_10', 'rib_left_11', 'rib_left_12', 'rib_right_1', 'rib_right_2', 'rib_right_5', 'rib_right_6', 'rib_right_7', 'rib_right_8', 'rib_right_9', 'rib_right_10', 'rib_right_11', 'rib_right_12', 'sternum', 'costal_cartilages']\n"
     ]
    }
   ],
   "source": [
    "file_RT = os.path.join(save_path, 'dicom_multibed_tutorial', 'segmentations.dcm')\n",
    "rtstruct = RTStructBuilder.create_from(\n",
    "        dicom_series_path=path_CT, \n",
    "        rt_struct_path=file_RT\n",
    "    )\n",
    "print(rtstruct.get_roi_names())"
   ]
  },
  {
   "cell_type": "markdown",
   "id": "d24b1f29",
   "metadata": {
    "papermill": {
     "duration": 0.004694,
     "end_time": "2024-11-19T22:26:20.211006",
     "exception": false,
     "start_time": "2024-11-19T22:26:20.206312",
     "status": "completed"
    },
    "tags": []
   },
   "source": [
    "We can see the `'kidney_right'` is listed as one of the available masks. We can obtain this mask as follows:\n",
    "* `file_RT` is the path to the RTStruct file\n",
    "* `file_NM` is the path the the SPECT projection data; this is required for aligning the mask\n",
    "* `dicom_series_path` is the reference DICOM path of the RTStruct\n",
    "* `rt_struct_name` is the name of the RTStruct we wish to open"
   ]
  },
  {
   "cell_type": "code",
   "execution_count": 9,
   "id": "57027624",
   "metadata": {
    "execution": {
     "iopub.execute_input": "2024-11-19T22:26:20.221535Z",
     "iopub.status.busy": "2024-11-19T22:26:20.221140Z",
     "iopub.status.idle": "2024-11-19T22:26:23.236056Z",
     "shell.execute_reply": "2024-11-19T22:26:23.235416Z"
    },
    "papermill": {
     "duration": 3.02225,
     "end_time": "2024-11-19T22:26:23.237737",
     "exception": false,
     "start_time": "2024-11-19T22:26:20.215487",
     "status": "completed"
    },
    "tags": []
   },
   "outputs": [],
   "source": [
    "mask_name = 'kidney_left'\n",
    "kidney_mask = dicom.get_aligned_rtstruct(\n",
    "    file_RT = file_RT,\n",
    "    file_NM = file_NM,\n",
    "    dicom_series_path = path_CT,\n",
    "    rt_struct_name = mask_name\n",
    ")"
   ]
  },
  {
   "cell_type": "markdown",
   "id": "24bf9411",
   "metadata": {
    "papermill": {
     "duration": 0.00455,
     "end_time": "2024-11-19T22:26:23.247437",
     "exception": false,
     "start_time": "2024-11-19T22:26:23.242887",
     "status": "completed"
    },
    "tags": []
   },
   "source": [
    "We can compute the relative and absolute uncertainty corresponding to counts in this region using the `compute_uncertainty` function of the reconstruction algorithm. We also need to pass in the `DataStorageCallback` which contains every iterative update to the objects."
   ]
  },
  {
   "cell_type": "code",
   "execution_count": 10,
   "id": "7b6a3bf1",
   "metadata": {
    "execution": {
     "iopub.execute_input": "2024-11-19T22:26:23.259318Z",
     "iopub.status.busy": "2024-11-19T22:26:23.258950Z",
     "iopub.status.idle": "2024-11-19T22:26:32.285770Z",
     "shell.execute_reply": "2024-11-19T22:26:32.284920Z"
    },
    "papermill": {
     "duration": 9.034789,
     "end_time": "2024-11-19T22:26:32.287128",
     "exception": false,
     "start_time": "2024-11-19T22:26:23.252339",
     "status": "completed"
    },
    "tags": []
   },
   "outputs": [
    {
     "name": "stdout",
     "output_type": "stream",
     "text": [
      "Estimated uncertainty in kidney_left: 0.94%\n"
     ]
    }
   ],
   "source": [
    "uncertainty_abs, uncertainty_pct = recon_algorithm.compute_uncertainty(\n",
    "    mask = kidney_mask,\n",
    "    data_storage_callback = data_storage_callback,\n",
    "    return_pct = True,\n",
    "    include_additive_term=True # must have additive_term_variance_estimate in likelihood\n",
    ")\n",
    "print(f'Estimated uncertainty in {mask_name}: {uncertainty_pct:.2f}%')"
   ]
  },
  {
   "cell_type": "markdown",
   "id": "599e77ba",
   "metadata": {
    "papermill": {
     "duration": 0.00449,
     "end_time": "2024-11-19T22:26:32.296581",
     "exception": false,
     "start_time": "2024-11-19T22:26:32.292091",
     "status": "completed"
    },
    "tags": []
   },
   "source": [
    "This can be repeated for any of the masks above! In addition, you can play around the with iterations, subsets (or even try different reconstruction algorithms) and see how it effects the estimated uncertainty."
   ]
  },
  {
   "cell_type": "markdown",
   "id": "5ee0ac2c",
   "metadata": {
    "papermill": {
     "duration": 0.004658,
     "end_time": "2024-11-19T22:26:32.305951",
     "exception": false,
     "start_time": "2024-11-19T22:26:32.301293",
     "status": "completed"
    },
    "tags": []
   },
   "source": [
    "## Multiple Bed Positions"
   ]
  },
  {
   "cell_type": "markdown",
   "id": "3905d686",
   "metadata": {
    "papermill": {
     "duration": 0.004567,
     "end_time": "2024-11-19T22:26:32.314938",
     "exception": false,
     "start_time": "2024-11-19T22:26:32.310371",
     "status": "completed"
    },
    "tags": []
   },
   "source": [
    "PyTomography is also capable of uncertainty estimation in masks that are contained in two seperate bed positions. This uncertainty estimation takes into account the stitching weights between two different bed positions (if the mask is near the edge) when computing the organ variance in each seperate region.\n",
    "\n",
    "* The code below is a summary of the multibed position tutorial, except that we now include a DataStorageCallback for each bed position"
   ]
  },
  {
   "cell_type": "code",
   "execution_count": 11,
   "id": "1295937e",
   "metadata": {
    "execution": {
     "iopub.execute_input": "2024-11-19T22:26:32.325605Z",
     "iopub.status.busy": "2024-11-19T22:26:32.325105Z",
     "iopub.status.idle": "2024-11-19T22:26:32.460131Z",
     "shell.execute_reply": "2024-11-19T22:26:32.459370Z"
    },
    "papermill": {
     "duration": 0.142444,
     "end_time": "2024-11-19T22:26:32.461871",
     "exception": false,
     "start_time": "2024-11-19T22:26:32.319427",
     "status": "completed"
    },
    "tags": []
   },
   "outputs": [],
   "source": [
    "files_NM = [\n",
    "    os.path.join(save_path, 'dicom_multibed_tutorial', 'bed1_projections.dcm'),\n",
    "    os.path.join(save_path, 'dicom_multibed_tutorial', 'bed2_projections.dcm'),\n",
    "]\n",
    "path_CT = os.path.join(save_path, 'dicom_multibed_tutorial', 'CT')\n",
    "files_CT = [os.path.join(path_CT, file) for file in os.listdir(path_CT)]\n",
    "\n",
    "projectionss = dicom.load_multibed_projections(files_NM)\n",
    "\n",
    "\n",
    "def initialize_reconstruction_algorithm_singlebed(i):\n",
    "    # Change these depending on your file:\n",
    "    index_peak = 1\n",
    "    index_lower = 3\n",
    "    index_upper = 2\n",
    "    projections = projectionss[i]\n",
    "    file_NM = files_NM[i]\n",
    "    object_meta, proj_meta = dicom.get_metadata(file_NM, index_peak=index_peak)\n",
    "    photopeak = projections[index_peak]\n",
    "    scatter = dicom.get_energy_window_scatter_estimate_projections(file_NM, projections, index_peak, index_lower, index_upper)\n",
    "    # Build system matrix\n",
    "    attenuation_map = dicom.get_attenuation_map_from_CT_slices(files_CT, file_NM, index_peak=index_peak)\n",
    "    psf_meta = dicom.get_psfmeta_from_scanner_params('GI-MEGP', energy_keV=208)\n",
    "    att_transform = SPECTAttenuationTransform(attenuation_map)\n",
    "    psf_transform = SPECTPSFTransform(psf_meta)\n",
    "    # Create system matrix\n",
    "    system_matrix = SPECTSystemMatrix(\n",
    "        obj2obj_transforms = [att_transform,psf_transform],\n",
    "        proj2proj_transforms= [],\n",
    "        object_meta = object_meta,\n",
    "        proj_meta = proj_meta)\n",
    "    likelihood = PoissonLogLikelihood(system_matrix, photopeak, additive_term=scatter)\n",
    "    reconstruction_algorithm = OSEM(likelihood)\n",
    "    # Return only the reconstruction algorithm initialization (not calling it for any iterations/subsets yet)\n",
    "    return reconstruction_algorithm"
   ]
  },
  {
   "cell_type": "markdown",
   "id": "df6e1284",
   "metadata": {
    "papermill": {
     "duration": 0.004813,
     "end_time": "2024-11-19T22:26:32.471812",
     "exception": false,
     "start_time": "2024-11-19T22:26:32.466999",
     "status": "completed"
    },
    "tags": []
   },
   "source": [
    "In order to compute uncertainty, we need to use the `PGAAMultiBedWrapper` reconstruction algorithm, which takes in multiple initialized reconstruction algorithms for each bed position (this class can also be used to reconstruct multiple bed positions without uncertainty as well)"
   ]
  },
  {
   "cell_type": "code",
   "execution_count": 12,
   "id": "eb4626f9",
   "metadata": {
    "execution": {
     "iopub.execute_input": "2024-11-19T22:26:32.482219Z",
     "iopub.status.busy": "2024-11-19T22:26:32.481805Z",
     "iopub.status.idle": "2024-11-19T22:27:04.069161Z",
     "shell.execute_reply": "2024-11-19T22:27:04.066698Z"
    },
    "papermill": {
     "duration": 31.596329,
     "end_time": "2024-11-19T22:27:04.072837",
     "exception": false,
     "start_time": "2024-11-19T22:26:32.476508",
     "status": "completed"
    },
    "tags": []
   },
   "outputs": [
    {
     "name": "stdout",
     "output_type": "stream",
     "text": [
      "Given photopeak energy 208.0 keV and CT energy 120 keV from the CT DICOM header, the HU->mu conversion from the following configuration is used: 208.0 keV SPECT energy, 120 keV CT energy, and scanner model optimact540\n"
     ]
    },
    {
     "name": "stdout",
     "output_type": "stream",
     "text": [
      "Given photopeak energy 208.0 keV and CT energy 120 keV from the CT DICOM header, the HU->mu conversion from the following configuration is used: 208.0 keV SPECT energy, 120 keV CT energy, and scanner model optimact540\n"
     ]
    }
   ],
   "source": [
    "recon_algo_upper = initialize_reconstruction_algorithm_singlebed(0)\n",
    "recon_algo_lower  = initialize_reconstruction_algorithm_singlebed(1)\n",
    "recon_algo = PGAAMultiBedSPECT(files_NM, [recon_algo_upper, recon_algo_lower])\n",
    "# Initialize callback for each bed position\n",
    "callbacks = [DataStorageCallback(r.likelihood, r.object_prediction) for r in recon_algo.reconstruction_algorithms]\n",
    "reconstructed_image_multibed = recon_algo(4, 8, callback=callbacks)"
   ]
  },
  {
   "cell_type": "markdown",
   "id": "62f60190",
   "metadata": {
    "papermill": {
     "duration": 0.004781,
     "end_time": "2024-11-19T22:27:04.083575",
     "exception": false,
     "start_time": "2024-11-19T22:27:04.078794",
     "status": "completed"
    },
    "tags": []
   },
   "source": [
    "Lets plot the reconstruction (note how the liver overlaps two different bed positions, since it spans the center of the image)"
   ]
  },
  {
   "cell_type": "code",
   "execution_count": 13,
   "id": "95fbefff",
   "metadata": {
    "execution": {
     "iopub.execute_input": "2024-11-19T22:27:04.094949Z",
     "iopub.status.busy": "2024-11-19T22:27:04.094402Z",
     "iopub.status.idle": "2024-11-19T22:27:04.177045Z",
     "shell.execute_reply": "2024-11-19T22:27:04.176444Z"
    },
    "papermill": {
     "duration": 0.09011,
     "end_time": "2024-11-19T22:27:04.178474",
     "exception": false,
     "start_time": "2024-11-19T22:27:04.088364",
     "status": "completed"
    },
    "tags": []
   },
   "outputs": [
    {
     "data": {
      "image/png": "[encoded data removed]",
      "text/plain": [
       "<Figure size 300x500 with 1 Axes>"
      ]
     },
     "metadata": {},
     "output_type": "display_data"
    }
   ],
   "source": [
    "maximum_intensity_projection = reconstructed_image_multibed.max(axis=1)[0].cpu()\n",
    "plt.figure(figsize=(3,5))\n",
    "plt.imshow(maximum_intensity_projection.T, cmap='Greys', vmax=5, origin='lower', interpolation='gaussian')\n",
    "plt.axis('off')\n",
    "plt.show()"
   ]
  },
  {
   "cell_type": "markdown",
   "id": "b5f8ee25",
   "metadata": {
    "papermill": {
     "duration": 0.005423,
     "end_time": "2024-11-19T22:27:04.189662",
     "exception": false,
     "start_time": "2024-11-19T22:27:04.184239",
     "status": "completed"
    },
    "tags": []
   },
   "source": [
    "When we obtain the organ mask, we need to \n",
    "1. Specify the shape as the shape of the reconstructed image (not the batch dimension, so we use `[1:]`)\n",
    "2. Specify the `file_NM` in the most superior bed position"
   ]
  },
  {
   "cell_type": "code",
   "execution_count": 14,
   "id": "e11f80b8",
   "metadata": {
    "execution": {
     "iopub.execute_input": "2024-11-19T22:27:04.201412Z",
     "iopub.status.busy": "2024-11-19T22:27:04.201073Z",
     "iopub.status.idle": "2024-11-19T22:27:07.542181Z",
     "shell.execute_reply": "2024-11-19T22:27:07.541298Z"
    },
    "papermill": {
     "duration": 3.348925,
     "end_time": "2024-11-19T22:27:07.544059",
     "exception": false,
     "start_time": "2024-11-19T22:27:04.195134",
     "status": "completed"
    },
    "tags": []
   },
   "outputs": [],
   "source": [
    "mask_name = 'liver'\n",
    "liver_mask = dicom.get_aligned_rtstruct(\n",
    "    file_RT = file_RT,\n",
    "    file_NM = files_NM[0],\n",
    "    dicom_series_path = path_CT,\n",
    "    rt_struct_name = mask_name,\n",
    "    shape=reconstructed_image_multibed.shape\n",
    ")"
   ]
  },
  {
   "cell_type": "markdown",
   "id": "6df93d50",
   "metadata": {
    "papermill": {
     "duration": 0.005962,
     "end_time": "2024-11-19T22:27:07.556137",
     "exception": false,
     "start_time": "2024-11-19T22:27:07.550175",
     "status": "completed"
    },
    "tags": []
   },
   "source": [
    "Now we can compute the uncertainty in the liver, which spans both bed positions"
   ]
  },
  {
   "cell_type": "code",
   "execution_count": 15,
   "id": "1f5732f4",
   "metadata": {
    "execution": {
     "iopub.execute_input": "2024-11-19T22:27:07.568677Z",
     "iopub.status.busy": "2024-11-19T22:27:07.568182Z",
     "iopub.status.idle": "2024-11-19T22:27:13.218098Z",
     "shell.execute_reply": "2024-11-19T22:27:13.217068Z"
    },
    "papermill": {
     "duration": 5.658289,
     "end_time": "2024-11-19T22:27:13.219984",
     "exception": false,
     "start_time": "2024-11-19T22:27:07.561695",
     "status": "completed"
    },
    "tags": []
   },
   "outputs": [],
   "source": [
    "uncertainty_abs, uncertainty_pct = recon_algo.compute_uncertainty(liver_mask, callbacks, return_pct=True)"
   ]
  },
  {
   "cell_type": "code",
   "execution_count": 16,
   "id": "1b8b9ae0",
   "metadata": {
    "execution": {
     "iopub.execute_input": "2024-11-19T22:27:13.235378Z",
     "iopub.status.busy": "2024-11-19T22:27:13.235055Z",
     "iopub.status.idle": "2024-11-19T22:27:13.239361Z",
     "shell.execute_reply": "2024-11-19T22:27:13.238830Z"
    },
    "papermill": {
     "duration": 0.014608,
     "end_time": "2024-11-19T22:27:13.240563",
     "exception": false,
     "start_time": "2024-11-19T22:27:13.225955",
     "status": "completed"
    },
    "tags": []
   },
   "outputs": [
    {
     "name": "stdout",
     "output_type": "stream",
     "text": [
      "Estimated uncertainty in liver: 1.56%\n"
     ]
    }
   ],
   "source": [
    "print(f'Estimated uncertainty in {mask_name}: {uncertainty_pct:.2f}%')"
   ]
  }
 ],
 "metadata": {
  "kernelspec": {
   "display_name": "pytomo_install_test",
   "language": "python",
   "name": "python3"
  },
  "language_info": {
   "codemirror_mode": {
    "name": "ipython",
    "version": 3
   },
   "file_extension": ".py",
   "mimetype": "text/x-python",
   "name": "python",
   "nbconvert_exporter": "python",
   "pygments_lexer": "ipython3",
   "version": "3.11.10"
  },
  "papermill": {
   "default_parameters": {},
   "duration": 76.143651,
   "end_time": "2024-11-19T22:27:14.363496",
   "environment_variables": {},
   "exception": null,
   "input_path": "t_uncertainty_spect.ipynb",
   "output_path": "t_uncertainty_spect.ipynb",
   "parameters": {},
   "start_time": "2024-11-19T22:25:58.219845",
   "version": "2.6.0"
  }
 },
 "nbformat": 4,
 "nbformat_minor": 5
}