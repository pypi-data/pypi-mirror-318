{
 "cells": [
  {
   "cell_type": "markdown",
   "metadata": {},
   "source": [
    "# Dear ImGui\n",
    "\n",
    "\n",
    "## References and full list of widgets available in Dear ImGui\n",
    "\n",
    "Link to ImGui Manual, with image of Python code.\n",
    "\n",
    "## Difference between C++ and Python API.\n",
    "\n",
    "## How to layout your GUI with ImGui\n",
    "\n",
    "\n",
    "imgui.same_line()\n",
    "imgui.begin_group()\n",
    "imgui.set_next_item_width()\n",
    "\n",
    "\n",
    "# Using imgui.begin_horizontal() and imgui.end_horizontal()\n",
    "\n",
    "Note: this addition is specific to ImGui Bundle\n",
    "\n",
    "imgui.begin_horizontal()\n"
   ]
  },
  {
   "cell_type": "markdown",
   "metadata": {},
   "source": []
  },
  {
   "cell_type": "markdown",
   "metadata": {},
   "source": [
    "# ChatGPT advices\n",
    "```\n",
    "Dear ImGui Tutorial\n",
    "\n",
    "    State Management:\n",
    "        Explain how to manage local state vs. global state in ImGui widgets.\n",
    "        Provide examples of immediate changes with local variables (e.g., sliders) and persistent state (e.g., static variables in C++ or class attributes in Python).\n",
    "\n",
    "    Input Handling:\n",
    "        Show how to handle user input with text input, keyboard shortcuts, or mouse events.\n",
    "        Include an example of imgui.is_item_active() and similar methods to check interaction.\n",
    "\n",
    "    Custom Widgets:\n",
    "        Briefly introduce how to extend Dear ImGui with custom widgets (C++ focus, Python bindings example if available).\n",
    "        Mention ImDrawList for custom rendering.\n",
    "\n",
    "    Performance Tips:\n",
    "        Provide practical tips to optimize Dear ImGui applications for real-time interaction:\n",
    "            Avoid heavy computations in the GUI loop.\n",
    "            Use caching techniques for repetitive operations.\n",
    "\n",
    "    Integration Examples:\n",
    "        Show Dear ImGui integration into existing projects with libraries like GLFW or SDL.\n",
    "        Highlight key backend differences (e.g., OpenGL3, DirectX).\n",
    "```\n",
    "\n",
    "\n",
    "Add a small section in each tutorial highlighting common mistakes or tricky parts:\n",
    "\n",
    "* DPI scaling issues.\n",
    "* Misuse of imgui.same_line() leading to misaligned widgets.\n",
    "* Performance bottlenecks in render loops."
   ]
  },
  {
   "cell_type": "markdown",
   "metadata": {},
   "source": []
  }
 ],
 "metadata": {
  "kernelspec": {
   "display_name": "v312_2",
   "language": "python",
   "name": "python3"
  },
  "language_info": {
   "codemirror_mode": {
    "name": "ipython",
    "version": 3
   },
   "file_extension": ".py",
   "mimetype": "text/x-python",
   "name": "python",
   "nbconvert_exporter": "python",
   "pygments_lexer": "ipython3",
   "version": "3.12.0"
  }
 },
 "nbformat": 4,
 "nbformat_minor": 2
}
