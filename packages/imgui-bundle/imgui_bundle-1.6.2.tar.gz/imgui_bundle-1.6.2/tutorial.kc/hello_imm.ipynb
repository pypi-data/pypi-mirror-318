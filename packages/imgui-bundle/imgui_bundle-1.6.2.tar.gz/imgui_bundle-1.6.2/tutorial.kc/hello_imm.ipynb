{
 "cells": [
  {
   "cell_type": "markdown",
   "metadata": {},
   "source": [
    "# Writing your first Immediate Mode applications\n",
    "\n",
    "Let's start by creating a simple application \"Hello, World\" application, where we will demonstrate several aspects of ImGui and Hello ImGui.\n",
    "\n",
    "## Hello, World! Display text and images\n",
    "\n",
    "We will start by displaying a text and an image in the application window, with the following steps:\n",
    "1. We define a gui function that will be called by Hello ImGui at every frame: It will display the GUI of our application *and* handle user events.\n",
    "2. We use the `imgui.text()` function to display a text in the window.\n",
    "3. We use `hello_imgui.im_texture_id_from_asset()` to load an image from an asset file, and `imgui.image()` to display it, with a size of 100x100 pixels.\n",
    "4. We call `hello_imgui.run()` to start the application, optionally specifying the window title and size.\n",
    "\n",
    "\n",
    "Notes: \n",
    "- Dear ImGui is not able to load images by itself, so we use Hello ImGui's `image_from_asset()` function to load and display an image. \n",
    "- The image will either be loaded from a path relative to the assets folder, or via a full path provided as an argument to `image_from_asset()`.\n",
    "- Look at the Hello ImGui tutorial for more information on how to start a Hello ImGui application, and how to load images.\n"
   ]
  },
  {
   "cell_type": "code",
   "execution_count": 44,
   "metadata": {},
   "outputs": [
    {
     "data": {
      "image/jpeg": "[encoded data removed]",
      "text/plain": [
       "<IPython.core.display.Image object>"
      ]
     },
     "metadata": {},
     "output_type": "display_data"
    }
   ],
   "source": [
    "from imgui_bundle import imgui, hello_imgui, ImVec2\n",
    "\n",
    "def gui():                                                                  # 1.\n",
    "    # Display a label saying \"Hello, \"\n",
    "    imgui.text(\"Hello, \")                                                   # 2.\n",
    "\n",
    "    # Display an image from the \"assets/\" folder\n",
    "    texture_id = hello_imgui.im_texture_id_from_asset(\"images/world.png\")   # 3.\n",
    "    imgui.image(texture_id, ImVec2(100, 100))                               # 3.\n",
    "\n",
    "\n",
    "hello_imgui.run(gui, window_title=\"Hello, World!\", window_size=(150, 150))  # 4."
   ]
  },
  {
   "cell_type": "markdown",
   "metadata": {},
   "source": [
    "```cpp\n",
    "#include \"imgui.h\"\n",
    "#include <hello_imgui/hello_imgui.h>\n",
    "\n",
    "void Gui() {                                                                // 1.\n",
    "    // Display a label saying \"Hello,\"\n",
    "    ImGui::Text(\"Hello, \");                                                 // 2.\n",
    "\n",
    "    // Display an image from the \"assets/\" folder\n",
    "    auto texture_id = HelloImGui::ImTextureIdFromAsset(\"images/world.png\"); // 3.\n",
    "    ImGui::Image(texture_id, ImVec2(100, 100));                             // 3.\n",
    "}\n",
    "\n",
    "int main() {\n",
    "    HelloImGui::Run(                                                        // 4.\n",
    "        Gui,             // guiFunction\n",
    "        \"Hello, World!\", // windowTitle\n",
    "        false,           // windowSizeAuto\n",
    "        false,           // windowRestorePreviousGeometry\n",
    "        {400, 300});     // windowSize\n",
    "}\n",
    "```"
   ]
  },
  {
   "cell_type": "markdown",
   "metadata": {},
   "source": [
    "## Handling button clicks\n",
    "\n",
    "We will now handle the click events, with the following steps:\n",
    "\n",
    "1. Add an AppState class to store the state of the application. This is a recommended best practice, as it allows to separate the GUI code from the business logic.\n",
    "2. Add a counter to the AppState. This counter will be incremented each time a button is clicked.\n",
    "3. Let the gui function take an AppState as an argument (and possibly modify it).\n",
    "4. Add a button to the GUI, with `imgui.button()`, and increment the counter when the button is clicked.\n",
    "5. Add a tooltip to the button, to display a message when the user hovers over it.\n",
    "6. Add a button to exit the application (see note below).\n",
    "7. Create a main() function to run the application, where we create an AppState object\n",
    "8. Create a lambda function to call the gui function with the AppState object as an argument.\n",
    "9. Call `hello_imgui.run()` with the lambda function as an argument.\n",
    "\n",
    "*Note: In the case of a web application, such as in this tutorial, the \"exit\" button will not have any effect. In the case of a desktop application, it will close the window.*"
   ]
  },
  {
   "cell_type": "code",
   "execution_count": null,
   "metadata": {},
   "outputs": [
    {
     "data": {
      "image/jpeg": "[encoded data removed]",
      "text/plain": [
       "<IPython.core.display.Image object>"
      ]
     },
     "metadata": {},
     "output_type": "display_data"
    }
   ],
   "source": [
    "from imgui_bundle import imgui, hello_imgui\n",
    "\n",
    "class AppState:                                               # 1.\n",
    "    counter: int = 0                                          # 2.\n",
    "\n",
    "def gui(app_state: AppState):                                 # 3.\n",
    "    imgui.text(f\"Counter: {app_state.counter}\")\n",
    "    if imgui.button(\"Increment\"):                             # 4.\n",
    "        app_state.counter += 1\n",
    "    imgui.set_item_tooltip(\"Click to increment the counter\")  # 5.\n",
    "\n",
    "    if imgui.button(\"Exit\"):\n",
    "        hello_imgui.get_runner_params().app_shall_exit = True # 6.\n",
    "\n",
    "def main():                                                   # 7.\n",
    "    app_state = AppState()                                    # 7.\n",
    "    gui_fn = lambda: gui(app_state)                           # 8.\n",
    "    hello_imgui.run(gui_fn)                                   # 9.\n",
    "\n",
    "if __name__ == \"__main__\":                                    # 7.\n",
    "    main()                                                    # 7."
   ]
  },
  {
   "cell_type": "markdown",
   "metadata": {},
   "source": [
    "```cpp\n",
    "#include \"imgui.h\"\n",
    "#include <hello_imgui/hello_imgui.h>\n",
    "\n",
    "class AppState {                                                // 1.\n",
    "public:\n",
    "    int counter = 0;                                            // 2.\n",
    "};\n",
    "\n",
    "\n",
    "void Gui(AppState& appState) {                                  // 3.\n",
    "    ImGui::Text(\"Counter: %d\", appState.counter);\n",
    "    if (ImGui::Button(\"Increment\")) .                           // 4.\n",
    "        appState.counter++;\n",
    "    ImGui::SetItemTooltip(\"Click to increment the counter\");    // 5.\n",
    "\n",
    "    if (ImGui::Button(\"Exit\")) {                                // 6.\n",
    "        HelloImGui::GetRunnerParams()->appShallExit = true;\n",
    "    }\n",
    "}\n",
    "\n",
    "int main() {\n",
    "    AppState appState;                                          // 7.\n",
    "    auto gui_fn = [&]() { Gui(appState); }; // 8.\n",
    "    HelloImGui::Run(gui_fn, \"Handling Button Clicks\", false, false, {400, 300}); // 9.\n",
    "}\n",
    "```"
   ]
  },
  {
   "cell_type": "markdown",
   "metadata": {},
   "source": [
    "## Using widgets to edit values\n",
    "\n",
    "We will now create an application which displays a globe and allows the user to set the size of the globe.\n"
   ]
  },
  {
   "cell_type": "code",
   "execution_count": 26,
   "metadata": {},
   "outputs": [
    {
     "data": {
      "image/jpeg": "[encoded data removed]",
      "text/plain": [
       "<IPython.core.display.Image object>"
      ]
     },
     "metadata": {},
     "output_type": "display_data"
    }
   ],
   "source": [
    "from imgui_bundle import imgui, hello_imgui, ImVec2\n",
    "\n",
    "class AppState:\n",
    "    # Add a globe_size attribute to the AppState class\n",
    "    globe_size: float = 100.0\n",
    "\n",
    "def gui(app_state: AppState):\n",
    "    # hello_imgui.image_from_asset will keep the aspect ratio of the image\n",
    "    # if one of the dimensions is set to 0\n",
    "    hello_imgui.image_from_asset(\"images/world.png\", ImVec2(app_state.globe_size, 0))\n",
    "\n",
    "    # Display a slider to change the globe size\n",
    "    # In Python, ImGui widgets often return a tuple of (value_changed: bool, new_value: ...), \n",
    "    # hence we store the first element of the tuple in a variable called _changed, \n",
    "    # and the second element in app_state.globe_size\n",
    "    #\n",
    "    # Note: This is specific to Python bindings. \n",
    "    #       In C++, the return value of ImGui::SliderFloat would be a single bool \n",
    "    #       and it would modify the globe_size variable directly (passed by pointer).\n",
    "    #       The equivalent C++ code would be:\n",
    "    #            bool changed = ImGui::SliderFloat(\n",
    "    #                                \"Globe size\", &globe_size, 20.0, 400.0);\n",
    "    _changed, app_state.globe_size = imgui.slider_float(\"Globe size\", app_state.globe_size, 20.0, 400.0)\n",
    "\n",
    "\n",
    "def main():\n",
    "    app_state = AppState()\n",
    "    gui_fn = lambda: gui(app_state)\n",
    "    hello_imgui.run(gui_fn, window_title=\"Hello, World!\", window_size=(420, 420))\n",
    "\n",
    "if __name__ == \"__main__\":\n",
    "    main()"
   ]
  },
  {
   "cell_type": "markdown",
   "metadata": {},
   "source": [
    "```cpp\n",
    "#include \"hello_imgui/hello_imgui.h\"\n",
    "#include \"imgui.h\"\n",
    "\n",
    "class AppState {\n",
    "public:\n",
    "    // Add a globe_size attribute to the AppState class\n",
    "    float globe_size = 100.0f;\n",
    "};\n",
    "\n",
    "// Define the GUI function\n",
    "void Gui(AppState& app_state) {\n",
    "    // hello_imgui::ImageFromAsset will keep the aspect ratio of the image\n",
    "    // if one of the dimensions is set to 0\n",
    "    HelloImGui::ImageFromAsset(\"images/world.png\", ImVec2(app_state.globe_size, 0.0f));\n",
    "\n",
    "    // Display a slider to change the globe size\n",
    "    // In C++, ImGui widgets modify variables directly using pointers.\n",
    "    // The return value of ImGui::SliderFloat is a bool indicating whether the value was changed.\n",
    "    //\n",
    "    // Note: This differs from Python bindings, where the method returns a tuple (changed, value).\n",
    "    // Here, we simply pass a pointer to app_state.globe_size.\n",
    "    bool changed = ImGui::SliderFloat(\"Globe size\", &app_state.globe_size, 20.0f, 400.0f);\n",
    "    // `changed` is true if the slider's value was modified, but we don't use it here.\n",
    "}\n",
    "\n",
    "int main() {\n",
    "    AppState app_state;\n",
    "    auto gui_fn = [&]() { Gui(app_state); };\n",
    "    HelloImGui::Run(gui_fn, \"Hello, World!\", false, false, {420, 420});\n",
    "}\n",
    "```"
   ]
  },
  {
   "cell_type": "markdown",
   "metadata": {},
   "source": [
    "# Advices to layout your GUI\n",
    "\n",
    "* Widget labels need to be unique, so you can use a suffix to create a unique identifier for a widget by adding a suffix \"##some_suffix\", which will not be displayed : see [FAQ](https://github.com/ocornut/imgui/blob/master/docs/FAQ.md#q-about-the-id-stack-system)\n",
    "* You can use horizontal and vertical layouts to create columns and rows.\n",
    "* You can use the `imgui.set_next_item_with` function to set the width of the next widget.\n",
    "\n",
    "**Using em units**\n",
    "\n",
    "It is important to use em units (see https://en.wikipedia.org/wiki/Em_(typography) ), in order to create application whose layout adapts to the font size,  and does not depend on the screen resolution and scaling.\n",
    "\n",
    "Hello ImGui provides several helper functions to convert between pixels and em units:\n",
    "\n",
    "*In Python*\n",
    "```python\n",
    "hello_imgui.em_to_vec2(em_width: float, em_height: float) -> ImVec2\n",
    "hello_imgui.em_size(em: float = 1.0) -> float\n",
    "hello_imgui.pixels_to_em(px_width: float, px_height: float) -> ImVec2\n",
    "```\n",
    "\n",
    "*In C++*\n",
    "```cpp\n",
    "ImVec2 HelloImGui::EmToVec2(float em_width, float em_height);\n",
    "float HelloImGui::EmSize(float em = 1.0f);\n",
    "ImVec2 HelloImGui::PixelsToEm(float px_width, float px_height);\n",
    "```\n",
    "\n",
    "The code below illustrates these techniques:\n"
   ]
  },
  {
   "cell_type": "code",
   "execution_count": 42,
   "metadata": {},
   "outputs": [
    {
     "data": {
      "image/jpeg": "[encoded data removed]",
      "text/plain": [
       "<IPython.core.display.Image object>"
      ]
     },
     "metadata": {},
     "output_type": "display_data"
    }
   ],
   "source": [
    "from imgui_bundle import imgui, hello_imgui, imgui_ctx\n",
    "\n",
    "\n",
    "class AppState:\n",
    "    \"\"\"Our application state\"\"\"\n",
    "    name: str = \"\"\n",
    "    first_name: str = \"\"\n",
    "    city: str = \"\"\n",
    "    age: int = 0\n",
    "\n",
    "\n",
    "def input_text_aligned(label: str, value: str, width_pixel: float) -> tuple[bool, str]:\n",
    "    \"\"\"A helper function to create a label and an input text field in the same row, \n",
    "    where the label is placed to the left, and the input field is right-aligned.\n",
    "    It returns a tuple of (changed: bool, value: str), following the pattern of imgui.input_text.\n",
    "    \"\"\"\n",
    "    # We will use an horizontal layout to place the label and the input field in the same row\n",
    "    # (by default, imgui places widgets vertically)\n",
    "    with imgui_ctx.begin_horizontal(label):\n",
    "        # Display the label on the left side\n",
    "        imgui.text(label)\n",
    "        # Add a spring, which will occupy all remaining space:\n",
    "        # this will push the input field to the right\n",
    "        imgui.spring()\n",
    "        imgui.set_next_item_width(width_pixel)\n",
    "        # Note: by default, imgui.input_text will place the label to the right of the input field.\n",
    "        # We do not want that, so we will use \"##\" to hide the label. We still need to make it unique,\n",
    "        # so we append the user provided label to it (which will not be displayed).\n",
    "        changed, value = imgui.input_text(\"##\" + label, value)\n",
    "    return changed, value\n",
    "\n",
    "\n",
    "def gui(app_state: AppState):\n",
    "    # Set the width of the widgets: we will use 10 em for most widgets\n",
    "    widgets_width = hello_imgui.em_size(10)\n",
    "\n",
    "    # Add some spacing at the top: we will skip 1 line of text\n",
    "    imgui.dummy(hello_imgui.em_to_vec2(0, 1))\n",
    "\n",
    "    # Enclose the widgets in a vertical layout: this is important, so that \n",
    "    # the inner horizontal layouts use their parent's layout width.\n",
    "    with imgui_ctx.begin_vertical(\"main\"):\n",
    "        imgui.separator_text(\"Personal information\")\n",
    "        imgui.dummy(hello_imgui.em_to_vec2(20, 0))\n",
    "        _, app_state.name = input_text_aligned(\"Name\", app_state.name, widgets_width)\n",
    "        _, app_state.first_name = input_text_aligned(\"First name\", app_state.first_name, widgets_width)\n",
    "        _, app_state.city = input_text_aligned(\"City\", app_state.city, widgets_width)\n",
    "\n",
    "        # Add a slider to input the age: we enclose it in a horizontal layout\n",
    "        with imgui_ctx.begin_horizontal(\"Age\"):\n",
    "            imgui.text(\"Age\")\n",
    "            # Add a spring to push the slider to the right\n",
    "            imgui.spring()\n",
    "            # Set the width of the slider to 10 em (by default, it would be the full width of the window)\n",
    "            imgui.set_next_item_width(widgets_width)\n",
    "            # use imgui.slider_int with a hidden label, and a range from 0 to 120\n",
    "            _, app_state.age = imgui.slider_int(\"##Age\", app_state.age, 0, 120)\n",
    "\n",
    "\n",
    "def main():\n",
    "    app_state = AppState()\n",
    "    hello_imgui.run(lambda: gui(app_state))\n",
    "\n",
    "\n",
    "if __name__ == \"__main__\":\n",
    "    main()"
   ]
  },
  {
   "cell_type": "markdown",
   "metadata": {},
   "source": [
    "# What's next?\n",
    "\n",
    "- There are **many** other widgets in Dear ImGui, and Dear ImGui Bundle. Look at the next pages of this tutorial for more examples.\n",
    "- Look at [Dear ImGui Manual](https://pthom.github.io/imgui_manual_online/manual/imgui_manual.html)\n"
   ]
  },
  {
   "cell_type": "code",
   "execution_count": null,
   "metadata": {},
   "outputs": [],
   "source": []
  }
 ],
 "metadata": {
  "kernelspec": {
   "display_name": "v312_2",
   "language": "python",
   "name": "python3"
  },
  "language_info": {
   "codemirror_mode": {
    "name": "ipython",
    "version": 3
   },
   "file_extension": ".py",
   "mimetype": "text/x-python",
   "name": "python",
   "nbconvert_exporter": "python",
   "pygments_lexer": "ipython3",
   "version": "3.12.0"
  }
 },
 "nbformat": 4,
 "nbformat_minor": 2
}
