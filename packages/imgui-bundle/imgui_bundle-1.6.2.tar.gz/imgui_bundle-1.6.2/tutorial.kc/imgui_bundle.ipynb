{
 "cells": [
  {
   "cell_type": "markdown",
   "metadata": {},
   "source": [
    "# ImGui Bundle\n",
    "\n",
    "\n",
    "## Dear ImGui & Hello ImGui\n",
    "\n",
    "Links\n",
    "\n",
    "## Additional Widgets available in Dear ImGui Bundle\n",
    "\n",
    "Use demo_widgets\n",
    "\n",
    "\n",
    "## ImPlot\n",
    "\n",
    "\n",
    "## ImGuizmo\n",
    "\n",
    "\n",
    "## ImGuiColorTextEdit\n",
    "\n",
    "\n",
    "..."
   ]
  },
  {
   "cell_type": "markdown",
   "metadata": {},
   "source": []
  }
 ],
 "metadata": {
  "kernelspec": {
   "display_name": "v312_2",
   "language": "python",
   "name": "python3"
  },
  "language_info": {
   "codemirror_mode": {
    "name": "ipython",
    "version": 3
   },
   "file_extension": ".py",
   "mimetype": "text/x-python",
   "name": "python",
   "nbconvert_exporter": "python",
   "pygments_lexer": "ipython3",
   "version": "3.12.0"
  }
 },
 "nbformat": 4,
 "nbformat_minor": 2
}
