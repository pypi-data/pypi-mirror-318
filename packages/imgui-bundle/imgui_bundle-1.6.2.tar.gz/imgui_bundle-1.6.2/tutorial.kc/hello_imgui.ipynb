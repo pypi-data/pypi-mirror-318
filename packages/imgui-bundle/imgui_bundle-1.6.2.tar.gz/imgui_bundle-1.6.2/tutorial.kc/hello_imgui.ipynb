{
 "cells": [
  {
   "cell_type": "markdown",
   "metadata": {},
   "source": [
    "# Hello ImGui\n",
    "\n",
    "\n",
    "## Dear ImGui / reminder\n",
    "\n",
    "* Full ImGui widgets list: Link to ImGui Manual, with image of Python code.\n",
    "* Layout\n",
    "\n",
    "hello_imgui.em_size() and hello_imgui.em_to_vec2() (i.e. how to use the em unit to create layouts, in a DPI-independent way)\n",
    "\n",
    "\n",
    "## Handling assets\n",
    "\n",
    "## Multiplatform support\n",
    "\n",
    "## DPI handling\n",
    "\n",
    "## Idling and frame rate\n",
    "\n",
    "## How to adjust the window options for your application\n",
    "\n",
    "\n",
    "## Theming\n",
    "\n",
    "\n",
    "## Custom 3D background\n",
    "\n",
    "\n",
    "## Full list of parameters available for Hello ImGui applications\n",
    "Link to\n",
    "https://pthom.github.io/hello_imgui/book/doc_params.html\n",
    "\n",
    "[Diagram](https://pthom.github.io/hello_imgui/book/doc_params.html#diagram)\n",
    "\n",
    "Explain that to translate from C++ to Python, one has to switch from CamelCase to snake_case, and from `::` to `.`\n",
    "\n",
    "List of parameters types:\n",
    "* [Application window params](https://pthom.github.io/hello_imgui/book/doc_params.html#application-window-params)\n",
    "* [callbacks](https://pthom.github.io/hello_imgui/book/doc_params.html#runnercallbacks)\n",
    "* \n",
    "\n",
    "## Creating complex layouts with dockable windows\n",
    "\n",
    "Use demo_docking demo\n",
    "\n",
    "\n",
    "## Additional Widgets available in Dear ImGui Bundle\n",
    "\n",
    "Use demo_widgets"
   ]
  },
  {
   "cell_type": "markdown",
   "metadata": {},
   "source": []
  },
  {
   "cell_type": "markdown",
   "metadata": {},
   "source": [
    "# ChatGPT advices\n",
    "\n",
    "```\n",
    "Hello ImGui Tutorial\n",
    "\n",
    "    Integrating Custom Fonts and Icons:\n",
    "        Demonstrate loading custom fonts and using icon libraries like FontAwesome.\n",
    "\n",
    "    hello_imgui.load_fonts(\"path/to/fontawesome.ttf\")\n",
    "\n",
    "Saving and Restoring User Preferences:\n",
    "\n",
    "    Explain how Hello ImGui handles window size, docked layout, and user-defined preferences via INI files.\n",
    "    Show how to modify or clear saved settings programmatically.\n",
    "\n",
    "Advanced Asset Management:\n",
    "\n",
    "    Include examples of embedding assets for cross-platform deployment (e.g., images, icons, shaders).\n",
    "\n",
    "Multithreading Considerations:\n",
    "\n",
    "    Explain how to separate rendering and computation threads for applications that need real-time updates.\n",
    "\n",
    "Interactivity with Custom Callbacks:\n",
    "\n",
    "    Demonstrate the use of RunnerCallbacks to enhance behavior:\n",
    "        before_exit\n",
    "        post_render\n",
    "        Mobile-specific callbacks (e.g., on_pause, on_resume).\n",
    "\n",
    "Debugging Utilities:\n",
    "\n",
    "    Introduce Dear ImGui’s built-in debugging tools and highlight Hello ImGui additions like frame rate displays, status bars, and logs.\n",
    "```"
   ]
  },
  {
   "cell_type": "markdown",
   "metadata": {},
   "source": []
  },
  {
   "cell_type": "markdown",
   "metadata": {},
   "source": []
  }
 ],
 "metadata": {
  "kernelspec": {
   "display_name": "v312_2",
   "language": "python",
   "name": "python3"
  },
  "language_info": {
   "codemirror_mode": {
    "name": "ipython",
    "version": 3
   },
   "file_extension": ".py",
   "mimetype": "text/x-python",
   "name": "python",
   "nbconvert_exporter": "python",
   "pygments_lexer": "ipython3",
   "version": "3.12.0"
  }
 },
 "nbformat": 4,
 "nbformat_minor": 2
}
