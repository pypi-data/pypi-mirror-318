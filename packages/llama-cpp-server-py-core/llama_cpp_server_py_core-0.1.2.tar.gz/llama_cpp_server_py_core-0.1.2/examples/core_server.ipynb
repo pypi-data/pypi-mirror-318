{
 "cells": [
  {
   "cell_type": "code",
   "execution_count": 1,
   "metadata": {},
   "outputs": [],
   "source": [
    "import logging\n",
    "import sys\n",
    "from llama_cpp_server_py_core import (\n",
    "    ServerProcess,\n",
    "    ServerConfig,\n",
    "    LlamaCppServer,\n",
    "    CompletionRequest,\n",
    "    CompletionResponse,\n",
    "    ChatCompletionRequest,\n",
    ")\n",
    "\n",
    "logging.basicConfig(\n",
    "    stream=sys.stdout,\n",
    "    level=logging.INFO,\n",
    "    format=\"%(asctime)s | %(levelname)s | %(name)s | %(message)s\",\n",
    ")"
   ]
  },
  {
   "cell_type": "code",
   "execution_count": null,
   "metadata": {},
   "outputs": [
    {
     "name": "stdout",
     "output_type": "stream",
     "text": [
      "2024-12-25 10:14:08,025 | INFO | llama_cpp_server_py_core.utils | Randomly selected available port: 53393\n",
      "2024-12-25 10:14:08,029 | INFO | llama_cpp_server_py_core.utils | Starting server process, start command: ['/home/staneyffer/codes/dl/llm/llamacpp/llama-cpp-server-py/llama-cpp-server-py-core/llama_cpp_server_py_core/lib/llama-server', '--host', '127.0.0.1', '--port', '53393', '--temp', '0.8', '--seed', '42', '--model', '/data/models/ggml-model-q4_0.gguf', '--n-gpu-layers', '1000000000', '--alias', 'tinyllama-2']\n",
      "2024-12-25 10:14:08,032 | INFO | llama_cpp_server_py_core.utils | Started server process with PID 2280555, current process: 2280533\n",
      "2024-12-25 10:14:08,037 | WARNING | urllib3.connectionpool | Retrying (Retry(total=2, connect=2, read=3, redirect=None, status=None)) after connection broken by 'NewConnectionError('<urllib3.connection.HTTPConnection object at 0x7a85082fbdf0>: Failed to establish a new connection: [Errno 111] Connection refused')': /health\n",
      "2024-12-25 10:14:08,041 | INFO | llama_cpp_server_py_core.utils | warning: no usable GPU found, --gpu-layers option will be ignored\n",
      "2024-12-25 10:14:08,052 | INFO | llama_cpp_server_py_core.utils | warning: one possible reason is that llama.cpp was compiled without GPU support\n",
      "warning: consult docs/build.md for compilation instructions\n",
      "build: 4372 (e34c5af4) with gcc-12 (Ubuntu 12.3.0-1ubuntu1~22.04) 12.3.0 for x86_64-linux-gnu\n",
      "system info: n_threads = 24, n_threads_batch = 24, total_threads = 48\n",
      "\n",
      "system_info: n_threads = 24 (n_threads_batch = 24) / 48 | CPU : SSE3 = 1 | SSSE3 = 1 | AVX = 1 | F16C = 1 | LLAMAFILE = 1 | OPENMP = 1 | AARCH64_REPACK = 1 | \n",
      "\n",
      "main: HTTP server is listening, hostname: 127.0.0.1, port: 53393, http threads: 47\n",
      "main: loading model\n",
      "srv    load_model: loading model '/data/models/ggml-model-q4_0.gguf'\n",
      "llama_model_loader: loaded meta data with 19 key-value pairs and 363 tensors from /data/models/ggml-model-q4_0.gguf (version GGUF V2)\n",
      "2024-12-25 10:14:08,053 | INFO | llama_cpp_server_py_core.utils | llama_model_loader: Dumping metadata keys/values. Note: KV overrides do not apply in this output.\n",
      "llama_model_loader: - kv   0:                       general.architecture str              = llama\n",
      "llama_model_loader: - kv   1:                               general.name str              = LLaMA v2\n",
      "llama_model_loader: - kv   2:                       llama.context_length u32              = 4096\n",
      "llama_model_loader: - kv   3:                     llama.embedding_length u32              = 5120\n",
      "llama_model_loader: - kv   4:                          llama.block_count u32              = 40\n",
      "llama_model_loader: - kv   5:                  llama.feed_forward_length u32              = 13824\n",
      "llama_model_loader: - kv   6:                 llama.rope.dimension_count u32              = 128\n",
      "llama_model_loader: - kv   7:                 llama.attention.head_count u32              = 40\n",
      "llama_model_loader: - kv   8:              llama.attention.head_count_kv u32              = 40\n",
      "llama_model_loader: - kv   9:     llama.attention.layer_norm_rms_epsilon f32              = 0.000010\n",
      "2024-12-25 10:14:08,081 | INFO | llama_cpp_server_py_core.utils | llama_model_loader: - kv  10:                          general.file_type u32              = 15\n",
      "llama_model_loader: - kv  11:                       tokenizer.ggml.model str              = llama\n",
      "llama_model_loader: - kv  12:                      tokenizer.ggml.tokens arr[str,32000]   = [\"<unk>\", \"<s>\", \"</s>\", \"<0x00>\", \"<...\n",
      "llama_model_loader: - kv  13:                      tokenizer.ggml.scores arr[f32,32000]   = [0.000000, 0.000000, 0.000000, 0.0000...\n",
      "llama_model_loader: - kv  14:                  tokenizer.ggml.token_type arr[i32,32000]   = [2, 3, 3, 6, 6, 6, 6, 6, 6, 6, 6, 6, ...\n",
      "llama_model_loader: - kv  15:                tokenizer.ggml.bos_token_id u32              = 1\n",
      "llama_model_loader: - kv  16:                tokenizer.ggml.eos_token_id u32              = 2\n",
      "llama_model_loader: - kv  17:            tokenizer.ggml.unknown_token_id u32              = 0\n",
      "llama_model_loader: - kv  18:               general.quantization_version u32              = 2\n",
      "llama_model_loader: - type  f32:   81 tensors\n",
      "llama_model_loader: - type q4_K:  241 tensors\n",
      "2024-12-25 10:14:08,110 | INFO | llama_cpp_server_py_core.utils | llama_model_loader: - type q6_K:   41 tensors\n",
      "llm_load_vocab: special_eos_id is not in special_eog_ids - the tokenizer config may be incorrect\n",
      "llm_load_vocab: special tokens cache size = 3\n",
      "llm_load_vocab: token to piece cache size = 0.1684 MB\n",
      "llm_load_print_meta: format           = GGUF V2\n",
      "llm_load_print_meta: arch             = llama\n",
      "llm_load_print_meta: vocab type       = SPM\n",
      "llm_load_print_meta: n_vocab          = 32000\n",
      "llm_load_print_meta: n_merges         = 0\n",
      "llm_load_print_meta: vocab_only       = 0\n",
      "llm_load_print_meta: n_ctx_train      = 4096\n",
      "2024-12-25 10:14:08,111 | INFO | llama_cpp_server_py_core.utils | llm_load_print_meta: n_embd           = 5120\n",
      "llm_load_print_meta: n_layer          = 40\n",
      "llm_load_print_meta: n_head           = 40\n",
      "llm_load_print_meta: n_head_kv        = 40\n",
      "llm_load_print_meta: n_rot            = 128\n",
      "llm_load_print_meta: n_swa            = 0\n",
      "llm_load_print_meta: n_embd_head_k    = 128\n",
      "llm_load_print_meta: n_embd_head_v    = 128\n",
      "llm_load_print_meta: n_gqa            = 1\n",
      "llm_load_print_meta: n_embd_k_gqa     = 5120\n",
      "llm_load_print_meta: n_embd_v_gqa     = 5120\n",
      "2024-12-25 10:14:08,112 | INFO | llama_cpp_server_py_core.utils | llm_load_print_meta: f_norm_eps       = 0.0e+00\n",
      "llm_load_print_meta: f_norm_rms_eps   = 1.0e-05\n",
      "llm_load_print_meta: f_clamp_kqv      = 0.0e+00\n",
      "llm_load_print_meta: f_max_alibi_bias = 0.0e+00\n",
      "llm_load_print_meta: f_logit_scale    = 0.0e+00\n",
      "llm_load_print_meta: n_ff             = 13824\n",
      "llm_load_print_meta: n_expert         = 0\n",
      "llm_load_print_meta: n_expert_used    = 0\n",
      "llm_load_print_meta: causal attn      = 1\n",
      "llm_load_print_meta: pooling type     = 0\n",
      "llm_load_print_meta: rope type        = 0\n",
      "2024-12-25 10:14:08,112 | INFO | llama_cpp_server_py_core.utils | llm_load_print_meta: rope scaling     = linear\n",
      "llm_load_print_meta: freq_base_train  = 10000.0\n",
      "llm_load_print_meta: freq_scale_train = 1\n",
      "llm_load_print_meta: n_ctx_orig_yarn  = 4096\n",
      "llm_load_print_meta: rope_finetuned   = unknown\n",
      "llm_load_print_meta: ssm_d_conv       = 0\n",
      "llm_load_print_meta: ssm_d_inner      = 0\n",
      "llm_load_print_meta: ssm_d_state      = 0\n",
      "llm_load_print_meta: ssm_dt_rank      = 0\n",
      "llm_load_print_meta: ssm_dt_b_c_rms   = 0\n",
      "llm_load_print_meta: model type       = 13B\n"
     ]
    },
    {
     "name": "stderr",
     "output_type": "stream",
     "text": [
      "/home/staneyffer/.rye/py/cpython@3.10.14/lib/python3.10/subprocess.py:961: RuntimeWarning: line buffering (buffering=1) isn't supported in binary mode, the default buffer size will be used\n",
      "  self.stdout = io.open(c2pread, 'rb', bufsize)\n",
      "/home/staneyffer/.rye/py/cpython@3.10.14/lib/python3.10/subprocess.py:966: RuntimeWarning: line buffering (buffering=1) isn't supported in binary mode, the default buffer size will be used\n",
      "  self.stderr = io.open(errread, 'rb', bufsize)\n"
     ]
    },
    {
     "name": "stdout",
     "output_type": "stream",
     "text": [
      "2024-12-25 10:14:08,522 | INFO | llama_cpp_server_py_core.utils | llm_load_print_meta: model ftype      = Q4_K - Medium\n",
      "llm_load_print_meta: model params     = 13.02 B\n",
      "llm_load_print_meta: model size       = 7.33 GiB (4.83 BPW) \n",
      "llm_load_print_meta: general.name     = LLaMA v2\n",
      "llm_load_print_meta: BOS token        = 1 '<s>'\n",
      "llm_load_print_meta: EOS token        = 2 '</s>'\n",
      "llm_load_print_meta: UNK token        = 0 '<unk>'\n",
      "llm_load_print_meta: LF token         = 13 '<0x0A>'\n",
      "llm_load_print_meta: EOG token        = 2 '</s>'\n",
      "llm_load_print_meta: max token length = 48\n",
      "llm_load_tensors:   CPU_Mapped model buffer size =  7500.85 MiB\n",
      "2024-12-25 10:14:08,640 | WARNING | urllib3.connectionpool | Retrying (Retry(total=1, connect=1, read=3, redirect=None, status=None)) after connection broken by 'NewConnectionError('<urllib3.connection.HTTPConnection object at 0x7a85082f8760>: Failed to establish a new connection: [Errno 111] Connection refused')': /health\n",
      "2024-12-25 10:14:08,644 | INFO | llama_cpp_server_py_core.utils | ....................................................................................................\n",
      "llama_new_context_with_model: n_seq_max     = 1\n",
      "llama_new_context_with_model: n_ctx         = 4096\n",
      "llama_new_context_with_model: n_ctx_per_seq = 4096\n",
      "llama_new_context_with_model: n_batch       = 2048\n",
      "llama_new_context_with_model: n_ubatch      = 512\n",
      "llama_new_context_with_model: flash_attn    = 0\n",
      "llama_new_context_with_model: freq_base     = 10000.0\n",
      "llama_new_context_with_model: freq_scale    = 1\n",
      "llama_kv_cache_init: kv_size = 4096, offload = 1, type_k = 'f16', type_v = 'f16', n_layer = 40\n",
      "request: GET /health 127.0.0.1 503\n",
      "2024-12-25 10:14:09,848 | ERROR | llama_cpp_server_py_core.utils | Connection error in GET /health: HTTPConnectionPool(host='127.0.0.1', port=53393): Max retries exceeded with url: /health (Caused by ResponseError('too many 503 error responses'))\n",
      "2024-12-25 10:14:09,849 | INFO | llama_cpp_server_py_core.utils | request: GET /health 127.0.0.1 503\n",
      "2024-12-25 10:14:09,849 | ERROR | llama_cpp_server_py_core.utils | Health check failed: HTTPConnectionPool(host='127.0.0.1', port=53393): Max retries exceeded with url: /health (Caused by ResponseError('too many 503 error responses'))\n",
      "2024-12-25 10:14:11,600 | INFO | llama_cpp_server_py_core.utils | llama_kv_cache_init:        CPU KV buffer size =  3200.00 MiB\n",
      "2024-12-25 10:14:12,107 | INFO | llama_cpp_server_py_core.utils | llama_new_context_with_model: KV self size  = 3200.00 MiB, K (f16): 1600.00 MiB, V (f16): 1600.00 MiB\n",
      "llama_new_context_with_model:        CPU  output buffer size =     0.12 MiB\n",
      "llama_new_context_with_model:        CPU compute buffer size =   368.01 MiB\n",
      "llama_new_context_with_model: graph nodes  = 1286\n",
      "llama_new_context_with_model: graph splits = 1\n",
      "common_init_from_params: setting dry_penalty_last_n to ctx_size = 4096\n",
      "common_init_from_params: warming up the model with an empty run - please wait ... (--no-warmup to disable)\n",
      "2024-12-25 10:14:13,040 | INFO | llama_cpp_server_py_core.utils | srv          init: initializing slots, n_slots = 1\n",
      "slot         init: id  0 | task -1 | new slot n_ctx_slot = 4096\n",
      "main: model loaded\n",
      "main: The chat template that comes with this model is not yet supported, falling back to chatml. This may cause the model to output suboptimal responses\n",
      "main: chat template, built_in: 0, chat_example: '<|im_start|>system\n",
      "You are a helpful assistant<|im_end|>\n",
      "<|im_start|>user\n",
      "Hello<|im_end|>\n",
      "<|im_start|>assistant\n",
      "Hi there<|im_end|>\n",
      "<|im_start|>user\n",
      "2024-12-25 10:14:13,541 | INFO | llama_cpp_server_py_core.utils | How are you?<|im_end|>\n",
      "<|im_start|>assistant\n",
      "'\n",
      "main: server is listening on http://127.0.0.1:53393 - starting the main loop\n",
      "srv  update_slots: all slots are idle\n",
      "2024-12-25 10:14:14,863 | INFO | llama_cpp_server_py_core.utils | Server is now running and healthy\n",
      "2024-12-25 10:14:14,865 | INFO | llama_cpp_server_py_core.utils | request: GET /health 127.0.0.1 200\n"
     ]
    }
   ],
   "source": [
    "config = ServerConfig(\n",
    "    model_file=\"/data/models/ggml-model-q4_0.gguf\",\n",
    "    model_hf_repo=None,\n",
    "    model_hf_file=None,\n",
    "    n_gpu_layers=1000000000,\n",
    ")\n",
    "\n",
    "server = ServerProcess(config)\n",
    "server.start(timeout_seconds=60)"
   ]
  },
  {
   "cell_type": "code",
   "execution_count": 3,
   "metadata": {},
   "outputs": [
    {
     "data": {
      "text/plain": [
       "<ServerStatus.RUNNING: 'running'>"
      ]
     },
     "execution_count": 3,
     "metadata": {},
     "output_type": "execute_result"
    }
   ],
   "source": [
    "ms = LlamaCppServer(server, config)\n",
    "ms.health()"
   ]
  },
  {
   "cell_type": "code",
   "execution_count": 4,
   "metadata": {},
   "outputs": [
    {
     "data": {
      "text/plain": [
       "{'default_generation_settings': {'id': 0,\n",
       "  'id_task': -1,\n",
       "  'n_ctx': 4096,\n",
       "  'speculative': False,\n",
       "  'is_processing': False,\n",
       "  'non_causal': False,\n",
       "  'params': {'n_predict': -1,\n",
       "   'seed': 42,\n",
       "   'temperature': 0.800000011920929,\n",
       "   'dynatemp_range': 0.0,\n",
       "   'dynatemp_exponent': 1.0,\n",
       "   'top_k': 40,\n",
       "   'top_p': 0.949999988079071,\n",
       "   'min_p': 0.05000000074505806,\n",
       "   'xtc_probability': 0.0,\n",
       "   'xtc_threshold': 0.10000000149011612,\n",
       "   'typical_p': 1.0,\n",
       "   'repeat_last_n': 64,\n",
       "   'repeat_penalty': 1.0,\n",
       "   'presence_penalty': 0.0,\n",
       "   'frequency_penalty': 0.0,\n",
       "   'dry_multiplier': 0.0,\n",
       "   'dry_base': 1.75,\n",
       "   'dry_allowed_length': 2,\n",
       "   'dry_penalty_last_n': 4096,\n",
       "   'dry_sequence_breakers': ['\\n', ':', '\"', '*'],\n",
       "   'mirostat': 0,\n",
       "   'mirostat_tau': 5.0,\n",
       "   'mirostat_eta': 0.10000000149011612,\n",
       "   'stop': [],\n",
       "   'max_tokens': -1,\n",
       "   'n_keep': 0,\n",
       "   'n_discard': 0,\n",
       "   'ignore_eos': False,\n",
       "   'stream': True,\n",
       "   'logit_bias': [],\n",
       "   'n_probs': 0,\n",
       "   'min_keep': 0,\n",
       "   'grammar': '',\n",
       "   'samplers': ['penalties',\n",
       "    'dry',\n",
       "    'top_k',\n",
       "    'typ_p',\n",
       "    'top_p',\n",
       "    'min_p',\n",
       "    'xtc',\n",
       "    'temperature'],\n",
       "   'speculative.n_max': 16,\n",
       "   'speculative.n_min': 5,\n",
       "   'speculative.p_min': 0.8999999761581421,\n",
       "   'timings_per_token': False,\n",
       "   'post_sampling_probs': False},\n",
       "  'prompt': '',\n",
       "  'next_token': {'has_next_token': True,\n",
       "   'has_new_line': False,\n",
       "   'n_remain': -1,\n",
       "   'n_decoded': 0,\n",
       "   'stopping_word': ''}},\n",
       " 'total_slots': 1,\n",
       " 'model_path': '/data/models/ggml-model-q4_0.gguf',\n",
       " 'chat_template': ''}"
      ]
     },
     "execution_count": 4,
     "metadata": {},
     "output_type": "execute_result"
    }
   ],
   "source": [
    "ms.props()"
   ]
  },
  {
   "cell_type": "code",
   "execution_count": 5,
   "metadata": {},
   "outputs": [
    {
     "data": {
      "text/plain": [
       "ModelList(object='list', data=[ModelCard(id='tinyllama-2', object='model', created=1735092855, owned_by='llamacpp', meta={'vocab_type': 1, 'n_vocab': 32000, 'n_ctx_train': 4096, 'n_embd': 5120, 'n_params': 13015864320, 'size': 7865210880})])"
      ]
     },
     "execution_count": 5,
     "metadata": {},
     "output_type": "execute_result"
    }
   ],
   "source": [
    "ms.models()"
   ]
  },
  {
   "cell_type": "code",
   "execution_count": 6,
   "metadata": {},
   "outputs": [
    {
     "name": "stdout",
     "output_type": "stream",
     "text": [
      "2024-12-25 10:14:15,742 | INFO | llama_cpp_server_py_core.utils | request: GET /health 127.0.0.1 200\n",
      "request: GET /props 127.0.0.1 200\n",
      "request: GET /models 127.0.0.1 200\n",
      "slot launch_slot_: id  0 | task 0 | processing task\n",
      "slot update_slots: id  0 | task 0 | new prompt, n_ctx_slot = 4096, n_keep = 0, n_prompt_tokens = 4\n",
      "slot update_slots: id  0 | task 0 | kv cache rm [0, end)\n",
      "slot update_slots: id  0 | task 0 | prompt processing progress, n_past = 4, n_tokens = 4, progress = 1.000000\n",
      "slot update_slots: id  0 | task 0 | prompt done, n_past = 4, n_tokens = 4\n",
      "2024-12-25 10:14:19,247 | INFO | llama_cpp_server_py_core.utils | slot      release: id  0 | task 0 | stop processing: n_past = 23, truncated = 0\n",
      "2024-12-25 10:14:19,276 | INFO | llama_cpp_server_py_core.utils | slot print_timing: id  0 | task 0 | \n",
      "prompt eval time =     290.74 ms /     4 tokens (   72.68 ms per token,    13.76 tokens per second)\n",
      "       eval time =    3714.67 ms /    20 tokens (  185.73 ms per token,     5.38 tokens per second)\n",
      "      total time =    4005.41 ms /    24 tokens\n",
      "srv  update_slots: all slots are idle\n",
      "request: POST /completion 127.0.0.1 200\n",
      "slot launch_slot_: id  0 | task 21 | processing task\n",
      "slot update_slots: id  0 | task 21 | new prompt, n_ctx_slot = 4096, n_keep = 0, n_prompt_tokens = 4\n",
      "slot update_slots: id  0 | task 21 | need to evaluate at least 1 token to generate logits, n_past = 4, n_prompt_tokens = 4\n",
      "slot update_slots: id  0 | task 21 | kv cache rm [3, end)\n",
      "slot update_slots: id  0 | task 21 | prompt processing progress, n_past = 4, n_tokens = 1, progress = 0.250000\n",
      "2024-12-25 10:14:19,777 | INFO | llama_cpp_server_py_core.utils | slot update_slots: id  0 | task 21 | prompt done, n_past = 4, n_tokens = 1\n",
      "2024-12-25 10:14:20,376 | INFO | llama_cpp_server_py_core.utils | request: GET /health 127.0.0.1 200\n",
      "2024-12-25 10:14:23,199 | INFO | llama_cpp_server_py_core.utils | slot      release: id  0 | task 21 | stop processing: n_past = 23, truncated = 0\n",
      "2024-12-25 10:14:23,242 | INFO | llama_cpp_server_py_core.utils | slot print_timing: id  0 | task 21 | \n",
      "prompt eval time =     196.06 ms /     1 tokens (  196.06 ms per token,     5.10 tokens per second)\n",
      "       eval time =    3727.32 ms /    20 tokens (  186.37 ms per token,     5.37 tokens per second)\n",
      "      total time =    3923.38 ms /    21 tokens\n",
      "srv  update_slots: all slots are idle\n",
      "request: POST /completion 127.0.0.1 200\n",
      "slot launch_slot_: id  0 | task 42 | processing task\n",
      "slot update_slots: id  0 | task 42 | new prompt, n_ctx_slot = 4096, n_keep = 0, n_prompt_tokens = 58\n",
      "slot update_slots: id  0 | task 42 | kv cache rm [1, end)\n",
      "slot update_slots: id  0 | task 42 | prompt processing progress, n_past = 58, n_tokens = 57, progress = 0.982759\n",
      "slot update_slots: id  0 | task 42 | prompt done, n_past = 58, n_tokens = 57\n",
      "2024-12-25 10:14:24,884 | INFO | llama_cpp_server_py_core.utils | request: GET /health 127.0.0.1 200\n",
      "2024-12-25 10:14:29,893 | INFO | llama_cpp_server_py_core.utils | request: GET /health 127.0.0.1 200\n",
      "2024-12-25 10:14:30,143 | INFO | llama_cpp_server_py_core.utils | slot      release: id  0 | task 42 | stop processing: n_past = 77, truncated = 0\n",
      "slot print_timing: id  0 | task 42 | \n",
      "prompt eval time =    3063.90 ms /    57 tokens (   53.75 ms per token,    18.60 tokens per second)\n",
      "       eval time =    3809.21 ms /    20 tokens (  190.46 ms per token,     5.25 tokens per second)\n",
      "      total time =    6873.11 ms /    77 tokens\n",
      "srv  update_slots: all slots are idle\n",
      "request: POST /chat/completions 127.0.0.1 200\n",
      "slot launch_slot_: id  0 | task 63 | processing task\n",
      "slot update_slots: id  0 | task 63 | new prompt, n_ctx_slot = 4096, n_keep = 0, n_prompt_tokens = 58\n",
      "slot update_slots: id  0 | task 63 | need to evaluate at least 1 token to generate logits, n_past = 58, n_prompt_tokens = 58\n",
      "slot update_slots: id  0 | task 63 | kv cache rm [57, end)\n",
      "2024-12-25 10:14:30,644 | INFO | llama_cpp_server_py_core.utils | slot update_slots: id  0 | task 63 | prompt processing progress, n_past = 58, n_tokens = 1, progress = 0.017241\n",
      "slot update_slots: id  0 | task 63 | prompt done, n_past = 58, n_tokens = 1\n",
      "2024-12-25 10:14:34,108 | INFO | llama_cpp_server_py_core.utils | slot      release: id  0 | task 63 | stop processing: n_past = 77, truncated = 0\n",
      "2024-12-25 10:14:34,132 | INFO | llama_cpp_server_py_core.utils | slot print_timing: id  0 | task 63 | \n",
      "prompt eval time =     197.50 ms /     1 tokens (  197.50 ms per token,     5.06 tokens per second)\n",
      "       eval time =    3768.08 ms /    20 tokens (  188.40 ms per token,     5.31 tokens per second)\n",
      "      total time =    3965.58 ms /    21 tokens\n",
      "srv  update_slots: all slots are idle\n",
      "request: POST /chat/completions 127.0.0.1 200\n",
      "slot launch_slot_: id  0 | task 84 | processing task\n",
      "slot update_slots: id  0 | task 84 | new prompt, n_ctx_slot = 4096, n_keep = 0, n_prompt_tokens = 58\n",
      "slot update_slots: id  0 | task 84 | need to evaluate at least 1 token to generate logits, n_past = 58, n_prompt_tokens = 58\n",
      "slot update_slots: id  0 | task 84 | kv cache rm [57, end)\n",
      "slot update_slots: id  0 | task 84 | prompt processing progress, n_past = 58, n_tokens = 1, progress = 0.017241\n",
      "2024-12-25 10:14:35,405 | INFO | llama_cpp_server_py_core.utils | slot update_slots: id  0 | task 84 | prompt done, n_past = 58, n_tokens = 1\n",
      "slot      release: id  0 | task 84 | stop processing: n_past = 59, truncated = 0\n",
      "slot print_timing: id  0 | task 84 | \n",
      "prompt eval time =     197.31 ms /     1 tokens (  197.31 ms per token,     5.07 tokens per second)\n",
      "       eval time =     198.28 ms /     2 tokens (   99.14 ms per token,    10.09 tokens per second)\n",
      "      total time =     395.58 ms /     3 tokens\n",
      "srv  update_slots: all slots are idle\n",
      "request: POST /chat/completions 127.0.0.1 200\n",
      "request: GET /health 127.0.0.1 200\n",
      "2024-12-25 10:14:39,915 | INFO | llama_cpp_server_py_core.utils | request: GET /health 127.0.0.1 200\n",
      "2024-12-25 10:14:44,924 | INFO | llama_cpp_server_py_core.utils | request: GET /health 127.0.0.1 200\n",
      "2024-12-25 10:14:49,933 | INFO | llama_cpp_server_py_core.utils | request: GET /health 127.0.0.1 200\n",
      "2024-12-25 10:14:54,943 | INFO | llama_cpp_server_py_core.utils | request: GET /health 127.0.0.1 200\n",
      "2024-12-25 10:14:59,953 | INFO | llama_cpp_server_py_core.utils | request: GET /health 127.0.0.1 200\n",
      "2024-12-25 10:15:04,962 | INFO | llama_cpp_server_py_core.utils | request: GET /health 127.0.0.1 200\n",
      "2024-12-25 10:15:09,972 | INFO | llama_cpp_server_py_core.utils | request: GET /health 127.0.0.1 200\n",
      "2024-12-25 10:15:14,983 | INFO | llama_cpp_server_py_core.utils | request: GET /health 127.0.0.1 200\n",
      "2024-12-25 10:15:19,992 | INFO | llama_cpp_server_py_core.utils | request: GET /health 127.0.0.1 200\n",
      "2024-12-25 10:15:25,002 | INFO | llama_cpp_server_py_core.utils | request: GET /health 127.0.0.1 200\n",
      "2024-12-25 10:15:30,013 | INFO | llama_cpp_server_py_core.utils | request: GET /health 127.0.0.1 200\n",
      "2024-12-25 10:15:35,023 | INFO | llama_cpp_server_py_core.utils | request: GET /health 127.0.0.1 200\n",
      "2024-12-25 10:15:40,033 | INFO | llama_cpp_server_py_core.utils | request: GET /health 127.0.0.1 200\n",
      "2024-12-25 10:15:45,044 | INFO | llama_cpp_server_py_core.utils | request: GET /health 127.0.0.1 200\n",
      "2024-12-25 10:15:50,054 | INFO | llama_cpp_server_py_core.utils | request: GET /health 127.0.0.1 200\n"
     ]
    },
    {
     "data": {
      "text/plain": [
       "CompletionResponse(index=0, content='！很高兴为您服务。请问有什么', tokens=[], stop=True, id_slot=0, tokens_predicted=20, tokens_evaluated=4, model='tinyllama-2', generation_settings=GenerationSettings(n_predict=20, seed=4294967295, temperature=0.800000011920929, dynatemp_range=0.0, dynatemp_exponent=1.0, top_k=40, top_p=0.949999988079071, min_p=0.05000000074505806, xtc_probability=0.0, xtc_threshold=0.10000000149011612, typical_p=1.0, repeat_last_n=64, repeat_penalty=1.100000023841858, presence_penalty=0.0, frequency_penalty=0.0, dry_multiplier=0.0, dry_base=1.75, dry_allowed_length=2, dry_penalty_last_n=4096, dry_sequence_breakers=['\\n', ':', '\"', '*'], mirostat=0, mirostat_tau=5.0, mirostat_eta=0.10000000149011612, stop=[], max_tokens=20, n_keep=0, n_discard=0, ignore_eos=False, stream=False, logit_bias=[], n_probs=0, min_keep=0, grammar='', samplers=['dry', 'top_k', 'typ_p', 'top_p', 'min_p', 'xtc', 'temperature'], speculative_n_max=16, speculative_n_min=5, speculative_p_min=0.8999999761581421, timings_per_token=False, post_sampling_probs=False), prompt='<s> 你好', has_new_line=False, truncated=False, stop_type='limit', stopping_word='', tokens_cached=23, timings={'prompt_n': 4, 'prompt_ms': 290.736, 'prompt_per_token_ms': 72.684, 'prompt_per_second': 13.758186120741842, 'predicted_n': 20, 'predicted_ms': 3714.673, 'predicted_per_token_ms': 185.73364999999998, 'predicted_per_second': 5.3840539934470675})"
      ]
     },
     "execution_count": 6,
     "metadata": {},
     "output_type": "execute_result"
    }
   ],
   "source": [
    "ms.completion(CompletionRequest(prompt=\"你好\", n_predict=20))"
   ]
  },
  {
   "cell_type": "code",
   "execution_count": 7,
   "metadata": {},
   "outputs": [
    {
     "name": "stdout",
     "output_type": "stream",
     "text": [
      "CompletionResponse(index=0, content='，', tokens=[30214], stop=False, id_slot=-1, tokens_predicted=1, tokens_evaluated=4, model=None, generation_settings=None, prompt=None, has_new_line=None, truncated=None, stop_type=None, stopping_word=None, tokens_cached=None, timings=None)\n",
      "CompletionResponse(index=0, content='您', tokens=[171], stop=False, id_slot=-1, tokens_predicted=4, tokens_evaluated=4, model=None, generation_settings=None, prompt=None, has_new_line=None, truncated=None, stop_type=None, stopping_word=None, tokens_cached=None, timings=None)\n",
      "CompletionResponse(index=0, content='好', tokens=[31076], stop=False, id_slot=-1, tokens_predicted=5, tokens_evaluated=4, model=None, generation_settings=None, prompt=None, has_new_line=None, truncated=None, stop_type=None, stopping_word=None, tokens_cached=None, timings=None)\n",
      "CompletionResponse(index=0, content='！', tokens=[30584], stop=False, id_slot=-1, tokens_predicted=6, tokens_evaluated=4, model=None, generation_settings=None, prompt=None, has_new_line=None, truncated=None, stop_type=None, stopping_word=None, tokens_cached=None, timings=None)\n",
      "CompletionResponse(index=0, content='\\n', tokens=[13], stop=False, id_slot=-1, tokens_predicted=7, tokens_evaluated=4, model=None, generation_settings=None, prompt=None, has_new_line=None, truncated=None, stop_type=None, stopping_word=None, tokens_cached=None, timings=None)\n",
      "CompletionResponse(index=0, content='\\n', tokens=[13], stop=False, id_slot=-1, tokens_predicted=8, tokens_evaluated=4, model=None, generation_settings=None, prompt=None, has_new_line=None, truncated=None, stop_type=None, stopping_word=None, tokens_cached=None, timings=None)\n",
      "CompletionResponse(index=0, content='我', tokens=[30672], stop=False, id_slot=-1, tokens_predicted=9, tokens_evaluated=4, model=None, generation_settings=None, prompt=None, has_new_line=None, truncated=None, stop_type=None, stopping_word=None, tokens_cached=None, timings=None)\n",
      "CompletionResponse(index=0, content='是', tokens=[30392], stop=False, id_slot=-1, tokens_predicted=10, tokens_evaluated=4, model=None, generation_settings=None, prompt=None, has_new_line=None, truncated=None, stop_type=None, stopping_word=None, tokens_cached=None, timings=None)\n",
      "CompletionResponse(index=0, content='来', tokens=[30805], stop=False, id_slot=-1, tokens_predicted=11, tokens_evaluated=4, model=None, generation_settings=None, prompt=None, has_new_line=None, truncated=None, stop_type=None, stopping_word=None, tokens_cached=None, timings=None)\n",
      "CompletionResponse(index=0, content='自', tokens=[30688], stop=False, id_slot=-1, tokens_predicted=12, tokens_evaluated=4, model=None, generation_settings=None, prompt=None, has_new_line=None, truncated=None, stop_type=None, stopping_word=None, tokens_cached=None, timings=None)\n",
      "CompletionResponse(index=0, content='中', tokens=[30275], stop=False, id_slot=-1, tokens_predicted=13, tokens_evaluated=4, model=None, generation_settings=None, prompt=None, has_new_line=None, truncated=None, stop_type=None, stopping_word=None, tokens_cached=None, timings=None)\n",
      "CompletionResponse(index=0, content='国', tokens=[30356], stop=False, id_slot=-1, tokens_predicted=14, tokens_evaluated=4, model=None, generation_settings=None, prompt=None, has_new_line=None, truncated=None, stop_type=None, stopping_word=None, tokens_cached=None, timings=None)\n",
      "CompletionResponse(index=0, content='的', tokens=[30210], stop=False, id_slot=-1, tokens_predicted=15, tokens_evaluated=4, model=None, generation_settings=None, prompt=None, has_new_line=None, truncated=None, stop_type=None, stopping_word=None, tokens_cached=None, timings=None)\n",
      "CompletionResponse(index=0, content='一', tokens=[30287], stop=False, id_slot=-1, tokens_predicted=16, tokens_evaluated=4, model=None, generation_settings=None, prompt=None, has_new_line=None, truncated=None, stop_type=None, stopping_word=None, tokens_cached=None, timings=None)\n",
      "CompletionResponse(index=0, content='名', tokens=[30548], stop=False, id_slot=-1, tokens_predicted=17, tokens_evaluated=4, model=None, generation_settings=None, prompt=None, has_new_line=None, truncated=None, stop_type=None, stopping_word=None, tokens_cached=None, timings=None)\n",
      "CompletionResponse(index=0, content='学', tokens=[30415], stop=False, id_slot=-1, tokens_predicted=18, tokens_evaluated=4, model=None, generation_settings=None, prompt=None, has_new_line=None, truncated=None, stop_type=None, stopping_word=None, tokens_cached=None, timings=None)\n",
      "CompletionResponse(index=0, content='生', tokens=[30486], stop=False, id_slot=-1, tokens_predicted=19, tokens_evaluated=4, model=None, generation_settings=None, prompt=None, has_new_line=None, truncated=None, stop_type=None, stopping_word=None, tokens_cached=None, timings=None)\n",
      "CompletionResponse(index=0, content='，', tokens=[30214], stop=False, id_slot=-1, tokens_predicted=20, tokens_evaluated=4, model=None, generation_settings=None, prompt=None, has_new_line=None, truncated=None, stop_type=None, stopping_word=None, tokens_cached=None, timings=None)\n",
      "CompletionResponse(index=0, content='', tokens=[], stop=True, id_slot=0, tokens_predicted=20, tokens_evaluated=4, model='tinyllama-2', generation_settings=GenerationSettings(n_predict=20, seed=4294967295, temperature=0.800000011920929, dynatemp_range=0.0, dynatemp_exponent=1.0, top_k=40, top_p=0.949999988079071, min_p=0.05000000074505806, xtc_probability=0.0, xtc_threshold=0.10000000149011612, typical_p=1.0, repeat_last_n=64, repeat_penalty=1.100000023841858, presence_penalty=0.0, frequency_penalty=0.0, dry_multiplier=0.0, dry_base=1.75, dry_allowed_length=2, dry_penalty_last_n=4096, dry_sequence_breakers=['\\n', ':', '\"', '*'], mirostat=0, mirostat_tau=5.0, mirostat_eta=0.10000000149011612, stop=[], max_tokens=20, n_keep=0, n_discard=0, ignore_eos=False, stream=True, logit_bias=[], n_probs=0, min_keep=0, grammar='', samplers=['dry', 'top_k', 'typ_p', 'top_p', 'min_p', 'xtc', 'temperature'], speculative_n_max=16, speculative_n_min=5, speculative_p_min=0.8999999761581421, timings_per_token=False, post_sampling_probs=False), prompt='<s> 你好', has_new_line=True, truncated=False, stop_type='limit', stopping_word='', tokens_cached=23, timings={'prompt_n': 1, 'prompt_ms': 196.055, 'prompt_per_token_ms': 196.055, 'prompt_per_second': 5.100609522837979, 'predicted_n': 20, 'predicted_ms': 3727.32, 'predicted_per_token_ms': 186.366, 'predicted_per_second': 5.36578560467038})\n"
     ]
    }
   ],
   "source": [
    "for out in ms.stream_completion(\n",
    "    CompletionRequest(prompt=\"你好\", n_predict=20, stream=True)\n",
    "):\n",
    "    print(out)"
   ]
  },
  {
   "cell_type": "code",
   "execution_count": 8,
   "metadata": {},
   "outputs": [
    {
     "data": {
      "text/plain": [
       "({'prompt_n': 1,\n",
       "  'prompt_ms': 196.055,\n",
       "  'prompt_per_token_ms': 196.055,\n",
       "  'prompt_per_second': 5.100609522837979,\n",
       "  'predicted_n': 20,\n",
       "  'predicted_ms': 3727.32,\n",
       "  'predicted_per_token_ms': 186.366,\n",
       "  'predicted_per_second': 5.36578560467038},\n",
       " GenerationSettings(n_predict=20, seed=4294967295, temperature=0.800000011920929, dynatemp_range=0.0, dynatemp_exponent=1.0, top_k=40, top_p=0.949999988079071, min_p=0.05000000074505806, xtc_probability=0.0, xtc_threshold=0.10000000149011612, typical_p=1.0, repeat_last_n=64, repeat_penalty=1.100000023841858, presence_penalty=0.0, frequency_penalty=0.0, dry_multiplier=0.0, dry_base=1.75, dry_allowed_length=2, dry_penalty_last_n=4096, dry_sequence_breakers=['\\n', ':', '\"', '*'], mirostat=0, mirostat_tau=5.0, mirostat_eta=0.10000000149011612, stop=[], max_tokens=20, n_keep=0, n_discard=0, ignore_eos=False, stream=True, logit_bias=[], n_probs=0, min_keep=0, grammar='', samplers=['dry', 'top_k', 'typ_p', 'top_p', 'min_p', 'xtc', 'temperature'], speculative_n_max=16, speculative_n_min=5, speculative_p_min=0.8999999761581421, timings_per_token=False, post_sampling_probs=False))"
      ]
     },
     "execution_count": 8,
     "metadata": {},
     "output_type": "execute_result"
    }
   ],
   "source": [
    "out.timings, out.generation_settings"
   ]
  },
  {
   "cell_type": "code",
   "execution_count": 9,
   "metadata": {},
   "outputs": [],
   "source": [
    "# res = server.make_stream_request(\"POST\", \"/chat/completions\", data={\n",
    "#     \"messages\": [\n",
    "#         {\"role\": \"system\", \"content\": \"你是一个聊天机器人\"},\n",
    "#         {\"role\": \"user\", \"content\": \"你好\"},\n",
    "#     ],\n",
    "#     \"max_tokens\": 2\n",
    "# })\n"
   ]
  },
  {
   "cell_type": "code",
   "execution_count": 10,
   "metadata": {},
   "outputs": [
    {
     "name": "stdout",
     "output_type": "stream",
     "text": [
      "ChatCompletionStreamResponse(id='chatcmpl-gTfLSarQFdOBNGk1FzQRFd0hkSV5ZvDj', object='chat.completion.chunk', created=1735092866, model='tinyllama-2', choices=[ChatCompletionResponseStreamChoice(index=0, delta=DeltaMessage(role=None, content='你'), finish_reason=None)], usage=None, timings=None)\n",
      "ChatCompletionStreamResponse(id='chatcmpl-gTfLSarQFdOBNGk1FzQRFd0hkSV5ZvDj', object='chat.completion.chunk', created=1735092866, model='tinyllama-2', choices=[ChatCompletionResponseStreamChoice(index=0, delta=DeltaMessage(role=None, content='好'), finish_reason=None)], usage=None, timings=None)\n",
      "ChatCompletionStreamResponse(id='chatcmpl-gTfLSarQFdOBNGk1FzQRFd0hkSV5ZvDj', object='chat.completion.chunk', created=1735092866, model='tinyllama-2', choices=[ChatCompletionResponseStreamChoice(index=0, delta=DeltaMessage(role=None, content='！'), finish_reason=None)], usage=None, timings=None)\n",
      "ChatCompletionStreamResponse(id='chatcmpl-gTfLSarQFdOBNGk1FzQRFd0hkSV5ZvDj', object='chat.completion.chunk', created=1735092866, model='tinyllama-2', choices=[ChatCompletionResponseStreamChoice(index=0, delta=DeltaMessage(role=None, content='有'), finish_reason=None)], usage=None, timings=None)\n",
      "ChatCompletionStreamResponse(id='chatcmpl-gTfLSarQFdOBNGk1FzQRFd0hkSV5ZvDj', object='chat.completion.chunk', created=1735092867, model='tinyllama-2', choices=[ChatCompletionResponseStreamChoice(index=0, delta=DeltaMessage(role=None, content='什'), finish_reason=None)], usage=None, timings=None)\n",
      "ChatCompletionStreamResponse(id='chatcmpl-gTfLSarQFdOBNGk1FzQRFd0hkSV5ZvDj', object='chat.completion.chunk', created=1735092867, model='tinyllama-2', choices=[ChatCompletionResponseStreamChoice(index=0, delta=DeltaMessage(role=None, content='么'), finish_reason=None)], usage=None, timings=None)\n",
      "ChatCompletionStreamResponse(id='chatcmpl-gTfLSarQFdOBNGk1FzQRFd0hkSV5ZvDj', object='chat.completion.chunk', created=1735092867, model='tinyllama-2', choices=[ChatCompletionResponseStreamChoice(index=0, delta=DeltaMessage(role=None, content='我'), finish_reason=None)], usage=None, timings=None)\n",
      "ChatCompletionStreamResponse(id='chatcmpl-gTfLSarQFdOBNGk1FzQRFd0hkSV5ZvDj', object='chat.completion.chunk', created=1735092868, model='tinyllama-2', choices=[ChatCompletionResponseStreamChoice(index=0, delta=DeltaMessage(role=None, content='可'), finish_reason=None)], usage=None, timings=None)\n",
      "ChatCompletionStreamResponse(id='chatcmpl-gTfLSarQFdOBNGk1FzQRFd0hkSV5ZvDj', object='chat.completion.chunk', created=1735092868, model='tinyllama-2', choices=[ChatCompletionResponseStreamChoice(index=0, delta=DeltaMessage(role=None, content='以'), finish_reason=None)], usage=None, timings=None)\n",
      "ChatCompletionStreamResponse(id='chatcmpl-gTfLSarQFdOBNGk1FzQRFd0hkSV5ZvDj', object='chat.completion.chunk', created=1735092868, model='tinyllama-2', choices=[ChatCompletionResponseStreamChoice(index=0, delta=DeltaMessage(role=None, content='帮'), finish_reason=None)], usage=None, timings=None)\n",
      "ChatCompletionStreamResponse(id='chatcmpl-gTfLSarQFdOBNGk1FzQRFd0hkSV5ZvDj', object='chat.completion.chunk', created=1735092869, model='tinyllama-2', choices=[ChatCompletionResponseStreamChoice(index=0, delta=DeltaMessage(role=None, content='助'), finish_reason=None)], usage=None, timings=None)\n",
      "ChatCompletionStreamResponse(id='chatcmpl-gTfLSarQFdOBNGk1FzQRFd0hkSV5ZvDj', object='chat.completion.chunk', created=1735092869, model='tinyllama-2', choices=[ChatCompletionResponseStreamChoice(index=0, delta=DeltaMessage(role=None, content='你'), finish_reason=None)], usage=None, timings=None)\n",
      "ChatCompletionStreamResponse(id='chatcmpl-gTfLSarQFdOBNGk1FzQRFd0hkSV5ZvDj', object='chat.completion.chunk', created=1735092869, model='tinyllama-2', choices=[ChatCompletionResponseStreamChoice(index=0, delta=DeltaMessage(role=None, content='的'), finish_reason=None)], usage=None, timings=None)\n",
      "ChatCompletionStreamResponse(id='chatcmpl-gTfLSarQFdOBNGk1FzQRFd0hkSV5ZvDj', object='chat.completion.chunk', created=1735092870, model='tinyllama-2', choices=[ChatCompletionResponseStreamChoice(index=0, delta=DeltaMessage(role=None, content='吗'), finish_reason=None)], usage=None, timings=None)\n",
      "ChatCompletionStreamResponse(id='chatcmpl-gTfLSarQFdOBNGk1FzQRFd0hkSV5ZvDj', object='chat.completion.chunk', created=1735092870, model='tinyllama-2', choices=[ChatCompletionResponseStreamChoice(index=0, delta=DeltaMessage(role=None, content=None), finish_reason='length')], usage={'completion_tokens': 20, 'prompt_tokens': 58, 'total_tokens': 78}, timings={'prompt_n': 57, 'prompt_ms': 3063.897, 'prompt_per_token_ms': 53.75257894736842, 'prompt_per_second': 18.60375854671355, 'predicted_n': 20, 'predicted_ms': 3809.214, 'predicted_per_token_ms': 190.4607, 'predicted_per_second': 5.250426990975042})\n"
     ]
    }
   ],
   "source": [
    "req = ChatCompletionRequest(\n",
    "    messages=[\n",
    "        {\"role\": \"system\", \"content\": \"你是一个聊天机器人\"},\n",
    "        {\"role\": \"user\", \"content\": \"你好\"},\n",
    "    ],\n",
    "    max_tokens=20,\n",
    "    stream=True,\n",
    ")\n",
    "for out in ms.stream_chat_completion(req):\n",
    "    print(out)"
   ]
  },
  {
   "cell_type": "code",
   "execution_count": 11,
   "metadata": {},
   "outputs": [
    {
     "data": {
      "text/plain": [
       "ChatCompletionResponse(id='chatcmpl-JSCgmEEXjbPXtO75ll1LLCY0YZIhS4xQ', object='chat.completion', created=1735092874, model='tinyllama-2', choices=[ChatCompletionResponseChoice(index=0, message=ChatMessage(role='assistant', content='你好！有什么我可以帮助你的吗'), finish_reason='length')], usage={'completion_tokens': 20, 'prompt_tokens': 58, 'total_tokens': 78}, timings={'prompt_n': 1, 'prompt_ms': 197.501, 'prompt_per_token_ms': 197.501, 'prompt_per_second': 5.063265502453152, 'predicted_n': 20, 'predicted_ms': 3768.082, 'predicted_per_token_ms': 188.4041, 'predicted_per_second': 5.307740118182141})"
      ]
     },
     "execution_count": 11,
     "metadata": {},
     "output_type": "execute_result"
    }
   ],
   "source": [
    "req = ChatCompletionRequest(\n",
    "    messages=[\n",
    "        {\"role\": \"system\", \"content\": \"你是一个聊天机器人\"},\n",
    "        {\"role\": \"user\", \"content\": \"你好\"},\n",
    "    ],\n",
    "    max_tokens=20,\n",
    "    stream=False,\n",
    ")\n",
    "ms.chat_completion(req)"
   ]
  },
  {
   "cell_type": "code",
   "execution_count": 12,
   "metadata": {},
   "outputs": [
    {
     "name": "stdout",
     "output_type": "stream",
     "text": [
      "{\n",
      "  \"choices\": [\n",
      "    {\n",
      "      \"finish_reason\": \"length\",\n",
      "      \"index\": 0,\n",
      "      \"message\": {\n",
      "        \"content\": \"\\u4f60\\u597d\",\n",
      "        \"role\": \"assistant\"\n",
      "      }\n",
      "    }\n",
      "  ],\n",
      "  \"created\": 1735092874,\n",
      "  \"model\": \"tinyllama-2\",\n",
      "  \"object\": \"chat.completion\",\n",
      "  \"usage\": {\n",
      "    \"completion_tokens\": 2,\n",
      "    \"prompt_tokens\": 58,\n",
      "    \"total_tokens\": 60\n",
      "  },\n",
      "  \"id\": \"chatcmpl-ojVyGHbPDBamXAT0QeCzGBr5pStbkhVP\",\n",
      "  \"timings\": {\n",
      "    \"prompt_n\": 1,\n",
      "    \"prompt_ms\": 197.305,\n",
      "    \"prompt_per_token_ms\": 197.305,\n",
      "    \"prompt_per_second\": 5.068295278882948,\n",
      "    \"predicted_n\": 2,\n",
      "    \"predicted_ms\": 198.276,\n",
      "    \"predicted_per_token_ms\": 99.138,\n",
      "    \"predicted_per_second\": 10.086949504730779\n",
      "  }\n",
      "}\n"
     ]
    }
   ],
   "source": [
    "import json\n",
    "\n",
    "res = server.make_request(\n",
    "    \"POST\",\n",
    "    \"/chat/completions\",\n",
    "    data={\n",
    "        \"messages\": [\n",
    "            {\"role\": \"system\", \"content\": \"你是一个聊天机器人\"},\n",
    "            {\"role\": \"user\", \"content\": \"你好\"},\n",
    "        ],\n",
    "        \"max_tokens\": 2,\n",
    "    },\n",
    ")\n",
    "\n",
    "# res.body\n",
    "print(json.dumps(res.body, indent=2))"
   ]
  },
  {
   "cell_type": "code",
   "execution_count": null,
   "metadata": {},
   "outputs": [],
   "source": []
  }
 ],
 "metadata": {
  "kernelspec": {
   "display_name": ".venv",
   "language": "python",
   "name": "python3"
  },
  "language_info": {
   "codemirror_mode": {
    "name": "ipython",
    "version": 3
   },
   "file_extension": ".py",
   "mimetype": "text/x-python",
   "name": "python",
   "nbconvert_exporter": "python",
   "pygments_lexer": "ipython3",
   "version": "3.10.14"
  }
 },
 "nbformat": 4,
 "nbformat_minor": 2
}
