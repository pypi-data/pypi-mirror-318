{
 "cells": [
  {
   "cell_type": "code",
   "execution_count": 2,
   "metadata": {
    "ExecuteTime": {
     "end_time": "2024-11-01T11:44:53.974045Z",
     "start_time": "2024-11-01T11:44:53.327646Z"
    }
   },
   "outputs": [
    {
     "name": "stdout",
     "output_type": "stream",
     "text": [
      "2024-11-01T12:44:48+0100\n"
     ]
    }
   ],
   "source": [
    "import pandas as pd\n",
    "from pandas import Timestamp\n",
    "\n",
    "vehicle_data = heagAPI.get_current_vehicle_data()\n",
    "print(vehicle_data[\"timestamp\"])\n",
    "\n",
    "stations_data = heagAPI.get_station_data()"
   ]
  },
  {
   "cell_type": "code",
   "execution_count": 9,
   "metadata": {
    "ExecuteTime": {
     "end_time": "2024-11-01T12:03:43.868459Z",
     "start_time": "2024-11-01T12:03:43.859243Z"
    }
   },
   "outputs": [],
   "source": [
    "def getLatLong(station):\n",
    "    return (station[\"latitude\"], station[\"longitude\"])"
   ]
  },
  {
   "cell_type": "code",
   "execution_count": 6,
   "metadata": {
    "ExecuteTime": {
     "end_time": "2024-11-01T12:03:17.931583Z",
     "start_time": "2024-11-01T12:03:17.921340Z"
    }
   },
   "outputs": [],
   "source": [
    "#filter out station far away from Darmstadt. way more performant -> uses distance attribute\n",
    "max_distance = 20000 #in meters\n",
    "stations_data_filtered = [station for station in stations_data if station[\"distance\"] < max_distance]"
   ]
  },
  {
   "cell_type": "code",
   "execution_count": 7,
   "metadata": {
    "ExecuteTime": {
     "end_time": "2024-11-01T12:03:26.803193Z",
     "start_time": "2024-11-01T12:03:26.787880Z"
    }
   },
   "outputs": [],
   "source": [
    "def findClosestStation(location,stations):\n",
    "    closest_station = None\n",
    "    min_distance = float('inf')\n",
    "    # assumes that stations_datat is sorted by distance\n",
    "    distance_from_center = geodesic(location, getLatLong(stations_data[0])).meters\n",
    "    distance_band_width = 3000\n",
    "\n",
    "    for station in stations:\n",
    "        if abs(distance_from_center - station[\"distance\"]) < distance_band_width:\n",
    "            distance = geodesic(location, getLatLong(station)).meters\n",
    "            if distance < min_distance:\n",
    "                min_distance = distance\n",
    "                closest_station = station\n",
    "    \n",
    "    return closest_station"
   ]
  },
  {
   "cell_type": "markdown",
   "metadata": {},
   "source": [
    "# What Tinas are in use"
   ]
  },
  {
   "cell_type": "code",
   "execution_count": 3,
   "metadata": {
    "ExecuteTime": {
     "end_time": "2024-11-01T12:02:52.070060Z",
     "start_time": "2024-11-01T12:02:52.049878Z"
    }
   },
   "outputs": [],
   "source": [
    "from heagVehicleLivedataUtils.vehicleDataUtils import countTramsByLineAndClass\n",
    "from heagVehicleLivedataUtils.vehicleInformation import tram_class_prefix, modern_tram_numbers\n"
   ]
  },
  {
   "cell_type": "code",
   "execution_count": 4,
   "metadata": {
    "ExecuteTime": {
     "end_time": "2024-11-01T12:02:56.119093Z",
     "start_time": "2024-11-01T12:02:56.107043Z"
    }
   },
   "outputs": [],
   "source": [
    "# for compatibility after reworking vehicleUtils\n",
    "def tramBaureihenPrefix(tram):\n",
    "    return int(tram_class_prefix(tram))\n",
    "\n",
    "def get_trams_by_line_and_class(trams):\n",
    "    return countTramsByLineAndClass(trams)"
   ]
  },
  {
   "cell_type": "code",
   "execution_count": 10,
   "metadata": {
    "ExecuteTime": {
     "end_time": "2024-11-01T12:03:52.830322Z",
     "start_time": "2024-11-01T12:03:51.641685Z"
    }
   },
   "outputs": [
    {
     "name": "stdout",
     "output_type": "stream",
     "text": [
      "Tina 22102 on line 6 towards \"Arheilgen Dreieichweg\" near \"Darmstadt-Eberstadt Frankenstein Haltest. Linie 7\"\n",
      "Tina 22104 on line 5 towards \"Kranichstein Bahnhof\" near \"Darmstadt-Kranichstein Gruberstraße\"\n",
      "Tina 22106 on line 6 towards \"Alsbach Am Hinkelstein\" near \"Darmstadt-Eberstadt Frankenstein\"\n",
      "Tina 22107 on line 9 towards \"Griesheim Platz Bar-le-Duc\" near \"Darmstadt Luisenplatz\"\n",
      "Tina 22109 on line 6 towards \"Arheilgen Dreieichweg\" near \"Darmstadt Luisenplatz\"\n",
      "Tina 22110 on line 6 towards \"Alsbach Am Hinkelstein\" near \"Darmstadt-Arheilgen Dreieichweg\"\n",
      "Tina 22111 on line 9 towards \"Darmstadt Böllenfalltor\" near \"Darmstadt TZ Rhein Main\"\n",
      "Tina 22113 on line 6 towards \"Alsbach Am Hinkelstein\" near \"Darmstadt Pallaswiesenstraße\"\n",
      "Tina 22114 on line 6 towards \"Arheilgen Dreieichweg\" near \"Darmstadt-Eberstadt Friedrich-Ebert-Straße\"\n",
      "Tina 22115 on line 6 towards \"Alsbach Am Hinkelstein\" near \"Seeheim-Jugenheim-Seeheim Im Güldenen Wingert\"\n",
      "Tina 22116 on line 6 towards \"Alsbach Am Hinkelstein\" near \"Alsbach-Hähnlein-Alsbach Beuneweg\"\n"
     ]
    }
   ],
   "source": [
    "#find the Tinas in use\n",
    "tinas = [vehicle for vehicle in vehicle_data[\"vehicles\"] if vehicle[\"category\"]==1 and vehicle[\"vehicleId\"] >= 100 and vehicle[\"vehicleId\"] <= 125 ]\n",
    "\n",
    "tinas.sort(key=lambda vehicle: vehicle[\"vehicleId\"])\n",
    "\n",
    "for tina in tinas:\n",
    "    print(f'Tina 22{tina[\"vehicleId\"]} on line {tina[\"lineId\"]} towards \\\"{tina[\"direction\"]}\\\" near \\\"{findClosestStation(getLatLong(tina),stations_data_filtered)[\"name\"]}\\\"')"
   ]
  },
  {
   "cell_type": "code",
   "execution_count": 77,
   "metadata": {},
   "outputs": [
    {
     "name": "stdout",
     "output_type": "stream",
     "text": [
      "number of trams in use: 33\n",
      "Tram  9867 on line 3 towards \"Darmstadt Hauptbahnhof\" near \"Darmstadt Willy-Brandt-Platz\"\n",
      "Tram  9871 on line 3 towards \"Darmstadt Hauptbahnhof\" near \"Darmstadt Goethestraße\"\n",
      "Tram  0792 on line 3 towards \"Darmstadt Lichtenbergschule\" near \"Darmstadt Weinbergstraße\"\n",
      "Tram  0786 on line 3 towards \"Darmstadt Lichtenbergschule\" near \"Darmstadt Schulstraße\"\n",
      "Tram  9858 on line 3 towards \"Darmstadt Lichtenbergschule\" near \"Darmstadt Hauptbahnhof\"\n",
      "Tram  0787 on line 4 towards \"Kranichstein Bahnhof\" near \"Darmstadt Berliner Allee\"\n",
      "Tram  9873 on line 4 towards \"Kranichstein Bahnhof\" near \"Darmstadt Rhönring\"\n",
      "Tram  0788 on line 4 towards \"Darmstadt Hauptbahnhof\" near \"Darmstadt Willy-Brandt-Platz\"\n",
      "Tram  9869 on line 4 towards \"Darmstadt Hauptbahnhof\" near \"Darmstadt-Kranichstein Bahnhof\"\n",
      "Tram  0789 on line 4 towards \"Darmstadt Hauptbahnhof\" near \"Darmstadt-Kranichstein Bahnhof\"\n",
      "Tram  9860 on line 4 towards \"Darmstadt Hauptbahnhof\" near \"Darmstadt-Kranichstein Borsdorffstraße\"\n",
      "Tram  9859 on line 6 towards \"Alsbach Am Hinkelstein\" near \"Darmstadt-Arheilgen Kolpingweg\"\n",
      "Tram 22108 on line 6 towards \"Alsbach Am Hinkelstein\" near \"Darmstadt Rhein-/Neckarstraße\"\n",
      "Tram 22109 on line 6 towards \"Alsbach Am Hinkelstein\" near \"Darmstadt-Eberstadt Mittelschneise\"\n",
      "Tram 22101 on line 6 towards \"Arheilgen Dreieichweg\" near \"Darmstadt Willy-Brandt-Platz\"\n",
      "Tram  0785 on line 6 towards \"Arheilgen Dreieichweg\" near \"Alsbach-Hähnlein-Alsbach Am Hinkelstein\"\n",
      "Tram  0778 on line 6 towards \"Arheilgen Dreieichweg\" near \"Darmstadt-Eberstadt Kirche\"\n",
      "Tram 22111 on line 8 towards \"Eberstadt Frankenstein\" near \"Darmstadt Nordbahnhof\"\n",
      "Tram  0777 on line 8 towards \"Eberstadt Frankenstein\" near \"Darmstadt Bessunger Straße\"\n",
      "Tram  9862 on line 8 towards \"Arheilgen Dreieichweg\" near \"Darmstadt-Arheilgen Löwenplatz\"\n",
      "Tram  9855 on line 8 towards \"Arheilgen Dreieichweg\" near \"Darmstadt Prinz-Emil-Garten\"\n",
      "Tram  9874 on line 8 towards \"Arheilgen Dreieichweg\" near \"Darmstadt-Eberstadt Frankenstein\"\n",
      "Tram  0782 on line 9 towards \"Griesheim Platz Bar-le-Duc\" near \"Darmstadt Böllenfalltor\"\n",
      "Tram  9856 on line 9 towards \"Griesheim Platz Bar-le-Duc\" near \"Darmstadt Berliner Allee\"\n",
      "Tram  9868 on line 9 towards \"Griesheim Platz Bar-le-Duc\" near \"Darmstadt Holzstraße\"\n",
      "Tram  9870 on line 9 towards \"Griesheim Platz Bar-le-Duc\" near \"Griesheim Platz Bar-le-Duc\"\n",
      "Tram  9116 on line 9 towards \"Darmstadt Böllenfalltor\" near \"Griesheim Sankt Stephan\"\n",
      "Tram  0779 on line 9 towards \"Darmstadt Böllenfalltor\" near \"Darmstadt Herdweg\"\n",
      "Tram  9861 on line 9 towards \"Darmstadt Böllenfalltor\" near \"Griesheim Platz Bar-le-Duc\"\n",
      "Tram  0790 on line 9 towards \"Darmstadt Böllenfalltor\" near \"Darmstadt Rhein-/Neckarstraße\"\n",
      "Tram 22104 on line SV98 towards \"Darmstadt Hauptbahnhof\" near \"Darmstadt Jahnstraße\"\n",
      "Tram 22106 on line SV98 towards \"Griesheim Wagenhalle\" near \"Darmstadt Böllenfalltor\"\n",
      "Tram 22107 on line SV98 towards \"Darmstadt Hauptbahnhof\" near \"Darmstadt Schloss\"\n"
     ]
    }
   ],
   "source": [
    "trams = [vehicle for vehicle in vehicle_data[\"vehicles\"] if vehicle[\"category\"]==1]\n",
    "\n",
    "trams.sort(key=lambda vehicle: vehicle[\"lineId\"])\n",
    "print(f'number of trams in use: {len(trams)}')\n",
    "for tram in trams:\n",
    "    # TODO: fix this to use vehicleUtils\n",
    "    tramIdPrefixNumerical = tramBaureihenPrefix(tram)\n",
    "    if tramIdPrefixNumerical > 22 :\n",
    "        tramIdPrefix = ' ' + str(tramIdPrefixNumerical)\n",
    "    elif tramIdPrefixNumerical == 22:\n",
    "        tramIdPrefix = '22'\n",
    "    elif tramIdPrefixNumerical == 7:\n",
    "        tramIdPrefix = ' 07'\n",
    "    else:\n",
    "        tramIdPrefix = '  '\n",
    "\n",
    "    print('Tram ' + tramIdPrefix + f'{tram[\"vehicleId\"]} on line {tram[\"lineId\"]} towards \\\"{tram[\"direction\"]}\\\" near \\\"{findClosestStation(getLatLong(tram),stations_data_filtered)[\"name\"]}\\\"')"
   ]
  },
  {
   "cell_type": "code",
   "execution_count": 36,
   "metadata": {},
   "outputs": [
    {
     "name": "stdout",
     "output_type": "stream",
     "text": [
      "number of high floor trams on eberstadt brach 0/19\n"
     ]
    }
   ],
   "source": [
    "trams = [vehicle for vehicle in vehicle_data[\"vehicles\"] if vehicle[\"category\"]==1]\n",
    "\n",
    "trams_northSouth = [tram for tram in trams if (int(tram[\"lineId\"]) >= 6 and int(tram[\"lineId\"]) <= 8) or int(tram[\"lineId\"]) == 1]\n",
    "trams_northSouth_highFloor = [tram for tram in trams_northSouth if tram[\"vehicleId\"] >= 15 and tram[\"vehicleId\"] < 25]\n",
    "\n",
    "print(f\"number of high floor trams on eberstadt brach {len(trams_northSouth_highFloor)}/{len(trams_northSouth)}\")"
   ]
  },
  {
   "cell_type": "code",
   "execution_count": 11,
   "metadata": {
    "ExecuteTime": {
     "end_time": "2024-11-01T12:04:09.121518Z",
     "start_time": "2024-11-01T12:04:09.104184Z"
    }
   },
   "outputs": [
    {
     "name": "stdout",
     "output_type": "stream",
     "text": [
      "3 on line 1 Distribution: [0, 0, 3, 0, 0]\n",
      "4 on line 2 Distribution: [0, 3, 1, 0, 0]\n",
      "4 on line 3 Distribution: [0, 2, 2, 0, 0]\n",
      "4 on line 4 Distribution: [0, 3, 1, 0, 0]\n",
      "6 on line 5 Distribution: [1, 1, 2, 2, 0]\n",
      "11 on line 6 Distribution: [8, 0, 1, 2, 0]\n",
      "4 on line 7 Distribution: [0, 1, 3, 0, 0]\n",
      "0 on line 8 Distribution: [0, 0, 0, 0, 0]\n",
      "4 on line 9 Distribution: [2, 0, 1, 1, 0]\n",
      "0 on line 10 Distribution: [0, 0, 0, 0, 0]\n",
      "Distribution: [ST15, ST14, ST13, ST12, other]\n",
      "Total: 40 Distribution: [11, 10, 14, 5, 0]\n"
     ]
    }
   ],
   "source": [
    "trams = [vehicle for vehicle in vehicle_data[\"vehicles\"] if vehicle[\"category\"]==1]\n",
    "\n",
    "tramsOnLine_byClass = get_trams_by_line_and_class(trams)\n",
    "\n",
    "for line in range(len(tramsOnLine_byClass)):\n",
    "    print(f\"{sum(tramsOnLine_byClass[line])} on line {line + 1} Distribution: {tramsOnLine_byClass[line]}\")\n",
    "\n",
    "print(\"Distribution: [ST15, ST14, ST13, ST12, other]\")\n",
    "print(f\"Total: {len(trams)} Distribution: {[sum([tramsByClass[tramClass] for tramsByClass in tramsOnLine_byClass]) for tramClass in range(5)]}\")"
   ]
  },
  {
   "cell_type": "markdown",
   "metadata": {},
   "source": [
    "# Test stuff out"
   ]
  },
  {
   "cell_type": "code",
   "metadata": {
    "ExecuteTime": {
     "end_time": "2024-12-28T17:26:49.609645Z",
     "start_time": "2024-12-28T17:26:47.985013Z"
    }
   },
   "source": [
    "import heagVehicleLivedataUtils.apiUtils as heagAPI\n",
    "vehicle_data = heagAPI.get_current_vehicle_data_as_dataframe()"
   ],
   "outputs": [],
   "execution_count": 1
  },
  {
   "cell_type": "code",
   "metadata": {
    "ExecuteTime": {
     "end_time": "2024-12-28T17:26:51.529615Z",
     "start_time": "2024-12-28T17:26:51.475025Z"
    }
   },
   "source": [
    "vehicle_data[vehicle_data['status'] != 1]"
   ],
   "outputs": [
    {
     "data": {
      "text/plain": [
       "                                      lineid  category  \\\n",
       "time                      vehicleid                      \n",
       "2024-12-28 18:26:36+01:00 616            693         5   \n",
       "                          979        4352065         5   \n",
       "                          656        5076545         5   \n",
       "\n",
       "                                                  direction  status  \\\n",
       "time                      vehicleid                                   \n",
       "2024-12-28 18:26:36+01:00 616        Fürth (Odenw.) Bahnhof       4   \n",
       "                          979            Sickenhofen Kirche       4   \n",
       "                          656        Rohrbach Brunnenstraße       4   \n",
       "\n",
       "                                      latitude  longitude  bearing  type  \n",
       "time                      vehicleid                                       \n",
       "2024-12-28 18:26:36+01:00 616        49.648685   8.780912      225     1  \n",
       "                          979        49.923916   9.011983      135     1  \n",
       "                          656        49.864911   8.712122       90     1  "
      ],
      "text/html": [
       "<div>\n",
       "<style scoped>\n",
       "    .dataframe tbody tr th:only-of-type {\n",
       "        vertical-align: middle;\n",
       "    }\n",
       "\n",
       "    .dataframe tbody tr th {\n",
       "        vertical-align: top;\n",
       "    }\n",
       "\n",
       "    .dataframe thead th {\n",
       "        text-align: right;\n",
       "    }\n",
       "</style>\n",
       "<table border=\"1\" class=\"dataframe\">\n",
       "  <thead>\n",
       "    <tr style=\"text-align: right;\">\n",
       "      <th></th>\n",
       "      <th></th>\n",
       "      <th>lineid</th>\n",
       "      <th>category</th>\n",
       "      <th>direction</th>\n",
       "      <th>status</th>\n",
       "      <th>latitude</th>\n",
       "      <th>longitude</th>\n",
       "      <th>bearing</th>\n",
       "      <th>type</th>\n",
       "    </tr>\n",
       "    <tr>\n",
       "      <th>time</th>\n",
       "      <th>vehicleid</th>\n",
       "      <th></th>\n",
       "      <th></th>\n",
       "      <th></th>\n",
       "      <th></th>\n",
       "      <th></th>\n",
       "      <th></th>\n",
       "      <th></th>\n",
       "      <th></th>\n",
       "    </tr>\n",
       "  </thead>\n",
       "  <tbody>\n",
       "    <tr>\n",
       "      <th rowspan=\"3\" valign=\"top\">2024-12-28 18:26:36+01:00</th>\n",
       "      <th>616</th>\n",
       "      <td>693</td>\n",
       "      <td>5</td>\n",
       "      <td>Fürth (Odenw.) Bahnhof</td>\n",
       "      <td>4</td>\n",
       "      <td>49.648685</td>\n",
       "      <td>8.780912</td>\n",
       "      <td>225</td>\n",
       "      <td>1</td>\n",
       "    </tr>\n",
       "    <tr>\n",
       "      <th>979</th>\n",
       "      <td>4352065</td>\n",
       "      <td>5</td>\n",
       "      <td>Sickenhofen Kirche</td>\n",
       "      <td>4</td>\n",
       "      <td>49.923916</td>\n",
       "      <td>9.011983</td>\n",
       "      <td>135</td>\n",
       "      <td>1</td>\n",
       "    </tr>\n",
       "    <tr>\n",
       "      <th>656</th>\n",
       "      <td>5076545</td>\n",
       "      <td>5</td>\n",
       "      <td>Rohrbach Brunnenstraße</td>\n",
       "      <td>4</td>\n",
       "      <td>49.864911</td>\n",
       "      <td>8.712122</td>\n",
       "      <td>90</td>\n",
       "      <td>1</td>\n",
       "    </tr>\n",
       "  </tbody>\n",
       "</table>\n",
       "</div>"
      ]
     },
     "execution_count": 2,
     "metadata": {},
     "output_type": "execute_result"
    }
   ],
   "execution_count": 2
  },
  {
   "metadata": {
    "ExecuteTime": {
     "end_time": "2024-12-20T00:25:15.380002Z",
     "start_time": "2024-12-20T00:25:15.367627Z"
    }
   },
   "cell_type": "code",
   "source": [
    "import heagVehicleLivedataUtils.apiUtils as heagAPI\n",
    "from heagVehicleLivedataUtils.vehicleDataUtils.read import  vehicledata_index_names\n",
    "import pandas as pd"
   ],
   "outputs": [],
   "execution_count": 7
  },
  {
   "metadata": {
    "ExecuteTime": {
     "end_time": "2024-12-20T00:26:10.414104Z",
     "start_time": "2024-12-20T00:26:10.320618Z"
    }
   },
   "cell_type": "code",
   "source": [
    "df = heagAPI.get_current_vehicle_data_as_dataframe()\n",
    "df = df.reset_index()\n",
    "\n",
    "pd.MultiIndex.from_arrays([df['time'],df['vehicleid']], names=vehicledata_index_names)"
   ],
   "outputs": [
    {
     "data": {
      "text/plain": [
       "MultiIndex([('2024-12-20 01:26:02+01:00',  59),\n",
       "            ('2024-12-20 01:26:02+01:00',  55),\n",
       "            ('2024-12-20 01:26:02+01:00',  68),\n",
       "            ('2024-12-20 01:26:02+01:00', 292),\n",
       "            ('2024-12-20 01:26:02+01:00',  87),\n",
       "            ('2024-12-20 01:26:02+01:00',  70),\n",
       "            ('2024-12-20 01:26:02+01:00', 419),\n",
       "            ('2024-12-20 01:26:02+01:00', 915),\n",
       "            ('2024-12-20 01:26:02+01:00',  71),\n",
       "            ('2024-12-20 01:26:02+01:00', 101),\n",
       "            ('2024-12-20 01:26:02+01:00', 407),\n",
       "            ('2024-12-20 01:26:02+01:00',  56),\n",
       "            ('2024-12-20 01:26:02+01:00', 836),\n",
       "            ('2024-12-20 01:26:02+01:00', 110),\n",
       "            ('2024-12-20 01:26:02+01:00',  58),\n",
       "            ('2024-12-20 01:26:02+01:00', 336),\n",
       "            ('2024-12-20 01:26:02+01:00', 626)],\n",
       "           names=['time', 'vehicleid'])"
      ]
     },
     "execution_count": 10,
     "metadata": {},
     "output_type": "execute_result"
    }
   ],
   "execution_count": 10
  },
  {
   "metadata": {
    "ExecuteTime": {
     "end_time": "2024-12-28T17:40:17.126965Z",
     "start_time": "2024-12-28T17:40:15.705337Z"
    }
   },
   "cell_type": "code",
   "source": [
    "import pandas as pd\n",
    "from heagVehicleLivedataUtils.vehicleDataUtils.process import trams_in_service\n",
    "from heagVehicleLivedataUtils.apiUtils import get_current_vehicle_data_as_dataframe\n",
    "\n",
    "df = get_current_vehicle_data_as_dataframe()\n",
    "empty_df = df.reindex(index = [])\n",
    "trams_in_service(empty_df)"
   ],
   "outputs": [
    {
     "ename": "RuntimeError",
     "evalue": "empty Dataframe, cant pivot",
     "output_type": "error",
     "traceback": [
      "\u001B[0;31m---------------------------------------------------------------------------\u001B[0m",
      "\u001B[0;31mRuntimeError\u001B[0m                              Traceback (most recent call last)",
      "Cell \u001B[0;32mIn[1], line 7\u001B[0m\n\u001B[1;32m      5\u001B[0m df \u001B[38;5;241m=\u001B[39m get_current_vehicle_data_as_dataframe()\n\u001B[1;32m      6\u001B[0m empty_df \u001B[38;5;241m=\u001B[39m df\u001B[38;5;241m.\u001B[39mreindex(index \u001B[38;5;241m=\u001B[39m [])\n\u001B[0;32m----> 7\u001B[0m \u001B[43mtrams_in_service\u001B[49m\u001B[43m(\u001B[49m\u001B[43mempty_df\u001B[49m\u001B[43m)\u001B[49m\n",
      "File \u001B[0;32m~/hometools/pythonHeagApiStuff/src/heagVehicleLivedataUtils/vehicleDataUtils/process.py:37\u001B[0m, in \u001B[0;36mtrams_in_service\u001B[0;34m(vehicledata_df)\u001B[0m\n\u001B[1;32m     34\u001B[0m trams \u001B[38;5;241m=\u001B[39m remove_duplicated_index(trams)\n\u001B[1;32m     36\u001B[0m \u001B[38;5;28;01mif\u001B[39;00m trams\u001B[38;5;241m.\u001B[39mempty:\n\u001B[0;32m---> 37\u001B[0m     \u001B[38;5;28;01mraise\u001B[39;00m \u001B[38;5;167;01mRuntimeError\u001B[39;00m(\u001B[38;5;124m'\u001B[39m\u001B[38;5;124mempty Dataframe, cant pivot\u001B[39m\u001B[38;5;124m'\u001B[39m)\n\u001B[1;32m     39\u001B[0m \u001B[38;5;66;03m# TODO: error handling with empty data??\u001B[39;00m\n\u001B[1;32m     40\u001B[0m trams_in_service_df \u001B[38;5;241m=\u001B[39m trams\u001B[38;5;241m.\u001B[39mreset_index()\u001B[38;5;241m.\u001B[39mpivot(index\u001B[38;5;241m=\u001B[39m\u001B[38;5;124m'\u001B[39m\u001B[38;5;124mtime\u001B[39m\u001B[38;5;124m'\u001B[39m,columns\u001B[38;5;241m=\u001B[39m\u001B[38;5;124m'\u001B[39m\u001B[38;5;124mvehicleid\u001B[39m\u001B[38;5;124m'\u001B[39m)[\u001B[38;5;124m'\u001B[39m\u001B[38;5;124mlineid\u001B[39m\u001B[38;5;124m'\u001B[39m]\n",
      "\u001B[0;31mRuntimeError\u001B[0m: empty Dataframe, cant pivot"
     ]
    }
   ],
   "execution_count": 1
  }
 ],
 "metadata": {
  "kernelspec": {
   "display_name": ".venv",
   "language": "python",
   "name": "python3"
  },
  "language_info": {
   "codemirror_mode": {
    "name": "ipython",
    "version": 3
   },
   "file_extension": ".py",
   "mimetype": "text/x-python",
   "name": "python",
   "nbconvert_exporter": "python",
   "pygments_lexer": "ipython3",
   "version": "3.11.10"
  },
  "orig_nbformat": 4
 },
 "nbformat": 4,
 "nbformat_minor": 2
}
