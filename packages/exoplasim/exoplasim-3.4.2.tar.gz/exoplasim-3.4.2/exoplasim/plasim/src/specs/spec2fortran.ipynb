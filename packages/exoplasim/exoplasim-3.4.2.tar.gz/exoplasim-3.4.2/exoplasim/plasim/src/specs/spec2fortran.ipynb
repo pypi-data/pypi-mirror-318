{
 "cells": [
  {
   "cell_type": "code",
   "execution_count": 3,
   "metadata": {},
   "outputs": [],
   "source": [
    "import numpy as np\n",
    "import matplotlib.pyplot as plt\n",
    "%matplotlib inline"
   ]
  },
  {
   "cell_type": "code",
   "execution_count": 4,
   "metadata": {},
   "outputs": [],
   "source": [
    "manifest = {}\n",
    "with open(\"manifest.txt\",\"r\") as mn:\n",
    "    lines = mn.read().split('\\n')\n",
    "    for l in lines:\n",
    "        lfile = l.split()\n",
    "        if len(lfile)>0:\n",
    "            manifest[lfile[0]] = lfile[1]"
   ]
  },
  {
   "cell_type": "code",
   "execution_count": 5,
   "metadata": {},
   "outputs": [
    {
     "name": "stdout",
     "output_type": "stream",
     "text": [
      "0 andesitefine\n",
      "1 andesitesolid\n",
      "2 basaltsolid\n",
      "3 brownsand\n",
      "4 clearice\n",
      "5 coarsesnow\n",
      "6 dunesand\n",
      "7 finesnow\n",
      "8 frost\n",
      "9 mediumsnow\n",
      "10 seafoam\n",
      "11 seawater\n",
      "12 tapwater\n",
      "13 yellowloam\n",
      "14 yellowsand\n"
     ]
    }
   ],
   "source": [
    "names = sorted(manifest.keys())\n",
    "ix = 0\n",
    "for n in names:\n",
    "    print ix,n\n",
    "    ix+=1"
   ]
  },
  {
   "cell_type": "code",
   "execution_count": 6,
   "metadata": {},
   "outputs": [],
   "source": [
    "nidx = 8\n",
    "filename = manifest[names[nidx]]"
   ]
  },
  {
   "cell_type": "code",
   "execution_count": 7,
   "metadata": {},
   "outputs": [
    {
     "name": "stdout",
     "output_type": "stream",
     "text": [
      "Header has 21 lines\n"
     ]
    }
   ],
   "source": [
    "with open(filename,\"r\") as fileobj:\n",
    "    text = fileobj.read().split('\\n')\n",
    "    for k in range(len(text)):\n",
    "        if text[k].split()[0]==\"Additional\":\n",
    "            nhead = k+2\n",
    "            break\n",
    "print \"Header has %d lines\"%nhead"
   ]
  },
  {
   "cell_type": "code",
   "execution_count": 8,
   "metadata": {},
   "outputs": [],
   "source": [
    "spec = np.loadtxt(filename,skiprows=nhead,ndmin=2).transpose()"
   ]
  },
  {
   "cell_type": "code",
   "execution_count": 9,
   "metadata": {},
   "outputs": [
    {
     "name": "stdout",
     "output_type": "stream",
     "text": [
      "(2, 965)\n"
     ]
    }
   ],
   "source": [
    "print spec.shape"
   ]
  },
  {
   "cell_type": "code",
   "execution_count": 10,
   "metadata": {},
   "outputs": [],
   "source": [
    "if spec[0,0] > spec[0,-1]:\n",
    "    spec = np.flip(spec,axis=1)"
   ]
  },
  {
   "cell_type": "code",
   "execution_count": 11,
   "metadata": {},
   "outputs": [
    {
     "data": {
      "text/plain": [
       "Text(0.5,1,'water.frost.none.fine.all.frost_snw_.jhu.becknic.spectrum.txt')"
      ]
     },
     "execution_count": 11,
     "metadata": {},
     "output_type": "execute_result"
    },
    {
     "data": {
      "image/png": "[encoded data removed]",
      "text/plain": [
       "<Figure size 432x288 with 1 Axes>"
      ]
     },
     "metadata": {},
     "output_type": "display_data"
    }
   ],
   "source": [
    "plt.plot(spec[0,:],spec[1,:])\n",
    "plt.xscale('log')\n",
    "plt.xlabel(\"Wavelength [$\\mu$m]\")\n",
    "plt.ylabel(\"Reflectance [%]\")\n",
    "plt.title(filename)"
   ]
  },
  {
   "cell_type": "code",
   "execution_count": 12,
   "metadata": {},
   "outputs": [],
   "source": [
    "specvar = names[nidx]\n",
    "spectext = \"       real :: %s(%d) = (/\"%(specvar,spec.shape[1])\n",
    "spectext += \",\".join(spec[1,:8].astype(str)) + \", &\\n\"\n",
    "wvtext = \"       real :: %s(%d) = (/\"%(\"wv\"+specvar,spec.shape[1])\n",
    "wvtext += \",\".join(spec[0,:8].astype(str)) + \", &\\n\"\n",
    "n=8\n",
    "while n+8<spec.shape[1]:\n",
    "    spectext += \"      &          \" + \",\".join([\"%.4f\" % number for number in spec[1,n:n+8]]) + \", &\\n\"\n",
    "    wvtext += \"      &          \" + \",\".join([\"%.4f\" % number for number in spec[0,n:n+8]]) + \", &\\n\"\n",
    "    n+=8\n",
    "spectext += \"      &          \" + \",\".join(spec[1,n:].astype(str)) + \" /)\"\n",
    "wvtext += \"      &          \" + \",\".join(spec[0,n:].astype(str)) + \" /)\""
   ]
  },
  {
   "cell_type": "code",
   "execution_count": 13,
   "metadata": {},
   "outputs": [
    {
     "name": "stdout",
     "output_type": "stream",
     "text": [
      "       real :: wvfrost(965) = (/0.34,0.35,0.36,0.37,0.38,0.39,0.4,0.41, &\n",
      "      &          0.4200,0.4300,0.4400,0.4500,0.4600,0.4700,0.4800,0.4900, &\n",
      "      &          0.5000,0.5100,0.5200,0.5300,0.5400,0.5500,0.5600,0.5700, &\n",
      "      &          0.5800,0.5900,0.6000,0.6100,0.6200,0.6300,0.6400,0.6500, &\n",
      "      &          0.6600,0.6700,0.6800,0.6900,0.7000,0.7100,0.7200,0.7300, &\n",
      "      &          0.7400,0.7500,0.7600,0.7700,0.7800,0.7900,0.8000,0.8200, &\n",
      "      &          0.8400,0.8600,0.8800,0.9000,0.9200,0.9400,0.9600,0.9800, &\n",
      "      &          1.0000,1.0200,1.0400,1.0600,1.0800,1.1000,1.1200,1.1400, &\n",
      "      &          1.1600,1.1800,1.2000,1.2200,1.2400,1.2600,1.2800,1.3000, &\n",
      "      &          1.3200,1.3400,1.3600,1.3800,1.4000,1.4200,1.4400,1.4600, &\n",
      "      &          1.4800,1.5000,1.5200,1.5400,1.5600,1.5800,1.6000,1.6200, &\n",
      "      &          1.6400,1.6600,1.6800,1.7000,1.7200,1.7400,1.7600,1.7800, &\n",
      "      &          1.8000,1.8200,1.8400,1.8600,1.8800,1.9000,1.9200,1.9400, &\n",
      "      &          1.9600,1.9800,2.0000,2.0200,2.0400,2.0600,2.0800,2.1000, &\n",
      "      &          2.1200,2.1400,2.1600,2.1800,2.2000,2.2200,2.2400,2.2500, &\n",
      "      &          2.2600,2.2700,2.2800,2.2900,2.3000,2.3100,2.3200,2.3300, &\n",
      "      &          2.3400,2.3500,2.3600,2.3700,2.3800,2.3900,2.4000,2.4100, &\n",
      "      &          2.4200,2.4300,2.4400,2.4500,2.4600,2.4700,2.4800,2.4900, &\n",
      "      &          2.5000,2.5100,2.5200,2.5300,2.5400,2.5500,2.5600,2.5700, &\n",
      "      &          2.5800,2.5900,2.6000,2.6100,2.6200,2.6300,2.6400,2.6500, &\n",
      "      &          2.6600,2.6700,2.6800,2.6900,2.7000,2.7100,2.7200,2.7300, &\n",
      "      &          2.7400,2.7500,2.7600,2.7700,2.7800,2.7900,2.8000,2.8100, &\n",
      "      &          2.8200,2.8300,2.8400,2.8500,2.8600,2.8700,2.8800,2.8900, &\n",
      "      &          2.9000,2.9100,2.9200,2.9300,2.9400,2.9500,2.9600,2.9700, &\n",
      "      &          2.9800,2.9900,3.0000,3.0100,3.0200,3.0300,3.0400,3.0500, &\n",
      "      &          3.0600,3.0700,3.0800,3.0900,3.1000,3.1100,3.1200,3.1300, &\n",
      "      &          3.1400,3.1500,3.1600,3.1700,3.1800,3.1900,3.2000,3.2100, &\n",
      "      &          3.2200,3.2300,3.2400,3.2500,3.2600,3.2700,3.2800,3.2900, &\n",
      "      &          3.3000,3.3100,3.3200,3.3300,3.3400,3.3500,3.3600,3.3700, &\n",
      "      &          3.3800,3.3900,3.4000,3.4100,3.4200,3.4300,3.4400,3.4500, &\n",
      "      &          3.4600,3.4700,3.4800,3.4900,3.5000,3.5100,3.5200,3.5300, &\n",
      "      &          3.5400,3.5500,3.5600,3.5700,3.5800,3.5900,3.6000,3.6100, &\n",
      "      &          3.6200,3.6300,3.6400,3.6500,3.6600,3.6700,3.6800,3.6900, &\n",
      "      &          3.7000,3.7100,3.7200,3.7300,3.7400,3.7500,3.7600,3.7700, &\n",
      "      &          3.7800,3.7900,3.8000,3.8100,3.8200,3.8300,3.8400,3.8500, &\n",
      "      &          3.8600,3.8700,3.8800,3.8900,3.9000,3.9100,3.9200,3.9300, &\n",
      "      &          3.9400,3.9500,3.9600,3.9700,3.9800,3.9900,4.0000,4.0100, &\n",
      "      &          4.0200,4.0300,4.0400,4.0500,4.0600,4.0700,4.0800,4.0900, &\n",
      "      &          4.1000,4.1100,4.1200,4.1300,4.1400,4.1500,4.1600,4.1700, &\n",
      "      &          4.1800,4.1900,4.2000,4.2100,4.2200,4.2300,4.2400,4.2500, &\n",
      "      &          4.2600,4.2700,4.2800,4.2900,4.3000,4.3100,4.3200,4.3300, &\n",
      "      &          4.3400,4.3500,4.3600,4.3700,4.3800,4.3900,4.4000,4.4100, &\n",
      "      &          4.4200,4.4300,4.4400,4.4500,4.4600,4.4700,4.4800,4.4900, &\n",
      "      &          4.5000,4.5100,4.5200,4.5300,4.5400,4.5500,4.5600,4.5700, &\n",
      "      &          4.5800,4.5900,4.6000,4.6100,4.6200,4.6300,4.6400,4.6500, &\n",
      "      &          4.6600,4.6700,4.6800,4.6900,4.7000,4.7100,4.7200,4.7300, &\n",
      "      &          4.7400,4.7500,4.7600,4.7700,4.7800,4.7900,4.8000,4.8100, &\n",
      "      &          4.8200,4.8300,4.8400,4.8500,4.8600,4.8700,4.8800,4.8900, &\n",
      "      &          4.9000,4.9100,4.9200,4.9300,4.9400,4.9500,4.9600,4.9700, &\n",
      "      &          4.9800,4.9900,5.0000,5.0100,5.0200,5.0300,5.0400,5.0500, &\n",
      "      &          5.0600,5.0700,5.0800,5.0900,5.1000,5.1100,5.1200,5.1300, &\n",
      "      &          5.1400,5.1500,5.1600,5.1700,5.1800,5.1900,5.2000,5.2100, &\n",
      "      &          5.2200,5.2300,5.2400,5.2500,5.2600,5.2700,5.2800,5.2900, &\n",
      "      &          5.3000,5.3100,5.3200,5.3300,5.3400,5.3500,5.3600,5.3700, &\n",
      "      &          5.3800,5.3900,5.4000,5.4100,5.4200,5.4300,5.4400,5.4500, &\n",
      "      &          5.4600,5.4700,5.4800,5.4900,5.5000,5.5100,5.5200,5.5300, &\n",
      "      &          5.5400,5.5500,5.5600,5.5700,5.5800,5.5900,5.6000,5.6100, &\n",
      "      &          5.6200,5.6300,5.6400,5.6500,5.6600,5.6700,5.6800,5.6900, &\n",
      "      &          5.7000,5.7100,5.7200,5.7300,5.7400,5.7500,5.7600,5.7700, &\n",
      "      &          5.7800,5.7900,5.8000,5.8100,5.8200,5.8300,5.8400,5.8500, &\n",
      "      &          5.8600,5.8700,5.8800,5.8900,5.9000,5.9100,5.9200,5.9300, &\n",
      "      &          5.9400,5.9500,5.9600,5.9700,5.9800,5.9900,6.0000,6.0100, &\n",
      "      &          6.0200,6.0300,6.0400,6.0500,6.0600,6.0700,6.0800,6.0900, &\n",
      "      &          6.1000,6.1100,6.1200,6.1300,6.1400,6.1500,6.1600,6.1700, &\n",
      "      &          6.1800,6.1900,6.2000,6.2100,6.2200,6.2300,6.2400,6.2500, &\n",
      "      &          6.2600,6.2700,6.2800,6.2900,6.3000,6.3100,6.3200,6.3300, &\n",
      "      &          6.3400,6.3500,6.3600,6.3700,6.3800,6.3900,6.4000,6.4100, &\n",
      "      &          6.4200,6.4300,6.4400,6.4500,6.4600,6.4700,6.4800,6.4900, &\n",
      "      &          6.5000,6.5100,6.5200,6.5300,6.5400,6.5500,6.5600,6.5700, &\n",
      "      &          6.5800,6.5900,6.6000,6.6100,6.6200,6.6300,6.6400,6.6500, &\n",
      "      &          6.6600,6.6700,6.6800,6.6900,6.7000,6.7100,6.7200,6.7300, &\n",
      "      &          6.7400,6.7500,6.7600,6.7700,6.7800,6.7900,6.8000,6.8100, &\n",
      "      &          6.8200,6.8300,6.8400,6.8500,6.8600,6.8700,6.8800,6.8900, &\n",
      "      &          6.9000,6.9100,6.9200,6.9300,6.9400,6.9500,6.9600,6.9700, &\n",
      "      &          6.9800,6.9900,7.0000,7.0100,7.0200,7.0300,7.0400,7.0500, &\n",
      "      &          7.0600,7.0700,7.0800,7.0900,7.1000,7.1100,7.1200,7.1300, &\n",
      "      &          7.1400,7.1500,7.1600,7.1700,7.1800,7.1900,7.2000,7.2100, &\n",
      "      &          7.2200,7.2300,7.2400,7.2500,7.2600,7.2700,7.2800,7.2900, &\n",
      "      &          7.3000,7.3100,7.3200,7.3300,7.3400,7.3500,7.3600,7.3700, &\n",
      "      &          7.3800,7.4000,7.4100,7.4200,7.4300,7.4400,7.4500,7.4600, &\n",
      "      &          7.4700,7.4800,7.4900,7.5000,7.5100,7.5200,7.5400,7.5500, &\n",
      "      &          7.5600,7.5700,7.5800,7.5900,7.6000,7.6100,7.6200,7.6300, &\n",
      "      &          7.6500,7.6600,7.6700,7.6800,7.6900,7.7000,7.7100,7.7300, &\n",
      "      &          7.7400,7.7500,7.7600,7.7700,7.7800,7.8000,7.8100,7.8200, &\n",
      "      &          7.8300,7.8400,7.8500,7.8700,7.8800,7.8900,7.9000,7.9100, &\n",
      "      &          7.9300,7.9400,7.9500,7.9600,7.9800,7.9900,8.0000,8.0100, &\n",
      "      &          8.0300,8.0400,8.0500,8.0600,8.0800,8.0900,8.1000,8.1100, &\n",
      "      &          8.1300,8.1400,8.1500,8.1600,8.1800,8.1900,8.2000,8.2200, &\n",
      "      &          8.2300,8.2400,8.2600,8.2700,8.2800,8.2900,8.3100,8.3200, &\n",
      "      &          8.3300,8.3500,8.3600,8.3800,8.3900,8.4000,8.4200,8.4300, &\n",
      "      &          8.4400,8.4600,8.4700,8.4800,8.5000,8.5100,8.5300,8.5400, &\n",
      "      &          8.5500,8.5700,8.5800,8.6000,8.6100,8.6300,8.6400,8.6500, &\n",
      "      &          8.6700,8.6800,8.7000,8.7100,8.7300,8.7400,8.7600,8.7700, &\n",
      "      &          8.7900,8.8000,8.8200,8.8300,8.8500,8.8600,8.8800,8.8900, &\n",
      "      &          8.9100,8.9200,8.9400,8.9500,8.9700,8.9800,9.0000,9.0200, &\n",
      "      &          9.0300,9.0500,9.0600,9.0800,9.1000,9.1100,9.1300,9.1400, &\n",
      "      &          9.1600,9.1800,9.1900,9.2100,9.2200,9.2400,9.2600,9.2700, &\n",
      "      &          9.2900,9.3100,9.3200,9.3400,9.3600,9.3700,9.3900,9.4100, &\n",
      "      &          9.4300,9.4400,9.4600,9.4800,9.4900,9.5100,9.5300,9.5500, &\n",
      "      &          9.5600,9.5800,9.6000,9.6200,9.6400,9.6500,9.6700,9.6900, &\n",
      "      &          9.7100,9.7300,9.7400,9.7600,9.7800,9.8000,9.8200,9.8400, &\n",
      "      &          9.8600,9.8700,9.8900,9.9100,9.9300,9.9500,9.9700,9.9900, &\n",
      "      &          10.0100,10.0300,10.0500,10.0700,10.0900,10.1100,10.1300,10.1500, &\n",
      "      &          10.1700,10.1800,10.2100,10.2300,10.2500,10.2700,10.2900,10.3100, &\n",
      "      &          10.3300,10.3500,10.3700,10.3900,10.4100,10.4300,10.4500,10.4700, &\n",
      "      &          10.4900,10.5200,10.5400,10.5600,10.5800,10.6000,10.6200,10.6500, &\n",
      "      &          10.6700,10.6900,10.7100,10.7300,10.7600,10.7800,10.8000,10.8200, &\n",
      "      &          10.8500,10.8700,10.8900,10.9100,10.9400,10.9600,10.9800,11.0100, &\n",
      "      &          11.0300,11.0500,11.0800,11.1000,11.1200,11.1500,11.1700,11.2000, &\n",
      "      &          11.2200,11.2500,11.2700,11.2900,11.3200,11.3400,11.3700,11.3900, &\n",
      "      &          11.4200,11.4400,11.4700,11.4900,11.5200,11.5500,11.5700,11.6000, &\n",
      "      &          11.6200,11.6500,11.6800,11.7000,11.7300,11.7600,11.7800,11.8100, &\n",
      "      &          11.8400,11.8600,11.8900,11.9200,11.9500,11.9700,12.0000,12.0300, &\n",
      "      &          12.0600,12.0800,12.1100,12.1400,12.1700,12.2000,12.2300,12.2600, &\n",
      "      &          12.2800,12.3100,12.3400,12.3700,12.4000,12.4300,12.4600,12.4900, &\n",
      "      &          12.5200,12.5500,12.5800,12.6100,12.6400,12.6800,12.7100,12.7400, &\n",
      "      &          12.7700,12.8000,12.8300,12.8600,12.9000,12.9300,12.9600,12.9900, &\n",
      "      &          13.0300,13.0600,13.0900,13.1200,13.1600,13.1900,13.2200,13.2600, &\n",
      "      &          13.2900,13.3300,13.3600,13.4000,13.4300,13.4700,13.5000,13.5400, &\n",
      "      &          13.5700,13.6100,13.6400,13.6800,13.7100,13.7500,13.7900,13.8200, &\n",
      "      &          13.86,13.9,13.94,13.97,14.01 /)\n"
     ]
    }
   ],
   "source": [
    "print wvtext"
   ]
  },
  {
   "cell_type": "code",
   "execution_count": 14,
   "metadata": {},
   "outputs": [
    {
     "name": "stdout",
     "output_type": "stream",
     "text": [
      "       real :: frost(965) = (/99.038,99.048,99.192,99.208,99.25,99.252,99.244,99.35, &\n",
      "      &          99.2840,99.4180,99.3640,99.4920,99.4820,99.5160,99.4840,99.4460, &\n",
      "      &          99.4480,99.4460,99.3940,99.4560,99.3280,99.3800,99.3280,99.2860, &\n",
      "      &          99.3100,99.2800,99.1980,99.1100,98.9640,98.9180,98.8400,98.7560, &\n",
      "      &          98.6280,98.5680,98.5040,98.4200,98.1760,98.0980,98.0380,97.9380, &\n",
      "      &          97.8360,97.6660,97.4320,97.1960,96.9900,96.7760,96.6170,96.5300, &\n",
      "      &          96.4500,95.8500,94.8800,94.4300,94.3500,93.8900,92.7700,91.8000, &\n",
      "      &          89.9100,88.7500,88.1200,89.6800,89.6800,89.7700,89.9700,89.1300, &\n",
      "      &          87.6100,85.0000,82.3500,74.5200,77.1700,76.8600,77.2700,74.8700, &\n",
      "      &          77.4700,76.8800,76.4300,75.8600,74.5900,61.7500,37.8400,29.8200, &\n",
      "      &          24.6900,21.5400,22.6300,22.5200,26.4100,30.2400,31.3000,29.8100, &\n",
      "      &          38.3700,39.9100,44.5500,45.4400,48.1000,47.6000,50.6900,48.8400, &\n",
      "      &          54.3200,54.1100,58.2900,54.3900,42.8400,30.6200,21.8000,17.0900, &\n",
      "      &          13.1000,11.5700,10.7700,11.4300,13.1000,13.9300,16.1600,19.2700, &\n",
      "      &          23.3200,30.1500,33.6400,36.3600,42.9300,45.2900,44.8100,44.6270, &\n",
      "      &          44.3670,43.9150,43.1890,42.4020,41.5460,40.5780,39.5140,38.5920, &\n",
      "      &          37.5950,36.7300,36.0610,35.4250,34.8330,34.3620,33.9210,33.4940, &\n",
      "      &          33.0580,32.5890,32.2120,31.7630,31.2970,30.7930,30.3990,29.9280, &\n",
      "      &          29.4600,29.0930,28.7330,28.3170,28.0200,27.8230,27.2890,26.9050, &\n",
      "      &          26.5540,25.5460,25.2000,24.9680,24.2820,23.6230,23.6260,22.2990, &\n",
      "      &          20.3970,17.7890,17.0400,15.3660,13.2290,11.0160,8.6760,6.9260, &\n",
      "      &          5.0290,3.6090,2.3960,1.6780,1.1630,0.8170,0.6280,0.5170, &\n",
      "      &          0.4450,0.3990,0.4280,0.3970,0.3170,0.3320,0.3370,0.4230, &\n",
      "      &          0.4670,0.4730,0.5180,0.5350,0.5950,0.6970,0.6530,0.7080, &\n",
      "      &          0.6880,0.7380,0.8300,0.9270,0.9670,1.0520,1.2250,1.2870, &\n",
      "      &          1.3040,1.4070,1.4520,1.3820,1.3320,1.2720,1.2650,1.1980, &\n",
      "      &          1.2280,1.2300,1.1730,1.1640,1.1680,1.1420,1.1120,1.1040, &\n",
      "      &          1.0980,1.0460,1.0140,1.0180,1.0420,1.0280,1.0100,1.0400, &\n",
      "      &          1.0940,1.1160,1.1030,1.1640,1.2700,1.3470,1.4240,1.5080, &\n",
      "      &          1.6080,1.7360,1.9200,2.0830,2.2860,2.5200,2.7940,3.0780, &\n",
      "      &          3.3620,3.7360,4.1500,4.5150,4.8880,5.3260,5.7980,6.2700, &\n",
      "      &          6.7550,7.2150,7.6830,8.1750,8.6350,9.0680,9.5020,9.9300, &\n",
      "      &          10.3380,10.6880,10.9950,11.2900,11.5300,11.7170,11.8600,11.9430, &\n",
      "      &          11.9820,12.0000,11.9600,11.8520,11.7270,11.5650,11.3500,11.1670, &\n",
      "      &          10.9530,10.6770,10.3950,10.1270,9.8870,9.6270,9.3700,9.1070, &\n",
      "      &          8.8370,8.5780,8.3500,8.1330,7.9030,7.7100,7.5150,7.3200, &\n",
      "      &          7.1400,6.9350,6.7470,6.5700,6.3780,6.2070,6.0730,5.9330, &\n",
      "      &          5.7800,5.6400,5.5200,5.4000,5.2700,5.1470,5.0200,4.8800, &\n",
      "      &          4.7600,4.6830,4.6200,4.5700,4.5070,4.4270,4.3470,4.2570, &\n",
      "      &          4.1500,4.0500,3.9670,3.8700,3.7850,3.7170,3.6400,3.5600, &\n",
      "      &          3.4600,3.3400,3.2470,3.1800,3.1000,2.9800,2.8600,2.7700, &\n",
      "      &          2.7200,2.6670,2.5830,2.4900,2.4300,2.3800,2.3300,2.2800, &\n",
      "      &          2.2200,2.1700,2.1550,2.1470,2.1250,2.1000,2.0800,2.0900, &\n",
      "      &          2.1100,2.1350,2.1600,2.1950,2.2370,2.2750,2.3200,2.3850, &\n",
      "      &          2.4630,2.5500,2.6400,2.7500,2.8700,2.9850,3.0750,3.1870, &\n",
      "      &          3.3050,3.4370,3.5800,3.7000,3.8400,3.9900,4.1100,4.2570, &\n",
      "      &          4.4000,4.5250,4.6800,4.8200,4.9250,5.0250,5.1530,5.2900, &\n",
      "      &          5.4050,5.5150,5.6150,5.7370,5.8500,5.9450,6.0350,6.1350, &\n",
      "      &          6.2400,6.3300,6.4000,6.4700,6.5400,6.6000,6.6550,6.7100, &\n",
      "      &          6.7770,6.8400,6.8750,6.8950,6.9150,6.9350,6.9550,6.9850, &\n",
      "      &          6.9900,6.9850,6.9600,6.9350,6.9150,6.8950,6.8600,6.8050, &\n",
      "      &          6.7450,6.6950,6.6450,6.5950,6.5300,6.4500,6.3700,6.3100, &\n",
      "      &          6.2600,6.1900,6.1200,6.0350,5.9450,5.8400,5.7300,5.6500, &\n",
      "      &          5.5800,5.4950,5.4050,5.2950,5.1550,5.0500,4.9650,4.8800, &\n",
      "      &          4.8100,4.7250,4.6500,4.5550,4.4400,4.3350,4.2600,4.1850, &\n",
      "      &          4.0750,3.9650,3.9000,3.8400,3.7500,3.6800,3.6000,3.4900, &\n",
      "      &          3.3750,3.2800,3.1900,3.0800,3.0100,2.9650,2.9000,2.8300, &\n",
      "      &          2.7400,2.6050,2.5000,2.4250,2.3600,2.3100,2.2400,2.1800, &\n",
      "      &          2.1200,2.0500,1.9900,1.9050,1.8400,1.7650,1.7000,1.6550, &\n",
      "      &          1.6200,1.5850,1.5500,1.5000,1.4400,1.4000,1.3750,1.3400, &\n",
      "      &          1.2900,1.2300,1.1750,1.1300,1.1050,1.0900,1.0700,1.0500, &\n",
      "      &          1.0400,1.0250,1.0100,1.0050,1.0000,1.0000,1.0000,0.9950, &\n",
      "      &          0.9700,0.9500,0.9100,0.8800,0.8600,0.8600,0.8750,0.9000, &\n",
      "      &          0.9100,0.9350,0.9600,0.9700,0.9800,0.9800,0.9800,0.9700, &\n",
      "      &          0.9600,0.9600,0.9600,0.9600,0.9750,0.9900,1.0000,1.0250, &\n",
      "      &          1.0400,1.0500,1.0650,1.0700,1.0700,1.0650,1.0500,1.0500, &\n",
      "      &          1.0500,1.0500,1.0600,1.0600,1.0550,1.0400,1.0300,1.0100, &\n",
      "      &          1.0100,1.0200,1.0300,1.0500,1.0650,1.0800,1.0800,1.0900, &\n",
      "      &          1.1150,1.1500,1.1700,1.1900,1.2000,1.2100,1.2100,1.2000, &\n",
      "      &          1.1900,1.1800,1.1650,1.1500,1.1500,1.1500,1.1600,1.1800, &\n",
      "      &          1.2200,1.2400,1.2700,1.2900,1.3000,1.3200,1.3350,1.3500, &\n",
      "      &          1.3600,1.3600,1.3600,1.3500,1.3500,1.3400,1.3400,1.3400, &\n",
      "      &          1.3500,1.3500,1.3500,1.3600,1.3600,1.3600,1.3800,1.4100, &\n",
      "      &          1.4300,1.4500,1.4700,1.4800,1.4900,1.4900,1.4900,1.4900, &\n",
      "      &          1.4800,1.4800,1.4800,1.4700,1.4700,1.4700,1.4800,1.4900, &\n",
      "      &          1.5100,1.5300,1.5500,1.5700,1.5800,1.5800,1.5800,1.5800, &\n",
      "      &          1.5700,1.5700,1.5700,1.5800,1.5900,1.6100,1.6300,1.6600, &\n",
      "      &          1.6800,1.7000,1.7200,1.7300,1.7300,1.7300,1.7400,1.7400, &\n",
      "      &          1.7400,1.7500,1.7600,1.7800,1.8000,1.8200,1.8500,1.8700, &\n",
      "      &          1.8900,1.9100,1.9200,1.9300,1.9300,1.9400,1.9500,1.9600, &\n",
      "      &          1.9700,1.9900,2.0000,2.0100,2.0200,2.0300,2.0400,2.0500, &\n",
      "      &          2.0600,2.0800,2.1000,2.1300,2.1500,2.1700,2.1900,2.1900, &\n",
      "      &          2.2000,2.2000,2.2000,2.2000,2.2000,2.2100,2.2200,2.2300, &\n",
      "      &          2.2500,2.2600,2.2800,2.3000,2.3100,2.3300,2.3400,2.3600, &\n",
      "      &          2.3700,2.3800,2.3900,2.3900,2.4000,2.4000,2.4100,2.4200, &\n",
      "      &          2.4300,2.4500,2.4600,2.4700,2.4800,2.4800,2.4900,2.4900, &\n",
      "      &          2.4900,2.5000,2.5000,2.5100,2.5200,2.5200,2.5300,2.5400, &\n",
      "      &          2.5500,2.5500,2.5600,2.5700,2.5700,2.5700,2.5700,2.5700, &\n",
      "      &          2.5700,2.5700,2.5700,2.5700,2.5800,2.5800,2.5800,2.5800, &\n",
      "      &          2.5800,2.5700,2.5700,2.5600,2.5600,2.5500,2.5600,2.5600, &\n",
      "      &          2.5600,2.5600,2.5600,2.5600,2.5600,2.5500,2.5500,2.5500, &\n",
      "      &          2.5500,2.5400,2.5400,2.5300,2.5200,2.5000,2.4800,2.4700, &\n",
      "      &          2.4500,2.4400,2.4400,2.4400,2.4400,2.4400,2.4500,2.4500, &\n",
      "      &          2.4500,2.4500,2.4400,2.4300,2.4100,2.3900,2.3800,2.3600, &\n",
      "      &          2.3500,2.3400,2.3300,2.3200,2.3200,2.3200,2.3100,2.3100, &\n",
      "      &          2.3100,2.3100,2.3000,2.3000,2.2900,2.2900,2.2900,2.2900, &\n",
      "      &          2.2900,2.3000,2.3000,2.3100,2.3300,2.3400,2.3600,2.3800, &\n",
      "      &          2.3900,2.4000,2.4100,2.4100,2.4200,2.4200,2.4200,2.4300, &\n",
      "      &          2.4500,2.4800,2.5100,2.5500,2.5900,2.6300,2.6700,2.7100, &\n",
      "      &          2.7400,2.7700,2.7900,2.8000,2.7900,2.7800,2.7600,2.7300, &\n",
      "      &          2.7000,2.6700,2.6500,2.6200,2.5800,2.5400,2.5000,2.4400, &\n",
      "      &          2.3900,2.3300,2.2800,2.2300,2.1700,2.1200,2.0600,2.0000, &\n",
      "      &          1.9300,1.8600,1.7900,1.7100,1.6500,1.5800,1.5200,1.4700, &\n",
      "      &          1.4100,1.3600,1.3100,1.2600,1.2100,1.1500,1.1000,1.0400, &\n",
      "      &          0.9900,0.9300,0.8800,0.8300,0.7800,0.7400,0.7100,0.6900, &\n",
      "      &          0.6700,0.6600,0.6500,0.6400,0.6400,0.6300,0.6200,0.6100, &\n",
      "      &          0.6000,0.5800,0.5700,0.5600,0.5600,0.5600,0.5600,0.5700, &\n",
      "      &          0.5800,0.5900,0.6000,0.6100,0.6200,0.6300,0.6400,0.6500, &\n",
      "      &          0.6700,0.6800,0.6900,0.7000,0.7100,0.7200,0.7200,0.7200, &\n",
      "      &          0.7200,0.7100,0.7100,0.7100,0.7100,0.7100,0.7200,0.7300, &\n",
      "      &          0.7400,0.7500,0.7700,0.7700,0.7800,0.7800,0.7900,0.8000, &\n",
      "      &          0.8100,0.8200,0.8300,0.8500,0.8600,0.8700,0.8800,0.8800, &\n",
      "      &          0.8800,0.8800,0.8700,0.8700,0.8800,0.8800,0.8900,0.9000, &\n",
      "      &          0.9000,0.9100,0.9200,0.9200,0.9300,0.9400,0.9500,0.9600, &\n",
      "      &          0.9700,0.9800,0.9900,1.0000,1.0000,1.0000,0.9900,0.9900, &\n",
      "      &          0.9900,0.9900,1.0000,1.0100,1.0200,1.0300,1.0400,1.0500, &\n",
      "      &          1.0500,1.0500,1.0500,1.0600,1.0700,1.0900,1.1100,1.1200, &\n",
      "      &          1.1400,1.1400,1.1400,1.1300,1.1100,1.1000,1.0800,1.0800, &\n",
      "      &          1.0800,1.0900,1.1000,1.1200,1.1300,1.1400,1.1500,1.1600, &\n",
      "      &          1.1700,1.1700,1.1800,1.1800,1.1800,1.1800,1.1800,1.1900, &\n",
      "      &          1.2,1.22,1.24,1.25,1.26 /)\n"
     ]
    }
   ],
   "source": [
    "print spectext"
   ]
  },
  {
   "cell_type": "code",
   "execution_count": 15,
   "metadata": {},
   "outputs": [],
   "source": [
    "newfilename = filename[:-4] + \"_f90.txt\"\n",
    "with open(newfilename,\"w\") as fileobj:\n",
    "    fileobj.write(wvtext+'\\n\\n\\n'+spectext+'\\n')"
   ]
  },
  {
   "cell_type": "code",
   "execution_count": 16,
   "metadata": {},
   "outputs": [],
   "source": [
    "wvref = np.loadtxt(\"wvref.txt\")"
   ]
  },
  {
   "cell_type": "code",
   "execution_count": 17,
   "metadata": {},
   "outputs": [
    {
     "name": "stdout",
     "output_type": "stream",
     "text": [
      "(965,)\n"
     ]
    }
   ],
   "source": [
    "print wvref.shape"
   ]
  },
  {
   "cell_type": "code",
   "execution_count": 18,
   "metadata": {},
   "outputs": [],
   "source": [
    "specinterp = np.interp(wvref,spec[0,:],spec[1,:])"
   ]
  },
  {
   "cell_type": "code",
   "execution_count": 19,
   "metadata": {},
   "outputs": [
    {
     "data": {
      "image/png": "[encoded data removed]",
      "text/plain": [
       "<Figure size 432x288 with 1 Axes>"
      ]
     },
     "metadata": {},
     "output_type": "display_data"
    }
   ],
   "source": [
    "plt.plot(wvref,specinterp)\n",
    "plt.xscale('log')\n",
    "plt.ylabel(\"Reflectance [%]\")\n",
    "plt.xlabel(\"Wavelength [$\\mu$m]\")\n",
    "plt.title(specvar+\" Interpolated Spectrum\")\n",
    "plt.savefig(specvar+\"_spec.png\",bbox_inches='tight')"
   ]
  },
  {
   "cell_type": "code",
   "execution_count": 20,
   "metadata": {},
   "outputs": [
    {
     "name": "stdout",
     "output_type": "stream",
     "text": [
      "0 andesitefine.npy\n",
      "1 andesitesolid.npy\n",
      "2 basaltsolid.npy\n",
      "3 brownsand.npy\n",
      "4 clearice.npy\n",
      "5 coarsesnow.npy\n",
      "6 dunesand.npy\n",
      "7 finesnow.npy\n",
      "8 frost.npy\n",
      "9 mediumsnow.npy\n",
      "10 seafoam.npy\n",
      "11 seawater.npy\n",
      "12 tapwater.npy\n",
      "13 yellowloam.npy\n",
      "14 yellowsand.npy\n"
     ]
    }
   ],
   "source": [
    "names = sorted(manifest.keys())\n",
    "ix = 0\n",
    "for n in names:\n",
    "    print ix,n+\".npy\"\n",
    "    filename = manifest[n]\n",
    "    spec = np.loadtxt(filename,skiprows=nhead,ndmin=2).transpose()\n",
    "    if spec[0,0]>spec[0,-1]:\n",
    "        spec = np.flip(spec,axis=1)\n",
    "    specinterp = np.interp(wvref,spec[0,:],spec[1,:])\n",
    "    np.save(n+\".npy\",specinterp)\n",
    "    ix+=1"
   ]
  },
  {
   "cell_type": "code",
   "execution_count": 85,
   "metadata": {},
   "outputs": [],
   "source": [
    "def bbtemp(teff,wvref):\n",
    "    sbk = 5.67e-8\n",
    "    const = 0.0143877735383\n",
    "    bbf = 1.0/wvref**5 * (1.0/(np.exp(const/(teff*wvref*1e-6))-1))\n",
    "    return bbf"
   ]
  },
  {
   "cell_type": "code",
   "execution_count": 86,
   "metadata": {},
   "outputs": [],
   "source": [
    "alb1 = np.zeros(100)\n",
    "alb2 = np.zeros(100)\n",
    "albb = np.zeros(100)\n",
    "teffs = np.linspace(2700,6000,num=100)"
   ]
  },
  {
   "cell_type": "code",
   "execution_count": 87,
   "metadata": {},
   "outputs": [
    {
     "data": {
      "text/plain": [
       "2.5"
      ]
     },
     "execution_count": 87,
     "metadata": {},
     "output_type": "execute_result"
    }
   ],
   "source": [
    "wvref[144]"
   ]
  },
  {
   "cell_type": "code",
   "execution_count": 88,
   "metadata": {},
   "outputs": [],
   "source": [
    "for n in range(100):\n",
    "    bbf = bbtemp(teffs[n],wvref)\n",
    "    refl = specinterp*0.01*bbf\n",
    "    alb1[n] = np.trapz(refl[:42],x=wvref[:42])/np.trapz(bbf[:42],x=wvref[:42])\n",
    "    alb2[n] = np.trapz(refl[42:145],x=wvref[42:145])/np.trapz(bbf[42:145],x=wvref[42:145])\n",
    "    albb[n] = np.trapz(refl[:145],x=wvref[:145])/np.trapz(bbf[:145],x=wvref[:145])"
   ]
  },
  {
   "cell_type": "code",
   "execution_count": 89,
   "metadata": {},
   "outputs": [
    {
     "data": {
      "image/png": "[encoded data removed]",
      "text/plain": [
       "<Figure size 432x288 with 1 Axes>"
      ]
     },
     "metadata": {},
     "output_type": "display_data"
    }
   ],
   "source": [
    "plt.plot(teffs,alb1,label=\"$\\lambda<{0.75}$ $\\mu$m\")\n",
    "plt.plot(teffs,alb2,label=\"$\\lambda>{0.75}$ $\\mu$m\")\n",
    "plt.plot(teffs,albb,label='Bolometric albedo')\n",
    "plt.legend(loc='best')\n",
    "plt.xlabel(\"Star T$_{eff}$ [K]\")\n",
    "plt.ylabel(\"Albedo\")\n",
    "plt.title(specvar+\" albedo with different stars\")\n",
    "plt.savefig(specvar+\"_bolometric.png\",bbox_inches='tight')"
   ]
  },
  {
   "cell_type": "code",
   "execution_count": 90,
   "metadata": {},
   "outputs": [],
   "source": [
    "specinttext = \"       real :: %s(%d) = (/\"%(specvar,len(wvref))\n",
    "specinttext += \",\".join(specinterp[:8].astype(str)) + \", &\\n\"\n",
    "n=8\n",
    "while n+8<len(wvref):\n",
    "    specinttext += \"      &          \" + \",\".join([\"%.4f\" % number for number in specinterp[n:n+8]]) + \", &\\n\"\n",
    "    n+=8\n",
    "specinttext += \"      &          \" + \",\".join([\"%.4f\" % number for number in specinterp[n:]]) + \" /)\""
   ]
  },
  {
   "cell_type": "code",
   "execution_count": 91,
   "metadata": {},
   "outputs": [],
   "source": [
    "newfilename = filename[:-4] + \"_interp_f90.txt\"\n",
    "with open(newfilename,\"w\") as fileobj:\n",
    "    fileobj.write(specinttext+'\\n')"
   ]
  },
  {
   "cell_type": "code",
   "execution_count": 92,
   "metadata": {},
   "outputs": [
    {
     "name": "stdout",
     "output_type": "stream",
     "text": [
      "       real :: yellowsand(965) = (/6.1194,6.1194,6.1194,6.1194,6.1194,6.1194,6.1194,6.9417, &\n",
      "      &          8.0376,9.3933,11.2766,11.9520,13.3281,14.3174,14.9080,16.0590, &\n",
      "      &          17.2038,18.5642,20.0252,21.3940,22.6925,24.3339,26.2849,27.7566, &\n",
      "      &          29.0090,30.2331,30.9989,31.5968,32.1206,32.4586,33.2450,34.1891, &\n",
      "      &          34.3265,34.3631,35.8576,35.7599,36.4042,36.9823,37.6007,38.2968, &\n",
      "      &          38.7377,38.8535,39.2669,39.9837,40.4056,39.8143,40.9090,40.8105, &\n",
      "      &          40.7389,40.5671,40.4624,40.4742,40.6690,41.1419,41.5888,41.7093, &\n",
      "      &          42.2422,42.8659,43.6164,43.6460,43.5234,44.4220,44.3332,45.1770, &\n",
      "      &          44.8486,45.2835,45.9013,47.0442,47.5354,48.3201,48.9724,49.0585, &\n",
      "      &          49.4269,50.1219,50.3526,49.4998,47.7265,48.4400,49.9716,50.8082, &\n",
      "      &          52.2555,52.2310,53.2972,53.8315,54.2061,54.7272,54.9443,55.0136, &\n",
      "      &          55.6588,55.7810,55.9787,56.0047,56.1478,56.7919,56.9461,56.7802, &\n",
      "      &          56.8709,57.1509,57.0058,56.3903,51.6067,44.3037,45.3673,48.1010, &\n",
      "      &          49.7444,50.7393,52.3563,53.5934,54.3198,54.2909,55.0803,55.0980, &\n",
      "      &          54.9907,54.7312,53.6705,52.5755,50.5613,51.0244,51.2747,51.1959, &\n",
      "      &          51.4158,51.3827,50.7718,49.6980,48.9723,48.4226,48.1402,47.8148, &\n",
      "      &          47.4368,47.2071,47.2314,47.0775,46.4654,46.0555,45.9630,45.7415, &\n",
      "      &          45.4120,44.9625,44.3660,43.9675,43.6396,43.2366,42.8817,42.4800, &\n",
      "      &          42.1288,41.8381,41.5328,41.1722,40.8957,40.4410,39.6397,39.4101, &\n",
      "      &          38.9402,38.1479,38.0580,37.7433,36.8001,35.9950,36.5243,34.8749, &\n",
      "      &          32.7851,28.6959,25.7537,17.9752,9.4796,7.9622,6.9339,5.7815, &\n",
      "      &          4.5895,4.1075,3.5739,3.9403,4.1849,4.4180,4.5800,4.7379, &\n",
      "      &          4.9361,5.1396,5.2529,5.3288,5.3275,5.3039,5.2590,5.2172, &\n",
      "      &          5.1701,5.1089,5.1031,5.1085,5.1089,5.1722,5.1970,5.2913, &\n",
      "      &          5.4141,5.5328,5.6595,5.8162,5.9113,6.0447,6.1446,6.2794, &\n",
      "      &          6.3508,6.4610,6.6072,6.7649,6.9472,7.1999,7.4662,7.7725, &\n",
      "      &          8.1429,8.4907,8.8966,9.2597,9.6959,10.1361,10.5427,10.9691, &\n",
      "      &          11.4508,11.8716,12.3387,12.7937,13.2408,13.7205,14.2431,14.7399, &\n",
      "      &          15.2335,15.7476,16.2346,16.6753,17.0669,17.3888,17.6635,17.9101, &\n",
      "      &          18.1609,18.5836,18.8029,18.8505,19.2246,20.0119,20.8497,21.4928, &\n",
      "      &          22.0118,22.3734,22.7264,23.0911,23.3016,23.9043,24.9234,25.7017, &\n",
      "      &          26.2503,26.7409,27.2157,27.6590,28.0602,28.4706,28.8680,29.2410, &\n",
      "      &          29.5789,29.9130,30.2307,30.5157,30.7891,31.0117,31.1945,31.3555, &\n",
      "      &          31.5032,31.6452,31.8025,31.9870,32.1871,32.4204,32.6791,32.9264, &\n",
      "      &          33.1743,33.3676,33.4940,33.5729,33.6121,33.6135,33.6094,33.6281, &\n",
      "      &          33.7078,33.8090,33.9013,34.0229,34.1125,34.1516,34.1541,34.0712, &\n",
      "      &          33.8546,33.5001,33.1325,32.8611,32.7304,32.7815,32.9628,33.1712, &\n",
      "      &          33.3536,33.4919,33.5904,33.6384,33.6282,33.5417,33.3924,33.2199, &\n",
      "      &          33.0249,32.7889,32.5275,32.2860,32.0611,31.8369,31.6081,31.3570, &\n",
      "      &          31.0893,30.8224,30.5980,30.4410,30.2984,30.1095,29.8585,29.5207, &\n",
      "      &          29.1334,28.8032,28.5621,28.3356,28.1054,27.9000,27.6844,27.3993, &\n",
      "      &          27.0362,26.6251,26.1758,25.6930,25.1885,24.6732,24.1924,23.7703, &\n",
      "      &          23.3890,23.0300,22.6883,22.3244,21.9561,21.6706,21.4949,21.3845, &\n",
      "      &          21.3473,21.4139,21.5221,21.5888,21.5916,21.5274,21.3905,21.1812, &\n",
      "      &          20.9278,20.6566,20.3638,20.0296,19.6738,19.2897,18.8871,18.4856, &\n",
      "      &          18.0956,17.7438,17.4976,17.4117,17.4453,17.4814,17.4448,17.3390, &\n",
      "      &          17.1905,17.0093,16.7983,16.5812,16.3995,16.2538,16.1167,15.9694, &\n",
      "      &          15.8015,15.6025,15.3755,15.1236,14.8377,14.5023,14.1083,13.6637, &\n",
      "      &          13.2044,12.7872,12.4740,12.2577,12.0857,11.8908,11.6510,11.3897, &\n",
      "      &          11.1547,10.9692,10.8167,10.6752,10.5463,10.4423,10.3543,10.2654, &\n",
      "      &          10.1643,10.0589,9.9600,9.8690,9.7724,9.6597,9.5266,9.3746, &\n",
      "      &          9.2215,9.0913,8.9945,8.9116,8.8149,8.6806,8.5127,8.3241, &\n",
      "      &          8.1362,7.9495,7.7613,7.5787,7.4121,7.2586,7.1174,6.9948, &\n",
      "      &          6.9082,6.8516,6.7940,6.7066,6.5969,6.5041,6.4692,6.4823, &\n",
      "      &          6.5118,6.5280,6.5184,6.4976,6.4918,6.5047,6.5016,6.4400, &\n",
      "      &          6.3303,6.2166,6.1298,6.0569,5.9661,5.8488,5.7157,5.5854, &\n",
      "      &          5.4603,5.3365,5.2189,5.1295,5.0879,5.0950,5.1148,5.1146, &\n",
      "      &          5.0801,5.0369,5.0186,5.0456,5.1031,5.1616,5.1906,5.1813, &\n",
      "      &          5.1422,5.0953,5.0520,5.0032,4.9311,4.8361,4.7470,4.7042, &\n",
      "      &          4.6987,4.6841,4.6164,4.4965,4.3769,4.2947,4.2376,4.1547, &\n",
      "      &          4.0094,3.8262,3.6627,3.5578,3.4998,3.4398,3.3444,3.2236, &\n",
      "      &          3.1154,3.0398,2.9845,2.9308,2.8723,2.8195,2.7795,2.7400, &\n",
      "      &          2.6820,2.5971,2.5032,2.4317,2.4047,2.4096,2.4244,2.4269, &\n",
      "      &          2.4153,2.4082,2.4211,2.4586,2.5053,2.5462,2.5729,2.5964, &\n",
      "      &          2.6302,2.6872,2.7622,2.8445,2.9208,2.9845,3.0372,3.0869, &\n",
      "      &          3.1384,3.1939,3.2511,3.3078,3.3581,3.3939,3.4116,3.4149, &\n",
      "      &          3.4187,3.4390,3.4780,3.5182,3.5325,3.5107,3.4642,3.4293, &\n",
      "      &          3.4370,3.4881,3.5575,3.5949,3.5762,3.5055,3.4128,3.3409, &\n",
      "      &          3.3118,3.3188,3.3386,3.3432,3.3174,3.2725,3.2285,3.2028, &\n",
      "      &          3.2019,3.2105,3.2091,3.1883,3.1528,3.1175,3.0991,3.1000, &\n",
      "      &          3.1109,3.1186,3.1156,3.1033,3.0903,3.0836,3.0834,3.0824, &\n",
      "      &          3.0711,3.0432,2.9983,2.9462,2.8983,2.8625,2.8406,2.8265, &\n",
      "      &          2.8114,2.7890,2.7592,2.7279,2.7045,2.6945,2.6973,2.7065, &\n",
      "      &          2.7142,2.7130,2.6989,2.6734,2.6419,2.6112,2.5869,2.5711, &\n",
      "      &          2.5620,2.5538,2.5415,2.5226,2.4992,2.4760,2.4597,2.4540, &\n",
      "      &          2.4580,2.4669,2.4742,2.4749,2.4669,2.4503,2.4288,2.4053, &\n",
      "      &          2.3821,2.3600,2.3389,2.3204,2.3052,2.2931,2.2848,2.2790, &\n",
      "      &          2.2736,2.2658,2.2543,2.2388,2.2200,2.1999,2.1793,2.1599, &\n",
      "      &          2.1410,2.1229,2.1060,2.0909,2.0780,2.0674,2.0588,2.0508, &\n",
      "      &          2.0421,2.0177,2.0015,1.9833,1.9644,1.9464,1.9313,1.9197, &\n",
      "      &          1.9121,1.9076,1.9055,1.9037,1.9010,1.8965,1.8826,1.8741, &\n",
      "      &          1.8658,1.8586,1.8529,1.8484,1.8454,1.8435,1.8425,1.8427, &\n",
      "      &          1.8492,1.8560,1.8652,1.8766,1.8881,1.8993,1.9098,1.9290, &\n",
      "      &          1.9390,1.9504,1.9643,1.9807,1.9988,2.0392,2.0613,2.0855, &\n",
      "      &          2.1136,2.1469,2.1865,2.2890,2.3534,2.4270,2.5103,2.6027, &\n",
      "      &          2.8101,2.9234,3.0438,3.1699,3.4365,3.5764,3.7222,3.8765, &\n",
      "      &          4.2154,4.4021,4.6007,4.8164,5.2817,5.5298,5.7869,6.0503, &\n",
      "      &          6.5821,6.8447,7.1010,7.3448,7.7874,7.9836,8.1536,8.4424, &\n",
      "      &          8.5641,8.6695,8.8482,8.9250,8.9931,9.0515,9.1444,9.1775, &\n",
      "      &          9.2013,9.2290,9.2319,9.2158,9.1987,9.1736,9.1067,9.0680, &\n",
      "      &          9.0270,8.9487,8.9137,8.8842,8.8315,8.8036,8.7145,8.6465, &\n",
      "      &          8.5456,8.2835,8.1251,7.8272,7.7096,7.6179,7.6354,7.7173, &\n",
      "      &          7.9512,8.0911,8.3442,8.4400,8.5670,8.5999,8.6262,8.6271, &\n",
      "      &          8.6149,8.6045,8.5732,8.5524,8.4944,8.4570,8.3620,8.3058, &\n",
      "      &          8.1820,8.1178,7.9981,7.9474,7.8693,7.8475,7.8277,7.8503, &\n",
      "      &          7.8725,7.9406,7.9838,8.0841,8.1985,8.2582,8.3827,8.4462, &\n",
      "      &          8.5762,8.7124,8.7821,8.9262,8.9994,9.1445,9.2803,9.3421, &\n",
      "      &          9.4514,9.5312,9.5599,9.5968,9.6039,9.5981,9.5751,9.5391, &\n",
      "      &          9.4967,9.4742,9.4271,9.3744,9.3446,9.2754,9.1905,9.0861, &\n",
      "      &          9.0282,8.9030,8.7677,8.6224,8.4678,8.3866,8.2165,8.0375, &\n",
      "      &          7.8529,7.6692,7.5804,7.4114,7.2603,7.1310,7.0251,6.9370, &\n",
      "      &          6.8612,6.8256,6.7529,6.6744,6.5856,6.4867,6.3781,6.2627, &\n",
      "      &          6.1435,6.0223,5.9015,5.7846,5.6746,5.5735,5.4820,5.3989, &\n",
      "      &          5.3214,5.2839,5.1704,5.0933,5.0154,4.9386,4.8656,4.7978, &\n",
      "      &          4.7355,4.6788,4.6257,4.5746,4.5234,4.4717,4.4192,4.3675, &\n",
      "      &          4.3176,4.2502,4.2118,4.1784,4.1491,4.1226,4.0969,4.0555, &\n",
      "      &          4.0253,3.9935,3.9611,3.9301,3.8906,3.8699,3.8549,3.8464, &\n",
      "      &          3.8422,3.8436,3.8471,3.8510,3.8543,3.8539,3.8511,3.8434, &\n",
      "      &          3.8364,3.8280,3.8128,3.8010,3.7878,3.7666,3.7524,3.7323, &\n",
      "      &          3.7192,3.6976,3.6807,3.6602,3.6253,3.6002,3.5642,3.5433, &\n",
      "      &          3.5184,3.5060,3.4904,3.4810,3.4671,3.4524,3.4423,3.4269, &\n",
      "      &          3.4168,3.4003,3.3808,3.3652,3.3361,3.2985,3.2694,3.2207, &\n",
      "      &          3.1682,3.1333,3.0824,3.0347,2.9894,2.9600,2.9158,2.8705, &\n",
      "      &          2.8228,2.7893,2.7346,2.6722,2.6003,2.5200,2.4396,2.3711, &\n",
      "      &          2.3388,2.3216,2.3482,2.4157,2.5102,2.6082,2.6850,2.7231, &\n",
      "      &          2.7169,2.6762,2.6215,2.5771,2.5627,2.6025,2.6693,2.7503, &\n",
      "      &          2.8245,2.8732,2.8842,2.8589,2.7842,2.7104,2.6337,2.5632, &\n",
      "      &          2.4857,2.4409,2.4073,2.3834,2.3616,2.3502,2.3389,2.3218, &\n",
      "      &          2.3057,2.2797,2.2570,2.2255,2.2015,2.1704,2.1473,2.1171, &\n",
      "      &          2.0945,2.0630,2.0380,2.0039,1.9798,1.9519,1.9327,1.9244, &\n",
      "      &          1.9166,1.9056,1.8813,1.8502,1.7862 /)\n"
     ]
    }
   ],
   "source": [
    "print specinttext"
   ]
  },
  {
   "cell_type": "code",
   "execution_count": null,
   "metadata": {},
   "outputs": [],
   "source": []
  },
  {
   "cell_type": "code",
   "execution_count": null,
   "metadata": {},
   "outputs": [],
   "source": []
  },
  {
   "cell_type": "code",
   "execution_count": null,
   "metadata": {},
   "outputs": [],
   "source": []
  }
 ],
 "metadata": {
  "kernelspec": {
   "display_name": "Python 2",
   "language": "python",
   "name": "python2"
  },
  "language_info": {
   "codemirror_mode": {
    "name": "ipython",
    "version": 2
   },
   "file_extension": ".py",
   "mimetype": "text/x-python",
   "name": "python",
   "nbconvert_exporter": "python",
   "pygments_lexer": "ipython2",
   "version": "2.7.12"
  }
 },
 "nbformat": 4,
 "nbformat_minor": 2
}
