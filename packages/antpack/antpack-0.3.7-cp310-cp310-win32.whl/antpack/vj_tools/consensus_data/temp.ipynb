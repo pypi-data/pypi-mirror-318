{
 "cells": [
  {
   "cell_type": "code",
   "execution_count": 7,
   "id": "35b1a0c3-0e2d-46c5-b615-b203e9644818",
   "metadata": {},
   "outputs": [],
   "source": [
    "import os, gzip\n",
    "import numpy as np"
   ]
  },
  {
   "cell_type": "code",
   "execution_count": 46,
   "id": "507fb6f3-7a3f-4822-8acd-f7792a993b72",
   "metadata": {},
   "outputs": [],
   "source": [
    "keepers = []\n",
    "for f in os.listdir():\n",
    "    if \"IGHV\" in f:\n",
    "        with gzip.open(f, \"rt\") as fh:\n",
    "            for l in fh:\n",
    "                if l.startswith(\">\") or len(l) < 10:\n",
    "                    continue\n",
    "                keepers.append(l[32:34])"
   ]
  },
  {
   "cell_type": "code",
   "execution_count": 47,
   "id": "51519d03-964d-474d-b910-23c40a1bf82b",
   "metadata": {},
   "outputs": [
    {
     "data": {
      "text/plain": [
       "array(['--', '-N', '-S', '-T'], dtype='<U2')"
      ]
     },
     "execution_count": 47,
     "metadata": {},
     "output_type": "execute_result"
    }
   ],
   "source": [
    "np.unique(keepers)"
   ]
  },
  {
   "cell_type": "code",
   "execution_count": null,
   "id": "25e1348c-2052-42ce-a812-bde14c0733aa",
   "metadata": {},
   "outputs": [],
   "source": []
  }
 ],
 "metadata": {
  "kernelspec": {
   "display_name": "Python 3 (ipykernel)",
   "language": "python",
   "name": "python3"
  },
  "language_info": {
   "codemirror_mode": {
    "name": "ipython",
    "version": 3
   },
   "file_extension": ".py",
   "mimetype": "text/x-python",
   "name": "python",
   "nbconvert_exporter": "python",
   "pygments_lexer": "ipython3",
   "version": "3.10.12"
  }
 },
 "nbformat": 4,
 "nbformat_minor": 5
}
